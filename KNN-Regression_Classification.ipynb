{
 "cells": [
  {
   "cell_type": "markdown",
   "id": "6cd1388d",
   "metadata": {},
   "source": [
    "### Question 1:  MNIST dataset (20)\n",
    "\n",
    "This dataset consists of images of handwritten digits (0-9), and the task is to classify each image into the appropriate digit category. "
   ]
  },
  {
   "cell_type": "code",
   "execution_count": 114,
   "id": "5719a8d9",
   "metadata": {},
   "outputs": [
    {
     "name": "stdout",
     "output_type": "stream",
     "text": [
      ".. _digits_dataset:\n",
      "\n",
      "Optical recognition of handwritten digits dataset\n",
      "--------------------------------------------------\n",
      "\n",
      "**Data Set Characteristics:**\n",
      "\n",
      "    :Number of Instances: 1797\n",
      "    :Number of Attributes: 64\n",
      "    :Attribute Information: 8x8 image of integer pixels in the range 0..16.\n",
      "    :Missing Attribute Values: None\n",
      "    :Creator: E. Alpaydin (alpaydin '@' boun.edu.tr)\n",
      "    :Date: July; 1998\n",
      "\n",
      "This is a copy of the test set of the UCI ML hand-written digits datasets\n",
      "https://archive.ics.uci.edu/ml/datasets/Optical+Recognition+of+Handwritten+Digits\n",
      "\n",
      "The data set contains images of hand-written digits: 10 classes where\n",
      "each class refers to a digit.\n",
      "\n",
      "Preprocessing programs made available by NIST were used to extract\n",
      "normalized bitmaps of handwritten digits from a preprinted form. From a\n",
      "total of 43 people, 30 contributed to the training set and different 13\n",
      "to the test set. 32x32 bitmaps are divided into nonoverlapping blocks of\n",
      "4x4 and the number of on pixels are counted in each block. This generates\n",
      "an input matrix of 8x8 where each element is an integer in the range\n",
      "0..16. This reduces dimensionality and gives invariance to small\n",
      "distortions.\n",
      "\n",
      "For info on NIST preprocessing routines, see M. D. Garris, J. L. Blue, G.\n",
      "T. Candela, D. L. Dimmick, J. Geist, P. J. Grother, S. A. Janet, and C.\n",
      "L. Wilson, NIST Form-Based Handprint Recognition System, NISTIR 5469,\n",
      "1994.\n",
      "\n",
      ".. topic:: References\n",
      "\n",
      "  - C. Kaynak (1995) Methods of Combining Multiple Classifiers and Their\n",
      "    Applications to Handwritten Digit Recognition, MSc Thesis, Institute of\n",
      "    Graduate Studies in Science and Engineering, Bogazici University.\n",
      "  - E. Alpaydin, C. Kaynak (1998) Cascading Classifiers, Kybernetika.\n",
      "  - Ken Tang and Ponnuthurai N. Suganthan and Xi Yao and A. Kai Qin.\n",
      "    Linear dimensionalityreduction using relevance weighted LDA. School of\n",
      "    Electrical and Electronic Engineering Nanyang Technological University.\n",
      "    2005.\n",
      "  - Claudio Gentile. A New Approximate Maximal Margin Classification\n",
      "    Algorithm. NIPS. 2000.\n",
      "\n"
     ]
    }
   ],
   "source": [
    "import numpy as np\n",
    "from sklearn import datasets\n",
    "from sklearn.model_selection import train_test_split\n",
    "from sklearn.neighbors import KNeighborsClassifier\n",
    "from sklearn.metrics import accuracy_score\n",
    "\n",
    "# Load the MNIST dataset\n",
    "digits = datasets.load_digits()\n",
    "\n",
    "# Split the data into features (X) and labels (y)\n",
    "X = digits.data\n",
    "y = digits.target\n",
    "\n",
    "print(digits.DESCR)"
   ]
  },
  {
   "cell_type": "markdown",
   "id": "ce6d2f1d",
   "metadata": {},
   "source": [
    "1. Split the data into training and testing data, each with 50% and use the random_state as 5220. Use the K = 5 in the KNN and print the accuracy. "
   ]
  },
  {
   "cell_type": "code",
   "execution_count": 115,
   "id": "b56ec73e",
   "metadata": {},
   "outputs": [
    {
     "name": "stdout",
     "output_type": "stream",
     "text": [
      "Accuracy without scaling: 0.9799777530589544\n",
      "Accuracy with scaling: 0.4883203559510567\n"
     ]
    }
   ],
   "source": [
    "from sklearn.preprocessing import StandardScaler\n",
    "X_train, X_test, y_train, y_test = train_test_split(X, y, test_size=0.5, random_state=5220)\n",
    "k=5\n",
    "\n",
    "knn_model = KNeighborsClassifier(n_neighbors=k)\n",
    "knn_model.fit(X_train, y_train)\n",
    "y_pred = knn_model.predict(X_test)\n",
    "accuracy = accuracy_score(y_test, y_pred)\n",
    "print(\"Accuracy without scaling:\", accuracy)\n",
    "\n",
    "\n",
    "scaler = StandardScaler()\n",
    "X_train_scaled = scaler.fit_transform(X_train)\n",
    "X_test_scaled = scaler.transform(X_test)\n",
    "knn_model1 = KNeighborsClassifier(n_neighbors=k)\n",
    "knn_model1.fit(X_train_scaled, y_train)\n",
    "\n",
    "y_pred1 = knn_model.predict(X_test_scaled)\n",
    "\n",
    "accuracy = accuracy_score(y_test, y_pred1)\n",
    "print(\"Accuracy with scaling:\", accuracy)\n",
    "\n",
    "\n"
   ]
  },
  {
   "cell_type": "markdown",
   "id": "24ab1e5c",
   "metadata": {},
   "source": [
    "### Question 2:  KNN with regression (40)\n",
    "\n",
    "Following is a simulation data with three features. "
   ]
  },
  {
   "cell_type": "code",
   "execution_count": 116,
   "id": "e7851632",
   "metadata": {},
   "outputs": [],
   "source": [
    "import numpy as np\n",
    "import matplotlib.pyplot as plt\n",
    "from sklearn.datasets import make_regression\n",
    "from sklearn.model_selection import train_test_split, GridSearchCV\n",
    "from sklearn.neighbors import KNeighborsRegressor\n",
    "from sklearn.metrics import mean_squared_error\n",
    "\n",
    "# Generate a random regression dataset\n",
    "X, y = make_regression(n_samples=1000, n_features=3, noise=20, random_state=5220)\n",
    "y = y + np.sin(X[:, 0] * 3) + X[:, 1] ** 2\n",
    "\n",
    "# Split the data into training and test sets\n",
    "X_train, X_test, y_train, y_test = train_test_split(X, y, test_size=0.2, random_state=5220)\n",
    "\n",
    "from sklearn.preprocessing import StandardScaler\n",
    "\n",
    "scaler = StandardScaler()\n",
    "X_train_scaled = scaler.fit_transform(X_train)\n",
    "X_test_scaled = scaler.transform(X_test)\n",
    "\n"
   ]
  },
  {
   "cell_type": "markdown",
   "id": "4d43a5f0",
   "metadata": {},
   "source": [
    "1. Fit a KNN model. Tune the parameter of K and distance metric (Euclidean and Manhattan). Print the MSE with the best parameter. (20) "
   ]
  },
  {
   "cell_type": "code",
   "execution_count": 117,
   "id": "64d4eb65",
   "metadata": {},
   "outputs": [
    {
     "name": "stdout",
     "output_type": "stream",
     "text": [
      "Best Parameters: {'metric': 'euclidean', 'n_neighbors': 5}\n",
      "Best Score: 0.9200838289251372\n",
      "Mean Squared Error: 650.5991705065901\n"
     ]
    }
   ],
   "source": [
    "from sklearn.model_selection import GridSearchCV\n",
    "\n",
    "from sklearn.metrics import mean_squared_error\n",
    "\n",
    "\n",
    "# Define the parameter grid for tuning\n",
    "param_grid = {'n_neighbors': range(1,26),\n",
    "              'metric': ['euclidean', 'manhattan']}\n",
    "\n",
    "# Fit KNN model with grid search for parameter tuning\n",
    "knn_model = KNeighborsRegressor()\n",
    "grid_search = GridSearchCV(knn_model, param_grid, cv=5)\n",
    "grid_search.fit(X_train_scaled, y_train)\n",
    "\n",
    "best_params = grid_search.best_params_\n",
    "best_score = grid_search.best_score_\n",
    "\n",
    "print(\"Best Parameters:\", best_params)\n",
    "print(\"Best Score:\", best_score)\n",
    "\n",
    "# Fit KNN model with the best parameters\n",
    "best_knn_regressor = KNeighborsRegressor(n_neighbors=best_params['n_neighbors'], metric=best_params['metric'])\n",
    "best_knn_regressor.fit(X_train_scaled, y_train)\n",
    "\n",
    "y_pred1 = best_knn_regressor.predict(X_test_scaled)\n",
    "\n",
    "mse = mean_squared_error(y_test, y_pred1)\n",
    "print(\"Mean Squared Error:\", mse)\n",
    "\n",
    "\n",
    "\n",
    "\n"
   ]
  },
  {
   "cell_type": "code",
   "execution_count": 118,
   "id": "d4e8c0c2",
   "metadata": {},
   "outputs": [
    {
     "data": {
      "text/plain": [
       "200"
      ]
     },
     "execution_count": 118,
     "metadata": {},
     "output_type": "execute_result"
    }
   ],
   "source": [
    "len(X_test_scaled)"
   ]
  },
  {
   "cell_type": "code",
   "execution_count": 119,
   "id": "3eb86348",
   "metadata": {},
   "outputs": [
    {
     "data": {
      "text/plain": [
       "200"
      ]
     },
     "execution_count": 119,
     "metadata": {},
     "output_type": "execute_result"
    }
   ],
   "source": [
    "len(y_test)"
   ]
  },
  {
   "cell_type": "code",
   "execution_count": 120,
   "id": "d340ff12",
   "metadata": {},
   "outputs": [
    {
     "data": {
      "text/plain": [
       "200"
      ]
     },
     "execution_count": 120,
     "metadata": {},
     "output_type": "execute_result"
    }
   ],
   "source": [
    "len(y_pred1)"
   ]
  },
  {
   "cell_type": "markdown",
   "id": "533305da",
   "metadata": {},
   "source": [
    "2. Plot and compare the true and predicted values. You can plot two figures, one with the first feature and y value, the other one with the second feature and y value. (15)"
   ]
  },
  {
   "cell_type": "code",
   "execution_count": 121,
   "id": "8c69c03e",
   "metadata": {},
   "outputs": [
    {
     "data": {
      "text/plain": [
       "<matplotlib.legend.Legend at 0x269f3fece88>"
      ]
     },
     "execution_count": 121,
     "metadata": {},
     "output_type": "execute_result"
    },
    {
     "data": {
      "image/png": "[encoded data removed]",
      "text/plain": [
       "<Figure size 864x432 with 1 Axes>"
      ]
     },
     "metadata": {
      "needs_background": "light"
     },
     "output_type": "display_data"
    }
   ],
   "source": [
    "import seaborn as sns\n",
    "import matplotlib.pyplot as plt\n",
    "import pandas as pd\n",
    "\n",
    "plt.figure(figsize=(12, 6))\n",
    "plt.subplot(1, 2, 1)\n",
    "plt.scatter(X_test_scaled[:, 0], y_test, c='b', label='True')\n",
    "plt.scatter(X_test_scaled[:, 0], y_pred1, c='g',marker='o', label='Predicted')\n",
    "plt.xlabel('First Feature (X[:, 0])')\n",
    "plt.ylabel('Target (y)')\n",
    "plt.title('True vs. Predicted (Feature 1)')\n",
    "plt.legend()\n"
   ]
  },
  {
   "cell_type": "code",
   "execution_count": 122,
   "id": "fcbeefc3",
   "metadata": {},
   "outputs": [
    {
     "data": {
      "text/plain": [
       "<matplotlib.legend.Legend at 0x269f407efc8>"
      ]
     },
     "execution_count": 122,
     "metadata": {},
     "output_type": "execute_result"
    },
    {
     "data": {
      "image/png": "[encoded data removed]",
      "text/plain": [
       "<Figure size 864x432 with 1 Axes>"
      ]
     },
     "metadata": {
      "needs_background": "light"
     },
     "output_type": "display_data"
    }
   ],
   "source": [
    "import seaborn as sns\n",
    "import matplotlib.pyplot as plt\n",
    "import pandas as pd\n",
    "\n",
    "plt.figure(figsize=(12, 6))\n",
    "plt.subplot(1, 2, 1)\n",
    "plt.scatter(X_test_scaled[:, 1], y_test, c='b', label='True')\n",
    "plt.scatter(X_test_scaled[:, 1], y_pred1, c='g',marker='o', label='Predicted')\n",
    "plt.xlabel('Second Feature (X[:, 1])')\n",
    "plt.ylabel('Target (y)')\n",
    "plt.title('True vs. Predicted (Feature 2)')\n",
    "plt.legend()\n"
   ]
  },
  {
   "cell_type": "code",
   "execution_count": null,
   "id": "091acce0",
   "metadata": {},
   "outputs": [],
   "source": [
    "#We get better predictions for feature 1 compared to feature 2."
   ]
  },
  {
   "cell_type": "markdown",
   "id": "59a6451a",
   "metadata": {},
   "source": [
    "3. Repeat the simulation process (part 1 and 2) with the number of feature equal to 10. (15)"
   ]
  },
  {
   "cell_type": "code",
   "execution_count": 123,
   "id": "7ddfd9be",
   "metadata": {},
   "outputs": [],
   "source": [
    "import numpy as np\n",
    "import matplotlib.pyplot as plt\n",
    "from sklearn.datasets import make_regression\n",
    "from sklearn.model_selection import train_test_split, GridSearchCV\n",
    "from sklearn.neighbors import KNeighborsRegressor\n",
    "from sklearn.metrics import mean_squared_error\n",
    "\n",
    "# Generate a random regression dataset\n",
    "X, y = make_regression(n_samples=1000, n_features=10, noise=20, random_state=5220)\n",
    "y = y + np.sin(X[:, 0] * 3) + X[:, 1] ** 2\n",
    "\n",
    "# Split the data into training and test sets\n",
    "X_train, X_test, y_train, y_test = train_test_split(X, y, test_size=0.2, random_state=5220)\n",
    "\n",
    "from sklearn.preprocessing import StandardScaler\n",
    "\n",
    "scaler = StandardScaler()\n",
    "X_train_scaled = scaler.fit_transform(X_train)\n",
    "X_test_scaled = scaler.transform(X_test)\n",
    "\n"
   ]
  },
  {
   "cell_type": "code",
   "execution_count": 124,
   "id": "bc19724d",
   "metadata": {},
   "outputs": [
    {
     "name": "stdout",
     "output_type": "stream",
     "text": [
      "Best Parameters: {'metric': 'euclidean', 'n_neighbors': 5}\n",
      "Best Score: 0.7772512846364165\n",
      "Mean Squared Error: 8928.452330656846\n"
     ]
    }
   ],
   "source": [
    "from sklearn.model_selection import GridSearchCV\n",
    "\n",
    "from sklearn.metrics import mean_squared_error\n",
    "\n",
    "\n",
    "# Define the parameter grid for tuning\n",
    "param_grid = {'n_neighbors': range(1,26),\n",
    "              'metric': ['euclidean', 'manhattan']}\n",
    "\n",
    "# Fit KNN model with grid search for parameter tuning\n",
    "knn_model = KNeighborsRegressor()\n",
    "grid_search = GridSearchCV(knn_model, param_grid, cv=5)\n",
    "grid_search.fit(X_train_scaled, y_train)\n",
    "\n",
    "# Get the best parameters and best score from the grid search\n",
    "best_params = grid_search.best_params_\n",
    "best_score = grid_search.best_score_\n",
    "\n",
    "print(\"Best Parameters:\", best_params)\n",
    "print(\"Best Score:\", best_score)\n",
    "\n",
    "# Fit KNN model with the best parameters\n",
    "best_knn_regressor = KNeighborsRegressor(n_neighbors=best_params['n_neighbors'], metric=best_params['metric'])\n",
    "best_knn_regressor.fit(X_train_scaled, y_train)\n",
    "y_pred = best_knn_regressor.predict(X_test_scaled)\n",
    "\n",
    "mse = mean_squared_error(y_test, y_pred)\n",
    "print(\"Mean Squared Error:\", mse)\n",
    "\n",
    "\n",
    "\n",
    "\n"
   ]
  },
  {
   "cell_type": "code",
   "execution_count": 125,
   "id": "cdba236c",
   "metadata": {},
   "outputs": [
    {
     "data": {
      "text/plain": [
       "<matplotlib.legend.Legend at 0x269f3fc4dc8>"
      ]
     },
     "execution_count": 125,
     "metadata": {},
     "output_type": "execute_result"
    },
    {
     "data": {
      "image/png": "[encoded data removed]",
      "text/plain": [
       "<Figure size 864x432 with 1 Axes>"
      ]
     },
     "metadata": {
      "needs_background": "light"
     },
     "output_type": "display_data"
    }
   ],
   "source": [
    "plt.figure(figsize=(12, 6))\n",
    "plt.subplot(1, 2, 1)\n",
    "plt.scatter(X_test_scaled[:, 0], y_test, c='b', label='True')\n",
    "plt.scatter(X_test_scaled[:, 0], y_pred, c='g',marker='o', label='Predicted')\n",
    "plt.xlabel('First Feature (X[:, 0])')\n",
    "plt.ylabel('Target (y)')\n",
    "plt.title('True vs. Predicted (Feature 1)')\n",
    "plt.legend()\n"
   ]
  },
  {
   "cell_type": "code",
   "execution_count": 126,
   "id": "e6178898",
   "metadata": {},
   "outputs": [
    {
     "data": {
      "text/plain": [
       "<matplotlib.legend.Legend at 0x269f3da3ac8>"
      ]
     },
     "execution_count": 126,
     "metadata": {},
     "output_type": "execute_result"
    },
    {
     "data": {
      "image/png": "[encoded data removed]",
      "text/plain": [
       "<Figure size 864x432 with 1 Axes>"
      ]
     },
     "metadata": {
      "needs_background": "light"
     },
     "output_type": "display_data"
    }
   ],
   "source": [
    "import seaborn as sns\n",
    "import matplotlib.pyplot as plt\n",
    "import pandas as pd\n",
    "\n",
    "plt.figure(figsize=(12, 6))\n",
    "plt.subplot(1, 2, 1)\n",
    "plt.scatter(X_test_scaled[:, 1], y_test, c='b', label='True')\n",
    "plt.scatter(X_test_scaled[:, 1], y_pred, c='g',marker='o', label='Predicted')\n",
    "plt.xlabel('Second Feature (X[:, 1])')\n",
    "plt.ylabel('Target (y)')\n",
    "plt.title('True vs. Predicted (Feature 2)')\n",
    "plt.legend()\n"
   ]
  },
  {
   "cell_type": "markdown",
   "id": "2272bbad",
   "metadata": {},
   "source": [
    "### Question 3: Implement KNN algorithm (40)\n",
    "\n",
    "In the code demonstration, we show you how to use the KNN function in the sklearn. However, KNN is also easy to implement. Try to complete the the following code to implement the KNN algorithm and verify with the simulaiton data. "
   ]
  },
  {
   "cell_type": "code",
   "execution_count": 132,
   "id": "91853eec",
   "metadata": {},
   "outputs": [],
   "source": [
    "import numpy as np\n",
    "from collections import Counter\n",
    "\n",
    "# Define the KNN function with L2 (Euclidean) distance\n",
    "def knn_predict(X_train, y_train, X_test, k=5):\n",
    "    y_pred = []\n",
    "    for x in X_test:\n",
    "        #Considering Euclidean distance\n",
    "        distances = [np.linalg.norm(x - x_train) for x_train in X_train]\n",
    "        \n",
    "        \n",
    "        indices = np.argsort(distances)[:k]\n",
    "        \n",
    "       \n",
    "        k_nearest_labels = [y_train[i] for i in indices]\n",
    "        \n",
    "       \n",
    "        unique_label, counts = np.unique(k_nearest_labels, return_counts=True)\n",
    "        most_common = unique_label[np.argmax(counts)]\n",
    "        y_pred.append(most_common)\n",
    "    \n",
    "    return np.array(y_pred)\n"
   ]
  },
  {
   "cell_type": "code",
   "execution_count": 133,
   "id": "b7c7a1d8",
   "metadata": {},
   "outputs": [],
   "source": [
    "# Generate random simulation data\n",
    "np.random.seed(5220)\n",
    "X = np.random.rand(100, 2)  # 100 data points with 2 features\n",
    "y = np.random.choice([0, 1], size=100)  # Binary classification labels\n",
    "\n",
    "# Split the data into training and testing sets (70% train, 30% test)\n",
    "from sklearn.model_selection import train_test_split\n",
    "X_train, X_test, y_train, y_test = train_test_split(X, y, test_size=0.3, random_state=5220)\n",
    "\n",
    "from sklearn.preprocessing import StandardScaler\n",
    "\n",
    "scaler = StandardScaler()\n",
    "X_train_scaled = scaler.fit_transform(X_train)\n",
    "X_test_scaled = scaler.transform(X_test)\n"
   ]
  },
  {
   "cell_type": "code",
   "execution_count": 134,
   "id": "c4bb3193",
   "metadata": {},
   "outputs": [
    {
     "name": "stdout",
     "output_type": "stream",
     "text": [
      "Accuracy Using our function: 63.33%\n"
     ]
    }
   ],
   "source": [
    "\n",
    "k = 5  # Set the number of neighbors\n",
    "y_pred = knn_predict(X_train, y_train, X_test, k)\n",
    "\n",
    "# Calculate accuracy\n",
    "accuracy = np.mean(y_pred == y_test) * 100\n",
    "print(f\"Accuracy Using our function: {accuracy:.2f}%\")"
   ]
  },
  {
   "cell_type": "code",
   "execution_count": 136,
   "id": "7c221133",
   "metadata": {},
   "outputs": [
    {
     "name": "stdout",
     "output_type": "stream",
     "text": [
      "Accuracy on the test data using model: 0.6333333333333333\n"
     ]
    }
   ],
   "source": [
    "from sklearn.neighbors import KNeighborsClassifier\n",
    "from sklearn.metrics import accuracy_score\n",
    "# Make predictions using KNN\n",
    "k_value = 5\n",
    "\n",
    "# Evaluate the accuracy of the model\n",
    "knn_model1 = KNeighborsClassifier(n_neighbors=k_value)\n",
    "knn_model1.fit(X_train_scaled, y_train)\n",
    "y_pred1 = knn_model1.predict(X_test_scaled)\n",
    "accuracy = accuracy_score(y_test, y_pred1)\n",
    "print(f\"Accuracy on the test data using model: {accuracy}\")"
   ]
  },
  {
   "cell_type": "code",
   "execution_count": null,
   "id": "2f4cd147",
   "metadata": {},
   "outputs": [],
   "source": []
  }
 ],
 "metadata": {
  "kernelspec": {
   "display_name": "Python 3 (ipykernel)",
   "language": "python",
   "name": "python3"
  },
  "language_info": {
   "codemirror_mode": {
    "name": "ipython",
    "version": 3
   },
   "file_extension": ".py",
   "mimetype": "text/x-python",
   "name": "python",
   "nbconvert_exporter": "python",
   "pygments_lexer": "ipython3",
   "version": "3.11.5"
  }
 },
 "nbformat": 4,
 "nbformat_minor": 5
}
