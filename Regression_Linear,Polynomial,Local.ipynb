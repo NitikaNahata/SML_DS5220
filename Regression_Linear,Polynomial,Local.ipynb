{
 "cells": [
  {
   "cell_type": "markdown",
   "id": "e4143ed8",
   "metadata": {
    "id": "X0XsFB7ehdjs"
   },
   "source": [
    "### Question 1: Compare Linear regression, Polynomial regression and local regression (40)\n",
    "\n",
    "The AirQualityUCI data set contains 9358 instances of hourly averaged responses from an array of 5 metal oxide chemical sensors embedded in an Air Quality Chemical Multisensor Device. The device was located on the field in a significantly polluted area, at road level, within an Italian city. Data were recorded from March 2004 to February 2005 (one year) representing the longest freely available recordings of on field deployed air quality chemical sensor devices responses. Ground Truth hourly averaged concentrations for CO, Non Metanic Hydrocarbons, Benzene, Total Nitrogen Oxides (NOx) and Nitrogen Dioxide (NO2) and were provided by a co-located reference certified analyzer."
   ]
  },
  {
   "cell_type": "code",
   "execution_count": 49,
   "id": "2c0825b3",
   "metadata": {
    "colab": {
     "base_uri": "https://localhost:8080/",
     "height": 206
    },
    "id": "3okKnXUphdju",
    "outputId": "1663a754-29bc-45b0-f4b6-adc3e7e61e7e"
   },
   "outputs": [
    {
     "data": {
      "text/html": [
       "<div>\n",
       "<style scoped>\n",
       "    .dataframe tbody tr th:only-of-type {\n",
       "        vertical-align: middle;\n",
       "    }\n",
       "\n",
       "    .dataframe tbody tr th {\n",
       "        vertical-align: top;\n",
       "    }\n",
       "\n",
       "    .dataframe thead th {\n",
       "        text-align: right;\n",
       "    }\n",
       "</style>\n",
       "<table border=\"1\" class=\"dataframe\">\n",
       "  <thead>\n",
       "    <tr style=\"text-align: right;\">\n",
       "      <th></th>\n",
       "      <th>Date</th>\n",
       "      <th>Time</th>\n",
       "      <th>HourlyCO</th>\n",
       "      <th>PT08_S1</th>\n",
       "      <th>NMHC</th>\n",
       "      <th>Benzene</th>\n",
       "      <th>PT08_S2</th>\n",
       "      <th>NOx</th>\n",
       "      <th>PT08_S3</th>\n",
       "      <th>NO2</th>\n",
       "      <th>PT08_S4</th>\n",
       "      <th>PT08_S5</th>\n",
       "      <th>Temp</th>\n",
       "      <th>RelHumidity</th>\n",
       "      <th>AbsHumidity</th>\n",
       "      <th>X</th>\n",
       "      <th>X.1</th>\n",
       "    </tr>\n",
       "  </thead>\n",
       "  <tbody>\n",
       "    <tr>\n",
       "      <td>0</td>\n",
       "      <td>3/10/2004</td>\n",
       "      <td>18:00:00</td>\n",
       "      <td>2.6</td>\n",
       "      <td>1360.0</td>\n",
       "      <td>150.0</td>\n",
       "      <td>11.9</td>\n",
       "      <td>1046.0</td>\n",
       "      <td>166.0</td>\n",
       "      <td>1056.0</td>\n",
       "      <td>113.0</td>\n",
       "      <td>1692.0</td>\n",
       "      <td>1268.0</td>\n",
       "      <td>13.6</td>\n",
       "      <td>48.9</td>\n",
       "      <td>0.7578</td>\n",
       "      <td>NaN</td>\n",
       "      <td>NaN</td>\n",
       "    </tr>\n",
       "    <tr>\n",
       "      <td>1</td>\n",
       "      <td>3/10/2004</td>\n",
       "      <td>19:00:00</td>\n",
       "      <td>2.0</td>\n",
       "      <td>1292.0</td>\n",
       "      <td>112.0</td>\n",
       "      <td>9.4</td>\n",
       "      <td>955.0</td>\n",
       "      <td>103.0</td>\n",
       "      <td>1174.0</td>\n",
       "      <td>92.0</td>\n",
       "      <td>1559.0</td>\n",
       "      <td>972.0</td>\n",
       "      <td>13.3</td>\n",
       "      <td>47.7</td>\n",
       "      <td>0.7255</td>\n",
       "      <td>NaN</td>\n",
       "      <td>NaN</td>\n",
       "    </tr>\n",
       "    <tr>\n",
       "      <td>2</td>\n",
       "      <td>3/10/2004</td>\n",
       "      <td>20:00:00</td>\n",
       "      <td>2.2</td>\n",
       "      <td>1402.0</td>\n",
       "      <td>88.0</td>\n",
       "      <td>9.0</td>\n",
       "      <td>939.0</td>\n",
       "      <td>131.0</td>\n",
       "      <td>1140.0</td>\n",
       "      <td>114.0</td>\n",
       "      <td>1555.0</td>\n",
       "      <td>1074.0</td>\n",
       "      <td>11.9</td>\n",
       "      <td>54.0</td>\n",
       "      <td>0.7502</td>\n",
       "      <td>NaN</td>\n",
       "      <td>NaN</td>\n",
       "    </tr>\n",
       "    <tr>\n",
       "      <td>3</td>\n",
       "      <td>3/10/2004</td>\n",
       "      <td>21:00:00</td>\n",
       "      <td>2.2</td>\n",
       "      <td>1376.0</td>\n",
       "      <td>80.0</td>\n",
       "      <td>9.2</td>\n",
       "      <td>948.0</td>\n",
       "      <td>172.0</td>\n",
       "      <td>1092.0</td>\n",
       "      <td>122.0</td>\n",
       "      <td>1584.0</td>\n",
       "      <td>1203.0</td>\n",
       "      <td>11.0</td>\n",
       "      <td>60.0</td>\n",
       "      <td>0.7867</td>\n",
       "      <td>NaN</td>\n",
       "      <td>NaN</td>\n",
       "    </tr>\n",
       "    <tr>\n",
       "      <td>4</td>\n",
       "      <td>3/10/2004</td>\n",
       "      <td>22:00:00</td>\n",
       "      <td>1.6</td>\n",
       "      <td>1272.0</td>\n",
       "      <td>51.0</td>\n",
       "      <td>6.5</td>\n",
       "      <td>836.0</td>\n",
       "      <td>131.0</td>\n",
       "      <td>1205.0</td>\n",
       "      <td>116.0</td>\n",
       "      <td>1490.0</td>\n",
       "      <td>1110.0</td>\n",
       "      <td>11.2</td>\n",
       "      <td>59.6</td>\n",
       "      <td>0.7888</td>\n",
       "      <td>NaN</td>\n",
       "      <td>NaN</td>\n",
       "    </tr>\n",
       "  </tbody>\n",
       "</table>\n",
       "</div>"
      ],
      "text/plain": [
       "        Date      Time  HourlyCO  PT08_S1   NMHC  Benzene  PT08_S2    NOx  \\\n",
       "0  3/10/2004  18:00:00       2.6   1360.0  150.0     11.9   1046.0  166.0   \n",
       "1  3/10/2004  19:00:00       2.0   1292.0  112.0      9.4    955.0  103.0   \n",
       "2  3/10/2004  20:00:00       2.2   1402.0   88.0      9.0    939.0  131.0   \n",
       "3  3/10/2004  21:00:00       2.2   1376.0   80.0      9.2    948.0  172.0   \n",
       "4  3/10/2004  22:00:00       1.6   1272.0   51.0      6.5    836.0  131.0   \n",
       "\n",
       "   PT08_S3    NO2  PT08_S4  PT08_S5  Temp  RelHumidity  AbsHumidity   X  X.1  \n",
       "0   1056.0  113.0   1692.0   1268.0  13.6         48.9       0.7578 NaN  NaN  \n",
       "1   1174.0   92.0   1559.0    972.0  13.3         47.7       0.7255 NaN  NaN  \n",
       "2   1140.0  114.0   1555.0   1074.0  11.9         54.0       0.7502 NaN  NaN  \n",
       "3   1092.0  122.0   1584.0   1203.0  11.0         60.0       0.7867 NaN  NaN  \n",
       "4   1205.0  116.0   1490.0   1110.0  11.2         59.6       0.7888 NaN  NaN  "
      ]
     },
     "execution_count": 49,
     "metadata": {},
     "output_type": "execute_result"
    }
   ],
   "source": [
    "import pandas as pd\n",
    "\n",
    "# Replace 'your_file.csv' with the actual path to your dataset file.\n",
    "\n",
    "df=pd.DataFrame(pd.read_csv(r'C:\\Users\\nups0\\Downloads\\AirQualityUCI.csv'))\n",
    "\n",
    "df.head()"
   ]
  },
  {
   "cell_type": "code",
   "execution_count": 50,
   "id": "95d70e2f",
   "metadata": {
    "colab": {
     "base_uri": "https://localhost:8080/"
    },
    "id": "0gAXre-Whdjv",
    "outputId": "2943641f-b372-43ba-c9c2-d2151dd07ef7"
   },
   "outputs": [
    {
     "data": {
      "text/plain": [
       "(9471, 17)"
      ]
     },
     "execution_count": 50,
     "metadata": {},
     "output_type": "execute_result"
    }
   ],
   "source": [
    "df.shape"
   ]
  },
  {
   "cell_type": "code",
   "execution_count": 51,
   "id": "dc80a583",
   "metadata": {
    "colab": {
     "base_uri": "https://localhost:8080/"
    },
    "id": "piU7IEnShdjv",
    "outputId": "e302c7b2-4fc4-427f-f4b7-d54390ce4783"
   },
   "outputs": [
    {
     "data": {
      "text/plain": [
       "161007"
      ]
     },
     "execution_count": 51,
     "metadata": {},
     "output_type": "execute_result"
    }
   ],
   "source": [
    "df.size"
   ]
  },
  {
   "cell_type": "markdown",
   "id": "904d1599",
   "metadata": {
    "id": "cgGcwIxJhdjv"
   },
   "source": [
    "1. Remove all the missing values and the first two columns from the data. How many rows and columns we have in the end? Split the data into training(80%) and testing(20%) data."
   ]
  },
  {
   "cell_type": "code",
   "execution_count": 52,
   "id": "6cf08218",
   "metadata": {
    "id": "9kBRXoDGhdjw"
   },
   "outputs": [],
   "source": [
    "df=df.drop(columns=['Date','Time'])\n"
   ]
  },
  {
   "cell_type": "code",
   "execution_count": 53,
   "id": "888f49f9",
   "metadata": {
    "colab": {
     "base_uri": "https://localhost:8080/",
     "height": 424
    },
    "id": "zThe1t_jhdjw",
    "outputId": "d924394c-ca91-4a34-d412-08885e5b6c77"
   },
   "outputs": [
    {
     "data": {
      "text/html": [
       "<div>\n",
       "<style scoped>\n",
       "    .dataframe tbody tr th:only-of-type {\n",
       "        vertical-align: middle;\n",
       "    }\n",
       "\n",
       "    .dataframe tbody tr th {\n",
       "        vertical-align: top;\n",
       "    }\n",
       "\n",
       "    .dataframe thead th {\n",
       "        text-align: right;\n",
       "    }\n",
       "</style>\n",
       "<table border=\"1\" class=\"dataframe\">\n",
       "  <thead>\n",
       "    <tr style=\"text-align: right;\">\n",
       "      <th></th>\n",
       "      <th>HourlyCO</th>\n",
       "      <th>PT08_S1</th>\n",
       "      <th>NMHC</th>\n",
       "      <th>Benzene</th>\n",
       "      <th>PT08_S2</th>\n",
       "      <th>NOx</th>\n",
       "      <th>PT08_S3</th>\n",
       "      <th>NO2</th>\n",
       "      <th>PT08_S4</th>\n",
       "      <th>PT08_S5</th>\n",
       "      <th>Temp</th>\n",
       "      <th>RelHumidity</th>\n",
       "      <th>AbsHumidity</th>\n",
       "      <th>X</th>\n",
       "      <th>X.1</th>\n",
       "    </tr>\n",
       "  </thead>\n",
       "  <tbody>\n",
       "    <tr>\n",
       "      <td>0</td>\n",
       "      <td>2.6</td>\n",
       "      <td>1360.0</td>\n",
       "      <td>150.0</td>\n",
       "      <td>11.9</td>\n",
       "      <td>1046.0</td>\n",
       "      <td>166.0</td>\n",
       "      <td>1056.0</td>\n",
       "      <td>113.0</td>\n",
       "      <td>1692.0</td>\n",
       "      <td>1268.0</td>\n",
       "      <td>13.6</td>\n",
       "      <td>48.9</td>\n",
       "      <td>0.7578</td>\n",
       "      <td>NaN</td>\n",
       "      <td>NaN</td>\n",
       "    </tr>\n",
       "    <tr>\n",
       "      <td>1</td>\n",
       "      <td>2.0</td>\n",
       "      <td>1292.0</td>\n",
       "      <td>112.0</td>\n",
       "      <td>9.4</td>\n",
       "      <td>955.0</td>\n",
       "      <td>103.0</td>\n",
       "      <td>1174.0</td>\n",
       "      <td>92.0</td>\n",
       "      <td>1559.0</td>\n",
       "      <td>972.0</td>\n",
       "      <td>13.3</td>\n",
       "      <td>47.7</td>\n",
       "      <td>0.7255</td>\n",
       "      <td>NaN</td>\n",
       "      <td>NaN</td>\n",
       "    </tr>\n",
       "    <tr>\n",
       "      <td>2</td>\n",
       "      <td>2.2</td>\n",
       "      <td>1402.0</td>\n",
       "      <td>88.0</td>\n",
       "      <td>9.0</td>\n",
       "      <td>939.0</td>\n",
       "      <td>131.0</td>\n",
       "      <td>1140.0</td>\n",
       "      <td>114.0</td>\n",
       "      <td>1555.0</td>\n",
       "      <td>1074.0</td>\n",
       "      <td>11.9</td>\n",
       "      <td>54.0</td>\n",
       "      <td>0.7502</td>\n",
       "      <td>NaN</td>\n",
       "      <td>NaN</td>\n",
       "    </tr>\n",
       "    <tr>\n",
       "      <td>3</td>\n",
       "      <td>2.2</td>\n",
       "      <td>1376.0</td>\n",
       "      <td>80.0</td>\n",
       "      <td>9.2</td>\n",
       "      <td>948.0</td>\n",
       "      <td>172.0</td>\n",
       "      <td>1092.0</td>\n",
       "      <td>122.0</td>\n",
       "      <td>1584.0</td>\n",
       "      <td>1203.0</td>\n",
       "      <td>11.0</td>\n",
       "      <td>60.0</td>\n",
       "      <td>0.7867</td>\n",
       "      <td>NaN</td>\n",
       "      <td>NaN</td>\n",
       "    </tr>\n",
       "    <tr>\n",
       "      <td>4</td>\n",
       "      <td>1.6</td>\n",
       "      <td>1272.0</td>\n",
       "      <td>51.0</td>\n",
       "      <td>6.5</td>\n",
       "      <td>836.0</td>\n",
       "      <td>131.0</td>\n",
       "      <td>1205.0</td>\n",
       "      <td>116.0</td>\n",
       "      <td>1490.0</td>\n",
       "      <td>1110.0</td>\n",
       "      <td>11.2</td>\n",
       "      <td>59.6</td>\n",
       "      <td>0.7888</td>\n",
       "      <td>NaN</td>\n",
       "      <td>NaN</td>\n",
       "    </tr>\n",
       "    <tr>\n",
       "      <td>...</td>\n",
       "      <td>...</td>\n",
       "      <td>...</td>\n",
       "      <td>...</td>\n",
       "      <td>...</td>\n",
       "      <td>...</td>\n",
       "      <td>...</td>\n",
       "      <td>...</td>\n",
       "      <td>...</td>\n",
       "      <td>...</td>\n",
       "      <td>...</td>\n",
       "      <td>...</td>\n",
       "      <td>...</td>\n",
       "      <td>...</td>\n",
       "      <td>...</td>\n",
       "      <td>...</td>\n",
       "    </tr>\n",
       "    <tr>\n",
       "      <td>9466</td>\n",
       "      <td>NaN</td>\n",
       "      <td>NaN</td>\n",
       "      <td>NaN</td>\n",
       "      <td>NaN</td>\n",
       "      <td>NaN</td>\n",
       "      <td>NaN</td>\n",
       "      <td>NaN</td>\n",
       "      <td>NaN</td>\n",
       "      <td>NaN</td>\n",
       "      <td>NaN</td>\n",
       "      <td>NaN</td>\n",
       "      <td>NaN</td>\n",
       "      <td>NaN</td>\n",
       "      <td>NaN</td>\n",
       "      <td>NaN</td>\n",
       "    </tr>\n",
       "    <tr>\n",
       "      <td>9467</td>\n",
       "      <td>NaN</td>\n",
       "      <td>NaN</td>\n",
       "      <td>NaN</td>\n",
       "      <td>NaN</td>\n",
       "      <td>NaN</td>\n",
       "      <td>NaN</td>\n",
       "      <td>NaN</td>\n",
       "      <td>NaN</td>\n",
       "      <td>NaN</td>\n",
       "      <td>NaN</td>\n",
       "      <td>NaN</td>\n",
       "      <td>NaN</td>\n",
       "      <td>NaN</td>\n",
       "      <td>NaN</td>\n",
       "      <td>NaN</td>\n",
       "    </tr>\n",
       "    <tr>\n",
       "      <td>9468</td>\n",
       "      <td>NaN</td>\n",
       "      <td>NaN</td>\n",
       "      <td>NaN</td>\n",
       "      <td>NaN</td>\n",
       "      <td>NaN</td>\n",
       "      <td>NaN</td>\n",
       "      <td>NaN</td>\n",
       "      <td>NaN</td>\n",
       "      <td>NaN</td>\n",
       "      <td>NaN</td>\n",
       "      <td>NaN</td>\n",
       "      <td>NaN</td>\n",
       "      <td>NaN</td>\n",
       "      <td>NaN</td>\n",
       "      <td>NaN</td>\n",
       "    </tr>\n",
       "    <tr>\n",
       "      <td>9469</td>\n",
       "      <td>NaN</td>\n",
       "      <td>NaN</td>\n",
       "      <td>NaN</td>\n",
       "      <td>NaN</td>\n",
       "      <td>NaN</td>\n",
       "      <td>NaN</td>\n",
       "      <td>NaN</td>\n",
       "      <td>NaN</td>\n",
       "      <td>NaN</td>\n",
       "      <td>NaN</td>\n",
       "      <td>NaN</td>\n",
       "      <td>NaN</td>\n",
       "      <td>NaN</td>\n",
       "      <td>NaN</td>\n",
       "      <td>NaN</td>\n",
       "    </tr>\n",
       "    <tr>\n",
       "      <td>9470</td>\n",
       "      <td>NaN</td>\n",
       "      <td>NaN</td>\n",
       "      <td>NaN</td>\n",
       "      <td>NaN</td>\n",
       "      <td>NaN</td>\n",
       "      <td>NaN</td>\n",
       "      <td>NaN</td>\n",
       "      <td>NaN</td>\n",
       "      <td>NaN</td>\n",
       "      <td>NaN</td>\n",
       "      <td>NaN</td>\n",
       "      <td>NaN</td>\n",
       "      <td>NaN</td>\n",
       "      <td>NaN</td>\n",
       "      <td>NaN</td>\n",
       "    </tr>\n",
       "  </tbody>\n",
       "</table>\n",
       "<p>9471 rows × 15 columns</p>\n",
       "</div>"
      ],
      "text/plain": [
       "      HourlyCO  PT08_S1   NMHC  Benzene  PT08_S2    NOx  PT08_S3    NO2  \\\n",
       "0          2.6   1360.0  150.0     11.9   1046.0  166.0   1056.0  113.0   \n",
       "1          2.0   1292.0  112.0      9.4    955.0  103.0   1174.0   92.0   \n",
       "2          2.2   1402.0   88.0      9.0    939.0  131.0   1140.0  114.0   \n",
       "3          2.2   1376.0   80.0      9.2    948.0  172.0   1092.0  122.0   \n",
       "4          1.6   1272.0   51.0      6.5    836.0  131.0   1205.0  116.0   \n",
       "...        ...      ...    ...      ...      ...    ...      ...    ...   \n",
       "9466       NaN      NaN    NaN      NaN      NaN    NaN      NaN    NaN   \n",
       "9467       NaN      NaN    NaN      NaN      NaN    NaN      NaN    NaN   \n",
       "9468       NaN      NaN    NaN      NaN      NaN    NaN      NaN    NaN   \n",
       "9469       NaN      NaN    NaN      NaN      NaN    NaN      NaN    NaN   \n",
       "9470       NaN      NaN    NaN      NaN      NaN    NaN      NaN    NaN   \n",
       "\n",
       "      PT08_S4  PT08_S5  Temp  RelHumidity  AbsHumidity   X  X.1  \n",
       "0      1692.0   1268.0  13.6         48.9       0.7578 NaN  NaN  \n",
       "1      1559.0    972.0  13.3         47.7       0.7255 NaN  NaN  \n",
       "2      1555.0   1074.0  11.9         54.0       0.7502 NaN  NaN  \n",
       "3      1584.0   1203.0  11.0         60.0       0.7867 NaN  NaN  \n",
       "4      1490.0   1110.0  11.2         59.6       0.7888 NaN  NaN  \n",
       "...       ...      ...   ...          ...          ...  ..  ...  \n",
       "9466      NaN      NaN   NaN          NaN          NaN NaN  NaN  \n",
       "9467      NaN      NaN   NaN          NaN          NaN NaN  NaN  \n",
       "9468      NaN      NaN   NaN          NaN          NaN NaN  NaN  \n",
       "9469      NaN      NaN   NaN          NaN          NaN NaN  NaN  \n",
       "9470      NaN      NaN   NaN          NaN          NaN NaN  NaN  \n",
       "\n",
       "[9471 rows x 15 columns]"
      ]
     },
     "execution_count": 53,
     "metadata": {},
     "output_type": "execute_result"
    }
   ],
   "source": [
    "df"
   ]
  },
  {
   "cell_type": "code",
   "execution_count": 54,
   "id": "ccb11922",
   "metadata": {
    "colab": {
     "base_uri": "https://localhost:8080/"
    },
    "id": "dXpCNpURhdjw",
    "outputId": "6e366d7e-3d57-4db0-b7c0-ed7535191ae2"
   },
   "outputs": [
    {
     "data": {
      "text/plain": [
       "HourlyCO       1797\n",
       "PT08_S1         480\n",
       "NMHC           8557\n",
       "Benzene         480\n",
       "PT08_S2         480\n",
       "NOx            1753\n",
       "PT08_S3         480\n",
       "NO2            1756\n",
       "PT08_S4         480\n",
       "PT08_S5         480\n",
       "Temp            480\n",
       "RelHumidity     480\n",
       "AbsHumidity     480\n",
       "X              9471\n",
       "X.1            9471\n",
       "dtype: int64"
      ]
     },
     "execution_count": 54,
     "metadata": {},
     "output_type": "execute_result"
    }
   ],
   "source": [
    "\n",
    "df.isnull().sum()\n"
   ]
  },
  {
   "cell_type": "code",
   "execution_count": 55,
   "id": "64410ce3",
   "metadata": {
    "colab": {
     "base_uri": "https://localhost:8080/",
     "height": 424
    },
    "id": "hAEg_HtNhdjw",
    "outputId": "cc5f7cd0-124a-46f5-f80b-b60027a4b700"
   },
   "outputs": [
    {
     "data": {
      "text/html": [
       "<div>\n",
       "<style scoped>\n",
       "    .dataframe tbody tr th:only-of-type {\n",
       "        vertical-align: middle;\n",
       "    }\n",
       "\n",
       "    .dataframe tbody tr th {\n",
       "        vertical-align: top;\n",
       "    }\n",
       "\n",
       "    .dataframe thead th {\n",
       "        text-align: right;\n",
       "    }\n",
       "</style>\n",
       "<table border=\"1\" class=\"dataframe\">\n",
       "  <thead>\n",
       "    <tr style=\"text-align: right;\">\n",
       "      <th></th>\n",
       "      <th>HourlyCO</th>\n",
       "      <th>PT08_S1</th>\n",
       "      <th>NMHC</th>\n",
       "      <th>Benzene</th>\n",
       "      <th>PT08_S2</th>\n",
       "      <th>NOx</th>\n",
       "      <th>PT08_S3</th>\n",
       "      <th>NO2</th>\n",
       "      <th>PT08_S4</th>\n",
       "      <th>PT08_S5</th>\n",
       "      <th>Temp</th>\n",
       "      <th>RelHumidity</th>\n",
       "      <th>AbsHumidity</th>\n",
       "    </tr>\n",
       "  </thead>\n",
       "  <tbody>\n",
       "    <tr>\n",
       "      <td>0</td>\n",
       "      <td>2.6</td>\n",
       "      <td>1360.0</td>\n",
       "      <td>150.0</td>\n",
       "      <td>11.9</td>\n",
       "      <td>1046.0</td>\n",
       "      <td>166.0</td>\n",
       "      <td>1056.0</td>\n",
       "      <td>113.0</td>\n",
       "      <td>1692.0</td>\n",
       "      <td>1268.0</td>\n",
       "      <td>13.6</td>\n",
       "      <td>48.9</td>\n",
       "      <td>0.7578</td>\n",
       "    </tr>\n",
       "    <tr>\n",
       "      <td>1</td>\n",
       "      <td>2.0</td>\n",
       "      <td>1292.0</td>\n",
       "      <td>112.0</td>\n",
       "      <td>9.4</td>\n",
       "      <td>955.0</td>\n",
       "      <td>103.0</td>\n",
       "      <td>1174.0</td>\n",
       "      <td>92.0</td>\n",
       "      <td>1559.0</td>\n",
       "      <td>972.0</td>\n",
       "      <td>13.3</td>\n",
       "      <td>47.7</td>\n",
       "      <td>0.7255</td>\n",
       "    </tr>\n",
       "    <tr>\n",
       "      <td>2</td>\n",
       "      <td>2.2</td>\n",
       "      <td>1402.0</td>\n",
       "      <td>88.0</td>\n",
       "      <td>9.0</td>\n",
       "      <td>939.0</td>\n",
       "      <td>131.0</td>\n",
       "      <td>1140.0</td>\n",
       "      <td>114.0</td>\n",
       "      <td>1555.0</td>\n",
       "      <td>1074.0</td>\n",
       "      <td>11.9</td>\n",
       "      <td>54.0</td>\n",
       "      <td>0.7502</td>\n",
       "    </tr>\n",
       "    <tr>\n",
       "      <td>3</td>\n",
       "      <td>2.2</td>\n",
       "      <td>1376.0</td>\n",
       "      <td>80.0</td>\n",
       "      <td>9.2</td>\n",
       "      <td>948.0</td>\n",
       "      <td>172.0</td>\n",
       "      <td>1092.0</td>\n",
       "      <td>122.0</td>\n",
       "      <td>1584.0</td>\n",
       "      <td>1203.0</td>\n",
       "      <td>11.0</td>\n",
       "      <td>60.0</td>\n",
       "      <td>0.7867</td>\n",
       "    </tr>\n",
       "    <tr>\n",
       "      <td>4</td>\n",
       "      <td>1.6</td>\n",
       "      <td>1272.0</td>\n",
       "      <td>51.0</td>\n",
       "      <td>6.5</td>\n",
       "      <td>836.0</td>\n",
       "      <td>131.0</td>\n",
       "      <td>1205.0</td>\n",
       "      <td>116.0</td>\n",
       "      <td>1490.0</td>\n",
       "      <td>1110.0</td>\n",
       "      <td>11.2</td>\n",
       "      <td>59.6</td>\n",
       "      <td>0.7888</td>\n",
       "    </tr>\n",
       "    <tr>\n",
       "      <td>...</td>\n",
       "      <td>...</td>\n",
       "      <td>...</td>\n",
       "      <td>...</td>\n",
       "      <td>...</td>\n",
       "      <td>...</td>\n",
       "      <td>...</td>\n",
       "      <td>...</td>\n",
       "      <td>...</td>\n",
       "      <td>...</td>\n",
       "      <td>...</td>\n",
       "      <td>...</td>\n",
       "      <td>...</td>\n",
       "      <td>...</td>\n",
       "    </tr>\n",
       "    <tr>\n",
       "      <td>9466</td>\n",
       "      <td>NaN</td>\n",
       "      <td>NaN</td>\n",
       "      <td>NaN</td>\n",
       "      <td>NaN</td>\n",
       "      <td>NaN</td>\n",
       "      <td>NaN</td>\n",
       "      <td>NaN</td>\n",
       "      <td>NaN</td>\n",
       "      <td>NaN</td>\n",
       "      <td>NaN</td>\n",
       "      <td>NaN</td>\n",
       "      <td>NaN</td>\n",
       "      <td>NaN</td>\n",
       "    </tr>\n",
       "    <tr>\n",
       "      <td>9467</td>\n",
       "      <td>NaN</td>\n",
       "      <td>NaN</td>\n",
       "      <td>NaN</td>\n",
       "      <td>NaN</td>\n",
       "      <td>NaN</td>\n",
       "      <td>NaN</td>\n",
       "      <td>NaN</td>\n",
       "      <td>NaN</td>\n",
       "      <td>NaN</td>\n",
       "      <td>NaN</td>\n",
       "      <td>NaN</td>\n",
       "      <td>NaN</td>\n",
       "      <td>NaN</td>\n",
       "    </tr>\n",
       "    <tr>\n",
       "      <td>9468</td>\n",
       "      <td>NaN</td>\n",
       "      <td>NaN</td>\n",
       "      <td>NaN</td>\n",
       "      <td>NaN</td>\n",
       "      <td>NaN</td>\n",
       "      <td>NaN</td>\n",
       "      <td>NaN</td>\n",
       "      <td>NaN</td>\n",
       "      <td>NaN</td>\n",
       "      <td>NaN</td>\n",
       "      <td>NaN</td>\n",
       "      <td>NaN</td>\n",
       "      <td>NaN</td>\n",
       "    </tr>\n",
       "    <tr>\n",
       "      <td>9469</td>\n",
       "      <td>NaN</td>\n",
       "      <td>NaN</td>\n",
       "      <td>NaN</td>\n",
       "      <td>NaN</td>\n",
       "      <td>NaN</td>\n",
       "      <td>NaN</td>\n",
       "      <td>NaN</td>\n",
       "      <td>NaN</td>\n",
       "      <td>NaN</td>\n",
       "      <td>NaN</td>\n",
       "      <td>NaN</td>\n",
       "      <td>NaN</td>\n",
       "      <td>NaN</td>\n",
       "    </tr>\n",
       "    <tr>\n",
       "      <td>9470</td>\n",
       "      <td>NaN</td>\n",
       "      <td>NaN</td>\n",
       "      <td>NaN</td>\n",
       "      <td>NaN</td>\n",
       "      <td>NaN</td>\n",
       "      <td>NaN</td>\n",
       "      <td>NaN</td>\n",
       "      <td>NaN</td>\n",
       "      <td>NaN</td>\n",
       "      <td>NaN</td>\n",
       "      <td>NaN</td>\n",
       "      <td>NaN</td>\n",
       "      <td>NaN</td>\n",
       "    </tr>\n",
       "  </tbody>\n",
       "</table>\n",
       "<p>9471 rows × 13 columns</p>\n",
       "</div>"
      ],
      "text/plain": [
       "      HourlyCO  PT08_S1   NMHC  Benzene  PT08_S2    NOx  PT08_S3    NO2  \\\n",
       "0          2.6   1360.0  150.0     11.9   1046.0  166.0   1056.0  113.0   \n",
       "1          2.0   1292.0  112.0      9.4    955.0  103.0   1174.0   92.0   \n",
       "2          2.2   1402.0   88.0      9.0    939.0  131.0   1140.0  114.0   \n",
       "3          2.2   1376.0   80.0      9.2    948.0  172.0   1092.0  122.0   \n",
       "4          1.6   1272.0   51.0      6.5    836.0  131.0   1205.0  116.0   \n",
       "...        ...      ...    ...      ...      ...    ...      ...    ...   \n",
       "9466       NaN      NaN    NaN      NaN      NaN    NaN      NaN    NaN   \n",
       "9467       NaN      NaN    NaN      NaN      NaN    NaN      NaN    NaN   \n",
       "9468       NaN      NaN    NaN      NaN      NaN    NaN      NaN    NaN   \n",
       "9469       NaN      NaN    NaN      NaN      NaN    NaN      NaN    NaN   \n",
       "9470       NaN      NaN    NaN      NaN      NaN    NaN      NaN    NaN   \n",
       "\n",
       "      PT08_S4  PT08_S5  Temp  RelHumidity  AbsHumidity  \n",
       "0      1692.0   1268.0  13.6         48.9       0.7578  \n",
       "1      1559.0    972.0  13.3         47.7       0.7255  \n",
       "2      1555.0   1074.0  11.9         54.0       0.7502  \n",
       "3      1584.0   1203.0  11.0         60.0       0.7867  \n",
       "4      1490.0   1110.0  11.2         59.6       0.7888  \n",
       "...       ...      ...   ...          ...          ...  \n",
       "9466      NaN      NaN   NaN          NaN          NaN  \n",
       "9467      NaN      NaN   NaN          NaN          NaN  \n",
       "9468      NaN      NaN   NaN          NaN          NaN  \n",
       "9469      NaN      NaN   NaN          NaN          NaN  \n",
       "9470      NaN      NaN   NaN          NaN          NaN  \n",
       "\n",
       "[9471 rows x 13 columns]"
      ]
     },
     "execution_count": 55,
     "metadata": {},
     "output_type": "execute_result"
    }
   ],
   "source": [
    "df1=df.drop(columns=['X','X.1'])\n",
    "df1"
   ]
  },
  {
   "cell_type": "code",
   "execution_count": 56,
   "id": "03e0bd78",
   "metadata": {
    "colab": {
     "base_uri": "https://localhost:8080/",
     "height": 424
    },
    "id": "VKjAmo-2hdjw",
    "outputId": "9ebd7ec9-5f71-4afd-989d-2a4c10211439"
   },
   "outputs": [
    {
     "data": {
      "text/html": [
       "<div>\n",
       "<style scoped>\n",
       "    .dataframe tbody tr th:only-of-type {\n",
       "        vertical-align: middle;\n",
       "    }\n",
       "\n",
       "    .dataframe tbody tr th {\n",
       "        vertical-align: top;\n",
       "    }\n",
       "\n",
       "    .dataframe thead th {\n",
       "        text-align: right;\n",
       "    }\n",
       "</style>\n",
       "<table border=\"1\" class=\"dataframe\">\n",
       "  <thead>\n",
       "    <tr style=\"text-align: right;\">\n",
       "      <th></th>\n",
       "      <th>HourlyCO</th>\n",
       "      <th>PT08_S1</th>\n",
       "      <th>NMHC</th>\n",
       "      <th>Benzene</th>\n",
       "      <th>PT08_S2</th>\n",
       "      <th>NOx</th>\n",
       "      <th>PT08_S3</th>\n",
       "      <th>NO2</th>\n",
       "      <th>PT08_S4</th>\n",
       "      <th>PT08_S5</th>\n",
       "      <th>Temp</th>\n",
       "      <th>RelHumidity</th>\n",
       "      <th>AbsHumidity</th>\n",
       "    </tr>\n",
       "  </thead>\n",
       "  <tbody>\n",
       "    <tr>\n",
       "      <td>0</td>\n",
       "      <td>2.6</td>\n",
       "      <td>1360.0</td>\n",
       "      <td>150.0</td>\n",
       "      <td>11.9</td>\n",
       "      <td>1046.0</td>\n",
       "      <td>166.0</td>\n",
       "      <td>1056.0</td>\n",
       "      <td>113.0</td>\n",
       "      <td>1692.0</td>\n",
       "      <td>1268.0</td>\n",
       "      <td>13.6</td>\n",
       "      <td>48.9</td>\n",
       "      <td>0.7578</td>\n",
       "    </tr>\n",
       "    <tr>\n",
       "      <td>1</td>\n",
       "      <td>2.0</td>\n",
       "      <td>1292.0</td>\n",
       "      <td>112.0</td>\n",
       "      <td>9.4</td>\n",
       "      <td>955.0</td>\n",
       "      <td>103.0</td>\n",
       "      <td>1174.0</td>\n",
       "      <td>92.0</td>\n",
       "      <td>1559.0</td>\n",
       "      <td>972.0</td>\n",
       "      <td>13.3</td>\n",
       "      <td>47.7</td>\n",
       "      <td>0.7255</td>\n",
       "    </tr>\n",
       "    <tr>\n",
       "      <td>2</td>\n",
       "      <td>2.2</td>\n",
       "      <td>1402.0</td>\n",
       "      <td>88.0</td>\n",
       "      <td>9.0</td>\n",
       "      <td>939.0</td>\n",
       "      <td>131.0</td>\n",
       "      <td>1140.0</td>\n",
       "      <td>114.0</td>\n",
       "      <td>1555.0</td>\n",
       "      <td>1074.0</td>\n",
       "      <td>11.9</td>\n",
       "      <td>54.0</td>\n",
       "      <td>0.7502</td>\n",
       "    </tr>\n",
       "    <tr>\n",
       "      <td>3</td>\n",
       "      <td>2.2</td>\n",
       "      <td>1376.0</td>\n",
       "      <td>80.0</td>\n",
       "      <td>9.2</td>\n",
       "      <td>948.0</td>\n",
       "      <td>172.0</td>\n",
       "      <td>1092.0</td>\n",
       "      <td>122.0</td>\n",
       "      <td>1584.0</td>\n",
       "      <td>1203.0</td>\n",
       "      <td>11.0</td>\n",
       "      <td>60.0</td>\n",
       "      <td>0.7867</td>\n",
       "    </tr>\n",
       "    <tr>\n",
       "      <td>4</td>\n",
       "      <td>1.6</td>\n",
       "      <td>1272.0</td>\n",
       "      <td>51.0</td>\n",
       "      <td>6.5</td>\n",
       "      <td>836.0</td>\n",
       "      <td>131.0</td>\n",
       "      <td>1205.0</td>\n",
       "      <td>116.0</td>\n",
       "      <td>1490.0</td>\n",
       "      <td>1110.0</td>\n",
       "      <td>11.2</td>\n",
       "      <td>59.6</td>\n",
       "      <td>0.7888</td>\n",
       "    </tr>\n",
       "    <tr>\n",
       "      <td>...</td>\n",
       "      <td>...</td>\n",
       "      <td>...</td>\n",
       "      <td>...</td>\n",
       "      <td>...</td>\n",
       "      <td>...</td>\n",
       "      <td>...</td>\n",
       "      <td>...</td>\n",
       "      <td>...</td>\n",
       "      <td>...</td>\n",
       "      <td>...</td>\n",
       "      <td>...</td>\n",
       "      <td>...</td>\n",
       "      <td>...</td>\n",
       "    </tr>\n",
       "    <tr>\n",
       "      <td>1226</td>\n",
       "      <td>4.4</td>\n",
       "      <td>1449.0</td>\n",
       "      <td>501.0</td>\n",
       "      <td>19.5</td>\n",
       "      <td>1282.0</td>\n",
       "      <td>254.0</td>\n",
       "      <td>625.0</td>\n",
       "      <td>133.0</td>\n",
       "      <td>2100.0</td>\n",
       "      <td>1569.0</td>\n",
       "      <td>19.1</td>\n",
       "      <td>61.1</td>\n",
       "      <td>1.3345</td>\n",
       "    </tr>\n",
       "    <tr>\n",
       "      <td>1227</td>\n",
       "      <td>3.1</td>\n",
       "      <td>1363.0</td>\n",
       "      <td>234.0</td>\n",
       "      <td>15.1</td>\n",
       "      <td>1152.0</td>\n",
       "      <td>189.0</td>\n",
       "      <td>684.0</td>\n",
       "      <td>110.0</td>\n",
       "      <td>1951.0</td>\n",
       "      <td>1495.0</td>\n",
       "      <td>18.2</td>\n",
       "      <td>65.4</td>\n",
       "      <td>1.3529</td>\n",
       "    </tr>\n",
       "    <tr>\n",
       "      <td>1228</td>\n",
       "      <td>3.0</td>\n",
       "      <td>1371.0</td>\n",
       "      <td>212.0</td>\n",
       "      <td>14.6</td>\n",
       "      <td>1136.0</td>\n",
       "      <td>174.0</td>\n",
       "      <td>689.0</td>\n",
       "      <td>102.0</td>\n",
       "      <td>1927.0</td>\n",
       "      <td>1471.0</td>\n",
       "      <td>18.1</td>\n",
       "      <td>66.1</td>\n",
       "      <td>1.3579</td>\n",
       "    </tr>\n",
       "    <tr>\n",
       "      <td>1229</td>\n",
       "      <td>3.1</td>\n",
       "      <td>1406.0</td>\n",
       "      <td>275.0</td>\n",
       "      <td>13.7</td>\n",
       "      <td>1107.0</td>\n",
       "      <td>167.0</td>\n",
       "      <td>718.0</td>\n",
       "      <td>108.0</td>\n",
       "      <td>1872.0</td>\n",
       "      <td>1384.0</td>\n",
       "      <td>17.7</td>\n",
       "      <td>66.9</td>\n",
       "      <td>1.3422</td>\n",
       "    </tr>\n",
       "    <tr>\n",
       "      <td>1230</td>\n",
       "      <td>3.5</td>\n",
       "      <td>1425.0</td>\n",
       "      <td>275.0</td>\n",
       "      <td>15.2</td>\n",
       "      <td>1155.0</td>\n",
       "      <td>185.0</td>\n",
       "      <td>709.0</td>\n",
       "      <td>110.0</td>\n",
       "      <td>1936.0</td>\n",
       "      <td>1789.0</td>\n",
       "      <td>17.8</td>\n",
       "      <td>66.8</td>\n",
       "      <td>1.3460</td>\n",
       "    </tr>\n",
       "  </tbody>\n",
       "</table>\n",
       "<p>827 rows × 13 columns</p>\n",
       "</div>"
      ],
      "text/plain": [
       "      HourlyCO  PT08_S1   NMHC  Benzene  PT08_S2    NOx  PT08_S3    NO2  \\\n",
       "0          2.6   1360.0  150.0     11.9   1046.0  166.0   1056.0  113.0   \n",
       "1          2.0   1292.0  112.0      9.4    955.0  103.0   1174.0   92.0   \n",
       "2          2.2   1402.0   88.0      9.0    939.0  131.0   1140.0  114.0   \n",
       "3          2.2   1376.0   80.0      9.2    948.0  172.0   1092.0  122.0   \n",
       "4          1.6   1272.0   51.0      6.5    836.0  131.0   1205.0  116.0   \n",
       "...        ...      ...    ...      ...      ...    ...      ...    ...   \n",
       "1226       4.4   1449.0  501.0     19.5   1282.0  254.0    625.0  133.0   \n",
       "1227       3.1   1363.0  234.0     15.1   1152.0  189.0    684.0  110.0   \n",
       "1228       3.0   1371.0  212.0     14.6   1136.0  174.0    689.0  102.0   \n",
       "1229       3.1   1406.0  275.0     13.7   1107.0  167.0    718.0  108.0   \n",
       "1230       3.5   1425.0  275.0     15.2   1155.0  185.0    709.0  110.0   \n",
       "\n",
       "      PT08_S4  PT08_S5  Temp  RelHumidity  AbsHumidity  \n",
       "0      1692.0   1268.0  13.6         48.9       0.7578  \n",
       "1      1559.0    972.0  13.3         47.7       0.7255  \n",
       "2      1555.0   1074.0  11.9         54.0       0.7502  \n",
       "3      1584.0   1203.0  11.0         60.0       0.7867  \n",
       "4      1490.0   1110.0  11.2         59.6       0.7888  \n",
       "...       ...      ...   ...          ...          ...  \n",
       "1226   2100.0   1569.0  19.1         61.1       1.3345  \n",
       "1227   1951.0   1495.0  18.2         65.4       1.3529  \n",
       "1228   1927.0   1471.0  18.1         66.1       1.3579  \n",
       "1229   1872.0   1384.0  17.7         66.9       1.3422  \n",
       "1230   1936.0   1789.0  17.8         66.8       1.3460  \n",
       "\n",
       "[827 rows x 13 columns]"
      ]
     },
     "execution_count": 56,
     "metadata": {},
     "output_type": "execute_result"
    }
   ],
   "source": [
    "df1=df1.dropna()\n",
    "df1"
   ]
  },
  {
   "cell_type": "code",
   "execution_count": 57,
   "id": "dc4ed7b5",
   "metadata": {
    "id": "01MyEHFFhdjx"
   },
   "outputs": [],
   "source": [
    "y=df1['HourlyCO']\n",
    "X=df1.drop(columns=['HourlyCO'])"
   ]
  },
  {
   "cell_type": "code",
   "execution_count": 58,
   "id": "3932c1d5",
   "metadata": {
    "colab": {
     "base_uri": "https://localhost:8080/"
    },
    "id": "ek8Fdauyhdjx",
    "outputId": "ce44f618-0097-458b-cc5e-5d6396c54816"
   },
   "outputs": [
    {
     "data": {
      "text/plain": [
       "(827,)"
      ]
     },
     "execution_count": 58,
     "metadata": {},
     "output_type": "execute_result"
    }
   ],
   "source": [
    "y.shape"
   ]
  },
  {
   "cell_type": "code",
   "execution_count": 59,
   "id": "0af9e089",
   "metadata": {
    "colab": {
     "base_uri": "https://localhost:8080/"
    },
    "id": "lefK6UMRhdjx",
    "outputId": "cf622487-3592-49e6-a859-219ffa8fc77d"
   },
   "outputs": [
    {
     "data": {
      "text/plain": [
       "0    2.6\n",
       "1    2.0\n",
       "2    2.2\n",
       "3    2.2\n",
       "4    1.6\n",
       "Name: HourlyCO, dtype: float64"
      ]
     },
     "execution_count": 59,
     "metadata": {},
     "output_type": "execute_result"
    }
   ],
   "source": [
    "y.head()"
   ]
  },
  {
   "cell_type": "code",
   "execution_count": 60,
   "id": "03d21567",
   "metadata": {
    "colab": {
     "base_uri": "https://localhost:8080/"
    },
    "id": "m6_Rw12_hdjy",
    "outputId": "ab51991e-46e6-4410-ce1c-dd5c34c29f94"
   },
   "outputs": [
    {
     "data": {
      "text/plain": [
       "(827, 12)"
      ]
     },
     "execution_count": 60,
     "metadata": {},
     "output_type": "execute_result"
    }
   ],
   "source": [
    "X.shape"
   ]
  },
  {
   "cell_type": "code",
   "execution_count": 61,
   "id": "77091b27",
   "metadata": {
    "colab": {
     "base_uri": "https://localhost:8080/"
    },
    "id": "vDc52gvPhdjy",
    "outputId": "e0f9c807-a71b-4521-9a20-420f09febccf"
   },
   "outputs": [
    {
     "name": "stdout",
     "output_type": "stream",
     "text": [
      "X_train shape: (661, 12)\n",
      "X_test shape: (166, 12)\n"
     ]
    }
   ],
   "source": [
    "from sklearn.model_selection import train_test_split\n",
    "X_train, X_test,y_train,y_test = train_test_split(X,y, test_size=0.2,random_state=42)\n",
    "\n",
    "print(\"X_train shape:\", X_train.shape)\n",
    "print(\"X_test shape:\", X_test.shape)"
   ]
  },
  {
   "cell_type": "markdown",
   "id": "f5a2f4cc",
   "metadata": {
    "id": "1lZGQYMVhdjy"
   },
   "source": [
    "2. Suppose we are interested in predicting the HourlyCO in the data, using all the other variables. Fit a linear regression model and report the MSE."
   ]
  },
  {
   "cell_type": "code",
   "execution_count": 62,
   "id": "2600a480",
   "metadata": {
    "id": "O4D02w3rhdjy"
   },
   "outputs": [],
   "source": [
    "from sklearn.linear_model import LinearRegression\n",
    "\n",
    "model = LinearRegression()\n",
    "model.fit(X_train, y_train)\n",
    "y_pred = model.predict(X_train)\n",
    "\n",
    "y_pred_test = model.predict(X_test)\n"
   ]
  },
  {
   "cell_type": "code",
   "execution_count": 63,
   "id": "72b6217e",
   "metadata": {
    "colab": {
     "base_uri": "https://localhost:8080/"
    },
    "id": "rjSPGmM3hdjy",
    "outputId": "e38bf6a6-eb53-4120-ae60-cb1c937c2699"
   },
   "outputs": [
    {
     "data": {
      "text/plain": [
       "(166,)"
      ]
     },
     "execution_count": 63,
     "metadata": {},
     "output_type": "execute_result"
    }
   ],
   "source": [
    "y_pred_test.shape"
   ]
  },
  {
   "cell_type": "code",
   "execution_count": 64,
   "id": "a393ef48",
   "metadata": {
    "colab": {
     "base_uri": "https://localhost:8080/"
    },
    "id": "PXrWEx8Shdjy",
    "outputId": "d94e30c0-bd36-4682-e737-549318a86884"
   },
   "outputs": [
    {
     "data": {
      "text/plain": [
       "(166,)"
      ]
     },
     "execution_count": 64,
     "metadata": {},
     "output_type": "execute_result"
    }
   ],
   "source": [
    "y_test.shape"
   ]
  },
  {
   "cell_type": "code",
   "execution_count": 65,
   "id": "e1a3d5c1",
   "metadata": {
    "colab": {
     "base_uri": "https://localhost:8080/"
    },
    "id": "SyF9cAtAhdjz",
    "outputId": "ca86cde4-4d7a-4910-f624-353465875cea"
   },
   "outputs": [
    {
     "name": "stdout",
     "output_type": "stream",
     "text": [
      "Mean Squared Error (Scikit-Learn): 0.05792529424737942\n"
     ]
    }
   ],
   "source": [
    "from sklearn.metrics import mean_squared_error\n",
    "print(\"Mean Squared Error (Scikit-Learn):\", mean_squared_error(y_test, y_pred_test))"
   ]
  },
  {
   "cell_type": "markdown",
   "id": "6c2c36bc",
   "metadata": {
    "id": "piG5kZjThdjz"
   },
   "source": [
    "3. Now let's fit a another model, still use all variables but fit a polynomial regression model with degree 2. Report the MSE.  "
   ]
  },
  {
   "cell_type": "code",
   "execution_count": 66,
   "id": "00ab00ba",
   "metadata": {
    "id": "SgWfXRp_hdjz"
   },
   "outputs": [],
   "source": [
    "from sklearn.preprocessing import PolynomialFeatures\n",
    "poly = PolynomialFeatures(degree=2)\n",
    "X_train_poly = poly.fit_transform(X_train)\n",
    "X_test_poly = poly.transform(X_test)"
   ]
  },
  {
   "cell_type": "code",
   "execution_count": 67,
   "id": "5367bc96",
   "metadata": {
    "id": "bRCL1B15hdjz"
   },
   "outputs": [],
   "source": [
    "model_P = LinearRegression()\n",
    "model.fit(X_train_poly, y_train)\n",
    "y_pred_poly = model.predict(X_train_poly)\n",
    "\n",
    "y_pred_test_poly = model.predict(X_test_poly)\n"
   ]
  },
  {
   "cell_type": "code",
   "execution_count": 68,
   "id": "eb51fc95",
   "metadata": {
    "colab": {
     "base_uri": "https://localhost:8080/"
    },
    "id": "qWHfynKlhdjz",
    "outputId": "0f849137-fbdf-4f8c-8cbc-b6b21d5a1d0b"
   },
   "outputs": [
    {
     "name": "stdout",
     "output_type": "stream",
     "text": [
      "Mean Squared Error (Scikit-Learn): 0.11843874528249891\n"
     ]
    }
   ],
   "source": [
    "from sklearn.metrics import mean_squared_error\n",
    "print(\"Mean Squared Error (Scikit-Learn):\", mean_squared_error(y_test, y_pred_test_poly))"
   ]
  },
  {
   "cell_type": "markdown",
   "id": "f3b26679",
   "metadata": {
    "id": "SY2G5Mbihdjz"
   },
   "source": [
    "4. Keep increasing the degree to 3. How does the MSE change and can you explain why?"
   ]
  },
  {
   "cell_type": "code",
   "execution_count": 69,
   "id": "2fcff057",
   "metadata": {
    "id": "l_M0qhorhdjz"
   },
   "outputs": [],
   "source": [
    "from sklearn.preprocessing import PolynomialFeatures\n",
    "poly = PolynomialFeatures(degree=3)\n",
    "X_train_poly = poly.fit_transform(X_train)\n",
    "X_test_poly = poly.transform(X_test)\n",
    "\n",
    "model_Poly = LinearRegression()\n",
    "model.fit(X_train_poly, y_train)\n",
    "y_pred_poly = model.predict(X_train_poly)\n",
    "\n",
    "y_pred_test_poly = model.predict(X_test_poly)\n"
   ]
  },
  {
   "cell_type": "code",
   "execution_count": 70,
   "id": "abdfb631",
   "metadata": {
    "colab": {
     "base_uri": "https://localhost:8080/"
    },
    "id": "FKFyq_Fphdjz",
    "outputId": "7f759de7-e7d0-4966-e9a6-6db9ac1cae33"
   },
   "outputs": [
    {
     "name": "stdout",
     "output_type": "stream",
     "text": [
      "Mean Squared Error (Scikit-Learn): 0.38484595120002607\n"
     ]
    }
   ],
   "source": [
    "from sklearn.metrics import mean_squared_error\n",
    "print(\"Mean Squared Error (Scikit-Learn):\", mean_squared_error(y_test, y_pred_test_poly))"
   ]
  },
  {
   "cell_type": "markdown",
   "id": "8d2fe383",
   "metadata": {
    "id": "YyXnXtvHhdj0"
   },
   "source": [
    "The MSE increases from degree 2 to degree 3, this is due to the following 2 reasons:\n",
    "1)With increase in degree of parameters, the model becomes more complex and may overfit the data\n",
    "2)Higher the degree implies higher the variance , which can make the model senstive and lead to fluctuations with slight change in data\n"
   ]
  },
  {
   "cell_type": "markdown",
   "id": "df44fa6b",
   "metadata": {
    "id": "ZuyddSumhdj0"
   },
   "source": [
    "### Question 2: Compare Regularization methods (45)"
   ]
  },
  {
   "cell_type": "markdown",
   "id": "70132349",
   "metadata": {
    "id": "Evlcs2Zthdj0"
   },
   "source": [
    "1. We notice that we may not want to use all the features in the dataset and it seems that some features are not independent with each other. Therefore, we want to apply the regularization methods. What are the three regularization methods we have discussed in the lecture and briefly state their differences. (5)"
   ]
  },
  {
   "cell_type": "markdown",
   "id": "75deebb4",
   "metadata": {
    "id": "6Dd_KhIPhdj0"
   },
   "source": [
    "The three regularization methods are:\n",
    "1)Lasso Regularization- helps in feature selection as it pushes some coefficients to exactly zero and selects only the important features.\n",
    "2)Ridge Regularization- helps in eliminating multi-collinearaity, it minimises the coefficients but doesn't push them to zero.\n",
    "3)Elastic Net- helps in leveraging advantages of both L1 and L2 according to what would suit the data more.Good to opt for it in case of many features, some of which are correlated, and we require a balance between feature selection and regularization"
   ]
  },
  {
   "cell_type": "markdown",
   "id": "6b788544",
   "metadata": {
    "id": "2StwfhVLhdj0"
   },
   "source": []
  },
  {
   "cell_type": "markdown",
   "id": "95538a5d",
   "metadata": {
    "id": "3phLJBZ-hdj0"
   },
   "source": [
    "2. What is the pre-processing steps that required to perform regularization and why? Perform this pre-processing steps. (5)"
   ]
  },
  {
   "cell_type": "markdown",
   "id": "4f5160eb",
   "metadata": {
    "id": "8jDQ6sOHhdj0"
   },
   "source": [
    "Steps for pre-processing:\n",
    "We have to normalise(to scale the data to have the same range between 0 to 1) or standardise(i.e scale the data of different units to have the same range) the data to perform regularization.\n",
    "We have already removed the missing values.We have also plotted the plots to show that the we standardised the data.\n",
    "\n",
    "\n",
    "\n"
   ]
  },
  {
   "cell_type": "code",
   "execution_count": 98,
   "id": "6a3b8cd9",
   "metadata": {
    "colab": {
     "base_uri": "https://localhost:8080/",
     "height": 617
    },
    "id": "O4KWSRT2hdj0",
    "outputId": "570bae62-a9d6-40cd-eaa2-774c8609fb0f"
   },
   "outputs": [
    {
     "data": {
      "text/plain": [
       "<matplotlib.axes._subplots.AxesSubplot at 0x1d5ff62a588>"
      ]
     },
     "execution_count": 98,
     "metadata": {},
     "output_type": "execute_result"
    },
    {
     "data": {
      "image/png": "[encoded data removed]",
      "text/plain": [
       "<Figure size 1440x504 with 1 Axes>"
      ]
     },
     "metadata": {
      "needs_background": "light"
     },
     "output_type": "display_data"
    }
   ],
   "source": [
    "import seaborn as sns\n",
    "import matplotlib.pyplot as plt\n",
    "plt.figure(figsize=(20,7))\n",
    "sns.boxplot(data=X_train)"
   ]
  },
  {
   "cell_type": "code",
   "execution_count": 99,
   "id": "af5b19b2",
   "metadata": {
    "id": "C0HEkUY5hdj1"
   },
   "outputs": [],
   "source": [
    "from sklearn.preprocessing import StandardScaler\n",
    "from sklearn.metrics import mean_squared_error\n",
    "scaler = StandardScaler()\n",
    "X_train_scaled = scaler.fit_transform(X_train)\n",
    "X_test_scaled = scaler.transform(X_test)"
   ]
  },
  {
   "cell_type": "code",
   "execution_count": 100,
   "id": "b3c86a01",
   "metadata": {
    "colab": {
     "base_uri": "https://localhost:8080/",
     "height": 617
    },
    "id": "SyraCknShdj1",
    "outputId": "a6857934-667d-43e6-fa71-c2d9262be666"
   },
   "outputs": [
    {
     "data": {
      "text/plain": [
       "<matplotlib.axes._subplots.AxesSubplot at 0x1d5ff775fc8>"
      ]
     },
     "execution_count": 100,
     "metadata": {},
     "output_type": "execute_result"
    },
    {
     "data": {
      "image/png": "[encoded data removed]",
      "text/plain": [
       "<Figure size 1440x504 with 1 Axes>"
      ]
     },
     "metadata": {
      "needs_background": "light"
     },
     "output_type": "display_data"
    }
   ],
   "source": [
    "import seaborn as sns\n",
    "import matplotlib.pyplot as plt\n",
    "plt.figure(figsize=(20,7))\n",
    "sns.boxplot(data=X_train_scaled)\n"
   ]
  },
  {
   "cell_type": "markdown",
   "id": "417aaece",
   "metadata": {
    "id": "xyHUA_qJhdj1"
   },
   "source": [
    "3. Fit Lasso model with the best tuning parameter. Report MSE. Print the table for the coefficients. Hint, you can use the list of alpha we show in the lecture, if your best alpha is at the boundary, it is OK, no need to keep increaing the range. (10)"
   ]
  },
  {
   "cell_type": "code",
   "execution_count": 101,
   "id": "b2b55568",
   "metadata": {
    "id": "UkgB2gmZhdj1"
   },
   "outputs": [],
   "source": [
    "from sklearn.linear_model import Lasso\n",
    "\n",
    "lasso_model = Lasso()"
   ]
  },
  {
   "cell_type": "code",
   "execution_count": 102,
   "id": "19f00cfa",
   "metadata": {
    "colab": {
     "base_uri": "https://localhost:8080/"
    },
    "id": "SVQDZJgHhdj-",
    "outputId": "8b880bea-3bbb-42ad-c227-31029d87e55a"
   },
   "outputs": [
    {
     "name": "stderr",
     "output_type": "stream",
     "text": [
      "D:\\anaconda\\lib\\site-packages\\sklearn\\model_selection\\_search.py:814: DeprecationWarning: The default of the `iid` parameter will change from True to False in version 0.22 and will be removed in 0.24. This will change numeric results when test-set sizes are unequal.\n",
      "  DeprecationWarning)\n"
     ]
    },
    {
     "data": {
      "text/plain": [
       "0.001"
      ]
     },
     "execution_count": 102,
     "metadata": {},
     "output_type": "execute_result"
    }
   ],
   "source": [
    "from sklearn.model_selection import GridSearchCV\n",
    "\n",
    "# Define a range of alpha values to tune\n",
    "alphas = [0.001, 0.01, 0.1, 1, 10, 100]\n",
    "# Create a parameter grid for GridSearchCV\n",
    "param_grid = {'alpha': alphas}\n",
    "\n",
    "grid_search = GridSearchCV(lasso_model, param_grid, cv=5,\n",
    "                           scoring='neg_mean_squared_error')\n",
    "grid_search.fit(X_train_scaled, y_train)\n",
    "\n",
    "# Get the best alpha value from the tuning\n",
    "best_alpha = grid_search.best_params_['alpha']\n",
    "best_alpha\n"
   ]
  },
  {
   "cell_type": "code",
   "execution_count": 103,
   "id": "4950ffb0",
   "metadata": {
    "colab": {
     "base_uri": "https://localhost:8080/"
    },
    "id": "qYRyIwiahdj-",
    "outputId": "598dbdb5-2074-481b-86aa-f3fcbbfc681c"
   },
   "outputs": [
    {
     "name": "stdout",
     "output_type": "stream",
     "text": [
      "Mean Squared Error (MSE): 0.058508759294045025\n"
     ]
    }
   ],
   "source": [
    "\n",
    "lasso_model = Lasso(alpha=best_alpha)\n",
    "lasso_model.fit(X_train_scaled, y_train)\n",
    "\n",
    "\n",
    "y_pred = lasso_model.predict(X_test_scaled)\n",
    "\n",
    "\n",
    "mse = mean_squared_error(y_test, y_pred)\n",
    "# Print the results\n",
    "print(\"Mean Squared Error (MSE):\", mse)"
   ]
  },
  {
   "cell_type": "code",
   "execution_count": 104,
   "id": "b42ce041",
   "metadata": {
    "colab": {
     "base_uri": "https://localhost:8080/"
    },
    "id": "8BY53nOIhdj-",
    "outputId": "e64a637e-621e-4b07-97d6-ce882e4072a8"
   },
   "outputs": [
    {
     "name": "stdout",
     "output_type": "stream",
     "text": [
      "        Feature  Coefficient Estimate\n",
      "0       PT08_S1              0.310952\n",
      "1          NMHC              0.214486\n",
      "2       Benzene              0.855345\n",
      "3       PT08_S2             -0.068973\n",
      "4           NOx              0.340128\n",
      "5       PT08_S3              0.027028\n",
      "6           NO2              0.128654\n",
      "7       PT08_S4             -0.128677\n",
      "8       PT08_S5             -0.178129\n",
      "9          Temp             -0.156083\n",
      "10  RelHumidity             -0.076750\n",
      "11  AbsHumidity              0.077668\n"
     ]
    }
   ],
   "source": [
    "import pandas as pd\n",
    "from pandas import DataFrame\n",
    "\n",
    "coeff_df = DataFrame(X.columns)\n",
    "coeff_df.columns = [\"Feature\"]\n",
    "coeff_df[\"Coefficient Estimate\"] = pd.Series(lasso_model.coef_)\n",
    "print(coeff_df)"
   ]
  },
  {
   "cell_type": "markdown",
   "id": "60a9f682",
   "metadata": {
    "id": "X18XqhBvhdj-"
   },
   "source": [
    "4. Fit Ridge model with the best tuning parameter. Report MSE. Print the table for the coefficients. (10)"
   ]
  },
  {
   "cell_type": "code",
   "execution_count": 105,
   "id": "431d5653",
   "metadata": {
    "id": "f8cRp-kRhdj-"
   },
   "outputs": [],
   "source": [
    "from sklearn.linear_model import Ridge\n",
    "\n",
    "ridge_model =Ridge()"
   ]
  },
  {
   "cell_type": "code",
   "execution_count": 106,
   "id": "3a2c61e9",
   "metadata": {
    "colab": {
     "base_uri": "https://localhost:8080/"
    },
    "id": "8ExC-DqMhdj-",
    "outputId": "3f96bc4c-52dc-47bc-c48e-8c1bc009e37f"
   },
   "outputs": [
    {
     "data": {
      "text/plain": [
       "0.01"
      ]
     },
     "execution_count": 106,
     "metadata": {},
     "output_type": "execute_result"
    }
   ],
   "source": [
    "from sklearn.model_selection import GridSearchCV\n",
    "\n",
    "alphas = [0.001, 0.01, 0.1, 1, 10, 100]\n",
    "\n",
    "# Create a parameter grid for GridSearchCV\n",
    "param_grid = {'alpha': alphas}\n",
    "\n",
    "grid_search = GridSearchCV(ridge_model, param_grid, cv=5,\n",
    "                           scoring='neg_mean_squared_error')\n",
    "grid_search.fit(X_train_scaled, y_train)\n",
    "\n",
    "# Get the best alpha value from the tuning\n",
    "best_alpha = grid_search.best_params_['alpha']\n",
    "best_alpha"
   ]
  },
  {
   "cell_type": "code",
   "execution_count": 107,
   "id": "7f1e552d",
   "metadata": {
    "colab": {
     "base_uri": "https://localhost:8080/"
    },
    "id": "HLdfceAchdj-",
    "outputId": "28dc36e8-acb9-4346-e679-c99812d4238c"
   },
   "outputs": [
    {
     "name": "stdout",
     "output_type": "stream",
     "text": [
      "Mean Squared Error (MSE): 0.05792194223658418\n"
     ]
    }
   ],
   "source": [
    "ridge_model = Ridge(alpha=best_alpha)\n",
    "ridge_model.fit(X_train_scaled, y_train)\n",
    "\n",
    "# Make predictions on the test set\n",
    "y_pred = ridge_model.predict(X_test_scaled)\n",
    "\n",
    "# Calculate the Mean Squared Error (MSE) and R-squared (R2)\n",
    "mse = mean_squared_error(y_test, y_pred)\n",
    "\n",
    "# Print the results\n",
    "print(\"Mean Squared Error (MSE):\", mse)"
   ]
  },
  {
   "cell_type": "code",
   "execution_count": 108,
   "id": "358701c8",
   "metadata": {
    "colab": {
     "base_uri": "https://localhost:8080/"
    },
    "id": "afS-3k5nhdj_",
    "outputId": "8774cdc5-0bd2-4759-e619-9843bf79b385"
   },
   "outputs": [
    {
     "name": "stdout",
     "output_type": "stream",
     "text": [
      "        Feature  Coefficient Estimate\n",
      "0       PT08_S1              0.346852\n",
      "1          NMHC              0.194368\n",
      "2       Benzene              1.103486\n",
      "3       PT08_S2             -0.296790\n",
      "4           NOx              0.349371\n",
      "5       PT08_S3             -0.037783\n",
      "6           NO2              0.144834\n",
      "7       PT08_S4             -0.222631\n",
      "8       PT08_S5             -0.210554\n",
      "9          Temp             -0.204486\n",
      "10  RelHumidity             -0.129509\n",
      "11  AbsHumidity              0.125316\n"
     ]
    }
   ],
   "source": [
    "import pandas as pd\n",
    "from pandas import DataFrame\n",
    "\n",
    "coeff_df = DataFrame(X.columns)\n",
    "coeff_df.columns = [\"Feature\"]\n",
    "coeff_df[\"Coefficient Estimate\"] = pd.Series(ridge_model.coef_)\n",
    "print(coeff_df)"
   ]
  },
  {
   "cell_type": "markdown",
   "id": "cf18f2ce",
   "metadata": {
    "id": "JZmpWj0phdj_"
   },
   "source": [
    "5. Fit Elastic net model with the best tuning parameter. Report MSE. Print the table for the coefficients.\n",
    "\n",
    "Hint: even though we did not include this in the lecture, you can image it is pretty similar to the Lasso and ridge. The function is called ElasticNet and notice that there are two parameters to tune: 'alpha' and 'l1_ratio'. You can use grid_search.best_params_['alpha'] to extract the best parameter for alpha. (15)"
   ]
  },
  {
   "cell_type": "code",
   "execution_count": 109,
   "id": "a757bd84",
   "metadata": {
    "id": "qtn4vUwzhdj_"
   },
   "outputs": [],
   "source": [
    "from sklearn.linear_model import ElasticNet\n",
    "\n",
    "elastic_net_model = ElasticNet()"
   ]
  },
  {
   "cell_type": "code",
   "execution_count": 110,
   "id": "a340b1c3",
   "metadata": {
    "colab": {
     "base_uri": "https://localhost:8080/"
    },
    "id": "H2dbU8Wdhdj_",
    "outputId": "4930c4ae-42c9-4cac-f8cd-69794cb76f2a"
   },
   "outputs": [
    {
     "name": "stdout",
     "output_type": "stream",
     "text": [
      "Best Alpha: 0.001\n",
      "Best l1_ratio: 0.1\n"
     ]
    },
    {
     "name": "stderr",
     "output_type": "stream",
     "text": [
      "D:\\anaconda\\lib\\site-packages\\sklearn\\model_selection\\_search.py:814: DeprecationWarning: The default of the `iid` parameter will change from True to False in version 0.22 and will be removed in 0.24. This will change numeric results when test-set sizes are unequal.\n",
      "  DeprecationWarning)\n"
     ]
    }
   ],
   "source": [
    "from sklearn.model_selection import GridSearchCV\n",
    "\n",
    "\n",
    "alphas = [0.001, 0.01, 0.1, 1, 10, 100]\n",
    "l1_ratios = [0.1, 0.3, 0.5, 0.7, 0.9]\n",
    "\n",
    "\n",
    "param_grid = {'alpha': alphas, 'l1_ratio': l1_ratios}\n",
    "\n",
    "\n",
    "\n",
    "grid_search = GridSearchCV(elastic_net_model, param_grid, cv=5,\n",
    "                           scoring='neg_mean_squared_error')\n",
    "grid_search.fit(X_train_scaled, y_train)\n",
    "\n",
    "best_alpha = grid_search.best_params_['alpha']\n",
    "best_l1_ratio = grid_search.best_params_['l1_ratio']\n",
    "\n",
    "print(\"Best Alpha:\", best_alpha)\n",
    "print(\"Best l1_ratio:\", best_l1_ratio)\n"
   ]
  },
  {
   "cell_type": "code",
   "execution_count": 111,
   "id": "2155a63e",
   "metadata": {
    "colab": {
     "base_uri": "https://localhost:8080/"
    },
    "id": "QCz7bUXnhdj_",
    "outputId": "ad7093cb-2c56-42d9-fd2f-cc76fb70fdfe"
   },
   "outputs": [
    {
     "name": "stdout",
     "output_type": "stream",
     "text": [
      "Mean Squared Error (MSE): 0.05799492634326331\n"
     ]
    }
   ],
   "source": [
    "\n",
    "elastic_net_model = ElasticNet(alpha=best_alpha, l1_ratio=best_l1_ratio)\n",
    "\n",
    "\n",
    "elastic_net_model.fit(X_train_scaled, y_train)\n",
    "\n",
    "y_pred = elastic_net_model.predict(X_test_scaled)\n",
    "mse = mean_squared_error(y_test, y_pred)\n",
    "\n",
    "\n",
    "print(\"Mean Squared Error (MSE):\", mse)\n"
   ]
  },
  {
   "cell_type": "code",
   "execution_count": 112,
   "id": "71aad31d",
   "metadata": {
    "colab": {
     "base_uri": "https://localhost:8080/"
    },
    "id": "uclKVsejhdj_",
    "outputId": "8230dc66-8df2-4e8c-eef2-2c31badbce1e"
   },
   "outputs": [
    {
     "name": "stdout",
     "output_type": "stream",
     "text": [
      "        Feature  Coefficient Estimate\n",
      "0       PT08_S1              0.329564\n",
      "1          NMHC              0.209303\n",
      "2       Benzene              0.946517\n",
      "3       PT08_S2             -0.150570\n",
      "4           NOx              0.349900\n",
      "5       PT08_S3              0.006470\n",
      "6           NO2              0.137310\n",
      "7       PT08_S4             -0.174677\n",
      "8       PT08_S5             -0.196046\n",
      "9          Temp             -0.196466\n",
      "10  RelHumidity             -0.122593\n",
      "11  AbsHumidity              0.115931\n"
     ]
    }
   ],
   "source": [
    "import pandas as pd\n",
    "from pandas import DataFrame\n",
    "\n",
    "coeff_df = DataFrame(X.columns)\n",
    "coeff_df.columns = [\"Feature\"]\n",
    "coeff_df[\"Coefficient Estimate\"] = pd.Series(elastic_net_model.coef_)\n",
    "print(coeff_df)"
   ]
  },
  {
   "cell_type": "markdown",
   "id": "043a93ed",
   "metadata": {
    "id": "er0Jtv-IhdkA"
   },
   "source": [
    "### Question 3: Implement Gradient Descent for Ridge (15)\n",
    "\n",
    "Try to modify your earlier implementation for the linear regression gradient descent, so that now it is the gradient descent for ridge. Apply the Air quality data to make sure it works.\n",
    "\n",
    "Hint: The only thing you want to change is the gradient and cost function, which will now have an extra term. You can set the tuning parameter alpha as 0.01."
   ]
  },
  {
   "cell_type": "code",
   "execution_count": 113,
   "id": "fba0186e",
   "metadata": {
    "id": "YD7cfgX0hdkA"
   },
   "outputs": [],
   "source": [
    "import numpy as np\n",
    "x_arr=np.array(X_train_scaled)"
   ]
  },
  {
   "cell_type": "code",
   "execution_count": 114,
   "id": "6753df72",
   "metadata": {
    "colab": {
     "base_uri": "https://localhost:8080/"
    },
    "id": "IbN0ggkNhdkA",
    "outputId": "a2ae31b7-e220-48c6-db6d-2a00c57bb06a"
   },
   "outputs": [
    {
     "data": {
      "text/plain": [
       "(661, 12)"
      ]
     },
     "execution_count": 114,
     "metadata": {},
     "output_type": "execute_result"
    }
   ],
   "source": [
    "x_arr.shape"
   ]
  },
  {
   "cell_type": "code",
   "execution_count": 115,
   "id": "ff9eff8e",
   "metadata": {
    "colab": {
     "base_uri": "https://localhost:8080/"
    },
    "id": "FTk4JqHbhdkA",
    "outputId": "6edab2ad-79ea-4616-ea23-23e16d52f13f"
   },
   "outputs": [
    {
     "data": {
      "text/plain": [
       "(661,)"
      ]
     },
     "execution_count": 115,
     "metadata": {},
     "output_type": "execute_result"
    }
   ],
   "source": [
    "y_train.shape"
   ]
  },
  {
   "cell_type": "code",
   "execution_count": 116,
   "id": "7188e9cf",
   "metadata": {
    "id": "0RY3QJVvnXs1"
   },
   "outputs": [],
   "source": [
    "def compute_cost_ridge(pred, y, theta, alpha):\n",
    "\n",
    "    sample_size = len(y)\n",
    "\n",
    "    squared_errors = (y - pred) ** 2\n",
    "\n",
    "\n",
    "    mse = np.sum(squared_errors) / (sample_size)\n",
    "\n",
    "\n",
    "    regularization_term = (alpha) * np.sum(theta[1:] ** 2)\n",
    "\n",
    "\n",
    "    cost = mse + regularization_term\n",
    "\n",
    "    return cost"
   ]
  },
  {
   "cell_type": "code",
   "execution_count": 125,
   "id": "b263db41",
   "metadata": {
    "id": "eZbFlxw8hdkB"
   },
   "outputs": [],
   "source": [
    "def gradient_descent(X_b, y, theta, b, alpha, learning_rate, num_iterations):\n",
    "    cost_history = []\n",
    "    sample, fet = X_b.shape\n",
    "\n",
    "    for i in range(num_iterations):\n",
    "        pred = np.dot(X_b, theta)+ b\n",
    "        residual = y-pred\n",
    "        grad = (-2 * np.dot(X_b.T, residual) + ( alpha * theta)) / sample\n",
    "        bias_grad = -2 * np.sum(residual) / sample\n",
    "\n",
    "        theta = theta - learning_rate * grad\n",
    "        b = b - learning_rate * bias_grad\n",
    "\n",
    "        cost_history.append(compute_cost_ridge(pred, y, theta, alpha))\n",
    "\n",
    "    return theta, b, cost_history"
   ]
  },
  {
   "cell_type": "code",
   "execution_count": 126,
   "id": "53dfe9be",
   "metadata": {
    "colab": {
     "base_uri": "https://localhost:8080/"
    },
    "id": "Hjy75dWVvwep",
    "outputId": "3497a579-4b4a-4816-bfb3-db027437f78b"
   },
   "outputs": [
    {
     "name": "stdout",
     "output_type": "stream",
     "text": [
      "Mean Squared Error (MSE): 0.054003498210094036\n"
     ]
    }
   ],
   "source": [
    "bias = 0\n",
    "theta = np.zeros(x_arr.shape[1])\n",
    "w, bias,cost = gradient_descent(x_arr, y_train, theta, bias, 1, 0.01, 1000)\n",
    "y_pred = np.dot(x_arr, w) + bias\n",
    "mse = mean_squared_error(y_train, y_pred)\n",
    "\n",
    "# Print the results\n",
    "print(\"Mean Squared Error (MSE):\", mse)"
   ]
  },
  {
   "cell_type": "markdown",
   "id": "60aeec69",
   "metadata": {},
   "source": [
    "If we dont consider the bias then:"
   ]
  },
  {
   "cell_type": "code",
   "execution_count": 127,
   "id": "a558e28d",
   "metadata": {},
   "outputs": [],
   "source": [
    "def gradient_descent(X_b, y, theta,alpha, learning_rate, num_iterations):\n",
    "    cost_history=[]\n",
    "    sample,fet=X_b.shape\n",
    "    for i in range(num_iterations):\n",
    "\n",
    "        pred=np.dot(X_b,theta)\n",
    "        residual=pred-y\n",
    "        gard=2*(np.dot(X_b.T,residual)+(alpha*theta))/sample\n",
    "        theta=theta-learning_rate*gard\n",
    "        cost_history.append(compute_cost_ridge(pred,y,theta,alpha))\n",
    "\n",
    "    return theta, cost_history"
   ]
  },
  {
   "cell_type": "code",
   "execution_count": 128,
   "id": "245cd259",
   "metadata": {},
   "outputs": [],
   "source": [
    "theta = np.zeros(x_arr.shape[1])\n",
    "a,b=gradient_descent(x_arr,y_train,theta,0.01,0.01,1000)\n",
    "\n",
    "y_pred_grad = np.dot(x_arr, a)"
   ]
  },
  {
   "cell_type": "code",
   "execution_count": 124,
   "id": "7b2d59e8",
   "metadata": {},
   "outputs": [
    {
     "name": "stdout",
     "output_type": "stream",
     "text": [
      "Mean Squared Error (MSE): 5.693341103884485\n"
     ]
    }
   ],
   "source": [
    "mse = mean_squared_error(y_train, y_pred_grad)\n",
    "\n",
    "# Print the results\n",
    "print(\"Mean Squared Error (MSE):\", mse)"
   ]
  },
  {
   "cell_type": "code",
   "execution_count": null,
   "id": "17d95f5f",
   "metadata": {},
   "outputs": [],
   "source": []
  }
 ],
 "metadata": {
  "colab": {
   "provenance": []
  },
  "kernelspec": {
   "display_name": "Python 3 (ipykernel)",
   "language": "python",
   "name": "python3"
  },
  "language_info": {
   "codemirror_mode": {
    "name": "ipython",
    "version": 3
   },
   "file_extension": ".py",
   "mimetype": "text/x-python",
   "name": "python",
   "nbconvert_exporter": "python",
   "pygments_lexer": "ipython3",
   "version": "3.11.5"
  }
 },
 "nbformat": 4,
 "nbformat_minor": 5
}
