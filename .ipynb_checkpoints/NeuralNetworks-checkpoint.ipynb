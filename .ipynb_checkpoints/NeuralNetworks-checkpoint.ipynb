{
 "cells": [
  {
   "cell_type": "markdown",
   "id": "82608e70",
   "metadata": {
    "id": "82608e70"
   },
   "source": [
    "### Question 1: Neural network with CIFAR-10 (40)\n",
    "\n",
    "Load the CIFAR-10 dataset from the tensorflow toy data. Conduct any necessary pre-processing. Note: this is a really large data, you may need some time to load it. You may read here about the background: https://www.kaggle.com/c/cifar-10/overview"
   ]
  },
  {
   "cell_type": "markdown",
   "id": "6fd7078a",
   "metadata": {
    "id": "6fd7078a"
   },
   "source": [
    "1. Fit a neural network for the cifar10 data and make an prediction with the test data. Report thr accuracy. The neural network should have 2 layers and each layer has 128 nodes. Set the epochs as 5 and batch size as 64. (20)"
   ]
  },
  {
   "cell_type": "code",
   "execution_count": null,
   "id": "3JukZ47H3OvX",
   "metadata": {
    "colab": {
     "base_uri": "https://localhost:8080/"
    },
    "id": "3JukZ47H3OvX",
    "outputId": "00d18ae2-cebe-4ebc-e249-9f9bac34873c"
   },
   "outputs": [
    {
     "name": "stdout",
     "output_type": "stream",
     "text": [
      "Requirement already satisfied: scikit-learn in /usr/local/lib/python3.10/dist-packages (1.3.2)\n",
      "Requirement already satisfied: tensorflow in /usr/local/lib/python3.10/dist-packages (2.15.0.post1)\n",
      "Requirement already satisfied: numpy<2.0,>=1.17.3 in /usr/local/lib/python3.10/dist-packages (from scikit-learn) (1.23.5)\n",
      "Requirement already satisfied: scipy>=1.5.0 in /usr/local/lib/python3.10/dist-packages (from scikit-learn) (1.11.4)\n",
      "Requirement already satisfied: joblib>=1.1.1 in /usr/local/lib/python3.10/dist-packages (from scikit-learn) (1.3.2)\n",
      "Requirement already satisfied: threadpoolctl>=2.0.0 in /usr/local/lib/python3.10/dist-packages (from scikit-learn) (3.2.0)\n",
      "Requirement already satisfied: absl-py>=1.0.0 in /usr/local/lib/python3.10/dist-packages (from tensorflow) (1.4.0)\n",
      "Requirement already satisfied: astunparse>=1.6.0 in /usr/local/lib/python3.10/dist-packages (from tensorflow) (1.6.3)\n",
      "Requirement already satisfied: flatbuffers>=23.5.26 in /usr/local/lib/python3.10/dist-packages (from tensorflow) (23.5.26)\n",
      "Requirement already satisfied: gast!=0.5.0,!=0.5.1,!=0.5.2,>=0.2.1 in /usr/local/lib/python3.10/dist-packages (from tensorflow) (0.5.4)\n",
      "Requirement already satisfied: google-pasta>=0.1.1 in /usr/local/lib/python3.10/dist-packages (from tensorflow) (0.2.0)\n",
      "Requirement already satisfied: h5py>=2.9.0 in /usr/local/lib/python3.10/dist-packages (from tensorflow) (3.9.0)\n",
      "Requirement already satisfied: libclang>=13.0.0 in /usr/local/lib/python3.10/dist-packages (from tensorflow) (16.0.6)\n",
      "Requirement already satisfied: ml-dtypes~=0.2.0 in /usr/local/lib/python3.10/dist-packages (from tensorflow) (0.2.0)\n",
      "Requirement already satisfied: opt-einsum>=2.3.2 in /usr/local/lib/python3.10/dist-packages (from tensorflow) (3.3.0)\n",
      "Requirement already satisfied: packaging in /usr/local/lib/python3.10/dist-packages (from tensorflow) (23.2)\n",
      "Requirement already satisfied: protobuf!=4.21.0,!=4.21.1,!=4.21.2,!=4.21.3,!=4.21.4,!=4.21.5,<5.0.0dev,>=3.20.3 in /usr/local/lib/python3.10/dist-packages (from tensorflow) (3.20.3)\n",
      "Requirement already satisfied: setuptools in /usr/local/lib/python3.10/dist-packages (from tensorflow) (67.7.2)\n",
      "Requirement already satisfied: six>=1.12.0 in /usr/local/lib/python3.10/dist-packages (from tensorflow) (1.16.0)\n",
      "Requirement already satisfied: termcolor>=1.1.0 in /usr/local/lib/python3.10/dist-packages (from tensorflow) (2.3.0)\n",
      "Requirement already satisfied: typing-extensions>=3.6.6 in /usr/local/lib/python3.10/dist-packages (from tensorflow) (4.5.0)\n",
      "Requirement already satisfied: wrapt<1.15,>=1.11.0 in /usr/local/lib/python3.10/dist-packages (from tensorflow) (1.14.1)\n",
      "Requirement already satisfied: tensorflow-io-gcs-filesystem>=0.23.1 in /usr/local/lib/python3.10/dist-packages (from tensorflow) (0.34.0)\n",
      "Requirement already satisfied: grpcio<2.0,>=1.24.3 in /usr/local/lib/python3.10/dist-packages (from tensorflow) (1.59.3)\n",
      "Requirement already satisfied: tensorboard<2.16,>=2.15 in /usr/local/lib/python3.10/dist-packages (from tensorflow) (2.15.1)\n",
      "Requirement already satisfied: tensorflow-estimator<2.16,>=2.15.0 in /usr/local/lib/python3.10/dist-packages (from tensorflow) (2.15.0)\n",
      "Requirement already satisfied: keras<2.16,>=2.15.0 in /usr/local/lib/python3.10/dist-packages (from tensorflow) (2.15.0)\n",
      "Requirement already satisfied: wheel<1.0,>=0.23.0 in /usr/local/lib/python3.10/dist-packages (from astunparse>=1.6.0->tensorflow) (0.42.0)\n",
      "Requirement already satisfied: google-auth<3,>=1.6.3 in /usr/local/lib/python3.10/dist-packages (from tensorboard<2.16,>=2.15->tensorflow) (2.17.3)\n",
      "Requirement already satisfied: google-auth-oauthlib<2,>=0.5 in /usr/local/lib/python3.10/dist-packages (from tensorboard<2.16,>=2.15->tensorflow) (1.0.0)\n",
      "Requirement already satisfied: markdown>=2.6.8 in /usr/local/lib/python3.10/dist-packages (from tensorboard<2.16,>=2.15->tensorflow) (3.5.1)\n",
      "Requirement already satisfied: requests<3,>=2.21.0 in /usr/local/lib/python3.10/dist-packages (from tensorboard<2.16,>=2.15->tensorflow) (2.31.0)\n",
      "Requirement already satisfied: tensorboard-data-server<0.8.0,>=0.7.0 in /usr/local/lib/python3.10/dist-packages (from tensorboard<2.16,>=2.15->tensorflow) (0.7.2)\n",
      "Requirement already satisfied: werkzeug>=1.0.1 in /usr/local/lib/python3.10/dist-packages (from tensorboard<2.16,>=2.15->tensorflow) (3.0.1)\n",
      "Requirement already satisfied: cachetools<6.0,>=2.0.0 in /usr/local/lib/python3.10/dist-packages (from google-auth<3,>=1.6.3->tensorboard<2.16,>=2.15->tensorflow) (5.3.2)\n",
      "Requirement already satisfied: pyasn1-modules>=0.2.1 in /usr/local/lib/python3.10/dist-packages (from google-auth<3,>=1.6.3->tensorboard<2.16,>=2.15->tensorflow) (0.3.0)\n",
      "Requirement already satisfied: rsa<5,>=3.1.4 in /usr/local/lib/python3.10/dist-packages (from google-auth<3,>=1.6.3->tensorboard<2.16,>=2.15->tensorflow) (4.9)\n",
      "Requirement already satisfied: requests-oauthlib>=0.7.0 in /usr/local/lib/python3.10/dist-packages (from google-auth-oauthlib<2,>=0.5->tensorboard<2.16,>=2.15->tensorflow) (1.3.1)\n",
      "Requirement already satisfied: charset-normalizer<4,>=2 in /usr/local/lib/python3.10/dist-packages (from requests<3,>=2.21.0->tensorboard<2.16,>=2.15->tensorflow) (3.3.2)\n",
      "Requirement already satisfied: idna<4,>=2.5 in /usr/local/lib/python3.10/dist-packages (from requests<3,>=2.21.0->tensorboard<2.16,>=2.15->tensorflow) (3.6)\n",
      "Requirement already satisfied: urllib3<3,>=1.21.1 in /usr/local/lib/python3.10/dist-packages (from requests<3,>=2.21.0->tensorboard<2.16,>=2.15->tensorflow) (2.0.7)\n",
      "Requirement already satisfied: certifi>=2017.4.17 in /usr/local/lib/python3.10/dist-packages (from requests<3,>=2.21.0->tensorboard<2.16,>=2.15->tensorflow) (2023.11.17)\n",
      "Requirement already satisfied: MarkupSafe>=2.1.1 in /usr/local/lib/python3.10/dist-packages (from werkzeug>=1.0.1->tensorboard<2.16,>=2.15->tensorflow) (2.1.3)\n",
      "Requirement already satisfied: pyasn1<0.6.0,>=0.4.6 in /usr/local/lib/python3.10/dist-packages (from pyasn1-modules>=0.2.1->google-auth<3,>=1.6.3->tensorboard<2.16,>=2.15->tensorflow) (0.5.1)\n",
      "Requirement already satisfied: oauthlib>=3.0.0 in /usr/local/lib/python3.10/dist-packages (from requests-oauthlib>=0.7.0->google-auth-oauthlib<2,>=0.5->tensorboard<2.16,>=2.15->tensorflow) (3.2.2)\n"
     ]
    }
   ],
   "source": [
    "import tensorflow as tf\n",
    "from tensorflow.keras import datasets, layers, models\n",
    "import matplotlib.pyplot as plt\n",
    "!pip install --upgrade scikit-learn tensorflow"
   ]
  },
  {
   "cell_type": "code",
   "execution_count": null,
   "id": "6hyB6JTt3a5P",
   "metadata": {
    "id": "6hyB6JTt3a5P"
   },
   "outputs": [],
   "source": [
    "(train_images, train_labels), (test_images, test_labels) = datasets.cifar10.load_data()\n",
    "\n",
    "# Normalize pixel values to be between 0 and 1\n",
    "train_images, test_images = train_images / 255.0, test_images / 255.0\n",
    "\n"
   ]
  },
  {
   "cell_type": "code",
   "execution_count": null,
   "id": "4-aWwOOtco2K",
   "metadata": {
    "id": "4-aWwOOtco2K"
   },
   "outputs": [],
   "source": [
    "train_images = train_images.reshape((50000, 32, 32, 3))\n",
    "test_images = test_images.reshape((10000, 32, 32, 3))"
   ]
  },
  {
   "cell_type": "code",
   "execution_count": null,
   "id": "DW_C8G2FbhJp",
   "metadata": {
    "colab": {
     "base_uri": "https://localhost:8080/"
    },
    "id": "DW_C8G2FbhJp",
    "outputId": "98e7eb2a-5a98-42a6-9052-22588da83270"
   },
   "outputs": [
    {
     "name": "stdout",
     "output_type": "stream",
     "text": [
      "(50000, 32, 32, 3)\n",
      "(10000, 32, 32, 3)\n"
     ]
    }
   ],
   "source": [
    "print(train_images.shape)\n",
    "print(test_images.shape)\n"
   ]
  },
  {
   "cell_type": "code",
   "execution_count": null,
   "id": "-beT9oclYuAf",
   "metadata": {
    "id": "-beT9oclYuAf"
   },
   "outputs": [],
   "source": [
    "from keras.utils import to_categorical\n",
    "# one-hot encode the labels\n",
    "\n",
    "train_labels = to_categorical(train_labels)\n",
    "test_labels = to_categorical(test_labels)"
   ]
  },
  {
   "cell_type": "code",
   "execution_count": null,
   "id": "MdRxrRIQ86xZ",
   "metadata": {
    "id": "MdRxrRIQ86xZ"
   },
   "outputs": [],
   "source": [
    "from keras.models import Sequential\n",
    "from keras.layers import Flatten, Dense\n",
    "\n",
    "\n",
    "model = Sequential([\n",
    "    Flatten(input_shape = (32, 32, 3)),\n",
    "    Dense(128, activation = 'relu'),\n",
    "    Dense(128, activation = 'relu'),\n",
    "    Dense(10, activation = 'softmax')\n",
    "])"
   ]
  },
  {
   "cell_type": "code",
   "execution_count": null,
   "id": "XkswBgtw87qa",
   "metadata": {
    "id": "XkswBgtw87qa"
   },
   "outputs": [],
   "source": [
    "import keras\n",
    "from keras.optimizers import Adagrad\n",
    "\n",
    "opt = keras.optimizers.Adam(learning_rate = 0.05)\n",
    "model.compile(optimizer='adam', loss='categorical_crossentropy', metrics=['accuracy'])"
   ]
  },
  {
   "cell_type": "code",
   "execution_count": null,
   "id": "1IS1ijy-9AX-",
   "metadata": {
    "colab": {
     "base_uri": "https://localhost:8080/"
    },
    "id": "1IS1ijy-9AX-",
    "outputId": "25b4d15a-1367-4833-bb72-068f6feec57a"
   },
   "outputs": [
    {
     "name": "stdout",
     "output_type": "stream",
     "text": [
      "Epoch 1/5\n",
      "625/625 [==============================] - 7s 10ms/step - loss: 1.8897 - accuracy: 0.3149 - val_loss: 1.8559 - val_accuracy: 0.3415\n",
      "Epoch 2/5\n",
      "625/625 [==============================] - 7s 11ms/step - loss: 1.7343 - accuracy: 0.3771 - val_loss: 1.7573 - val_accuracy: 0.3701\n",
      "Epoch 3/5\n",
      "625/625 [==============================] - 5s 9ms/step - loss: 1.6496 - accuracy: 0.4089 - val_loss: 1.6320 - val_accuracy: 0.4197\n",
      "Epoch 4/5\n",
      "625/625 [==============================] - 7s 11ms/step - loss: 1.6009 - accuracy: 0.4276 - val_loss: 1.6382 - val_accuracy: 0.4236\n",
      "Epoch 5/5\n",
      "625/625 [==============================] - 6s 9ms/step - loss: 1.5610 - accuracy: 0.4435 - val_loss: 1.5956 - val_accuracy: 0.4336\n"
     ]
    },
    {
     "data": {
      "text/plain": [
       "<keras.src.callbacks.History at 0x7d387e547a00>"
      ]
     },
     "execution_count": 8,
     "metadata": {},
     "output_type": "execute_result"
    }
   ],
   "source": [
    "model.fit(train_images, train_labels, epochs = 5,\n",
    "         batch_size = 64, validation_split = 0.2, verbose =1)"
   ]
  },
  {
   "cell_type": "code",
   "execution_count": null,
   "id": "NcJfAy2x9Ab-",
   "metadata": {
    "colab": {
     "base_uri": "https://localhost:8080/"
    },
    "id": "NcJfAy2x9Ab-",
    "outputId": "20248747-2f4d-48c6-afbf-94322143355e"
   },
   "outputs": [
    {
     "name": "stdout",
     "output_type": "stream",
     "text": [
      "313/313 [==============================] - 1s 4ms/step - loss: 1.5604 - accuracy: 0.4471\n",
      "0.4471000134944916\n"
     ]
    }
   ],
   "source": [
    "test_loss, test_accuracy = model.evaluate(test_images, test_labels)\n",
    "print(test_accuracy)"
   ]
  },
  {
   "cell_type": "markdown",
   "id": "28b4d97f",
   "metadata": {
    "id": "28b4d97f"
   },
   "source": [
    "2. Include the batch normalization, l2 regulization (with penalty parameter equals to 0.01) and dropout (with 0.5) in the neural network. Don't worry if your results become worse since we have not tune the parameters. (10)"
   ]
  },
  {
   "cell_type": "code",
   "execution_count": null,
   "id": "h6ifRF81fTds",
   "metadata": {
    "id": "h6ifRF81fTds"
   },
   "outputs": [],
   "source": [
    "from tensorflow.keras.layers import BatchNormalization\n",
    "\n",
    "model = Sequential([\n",
    "    Flatten(input_shape = (32,32,3)),\n",
    "    Dense(64, activation = 'relu'),\n",
    "    BatchNormalization(),\n",
    "    Dense(10, activation = 'softmax')\n",
    "])"
   ]
  },
  {
   "cell_type": "code",
   "execution_count": null,
   "id": "Zg2g1lJHfTpB",
   "metadata": {
    "id": "Zg2g1lJHfTpB"
   },
   "outputs": [],
   "source": [
    "from tensorflow.keras.regularizers import l2\n",
    "\n",
    "model = Sequential([\n",
    "    Flatten(input_shape = (32,32,3)),\n",
    "    Dense(64, activation = 'relu', kernel_regularizer = l2(0.01)),\n",
    "    Dense(10, activation = 'softmax')\n",
    "])\n"
   ]
  },
  {
   "cell_type": "code",
   "execution_count": null,
   "id": "vrOG-ORj4bik",
   "metadata": {
    "id": "vrOG-ORj4bik"
   },
   "outputs": [],
   "source": [
    "from tensorflow.keras.layers import Dropout\n",
    "\n",
    "model = Sequential([\n",
    "    Flatten(input_shape = (32,32,3)),\n",
    "    Dense(64, activation = 'relu'),\n",
    "    Dropout(0.5),\n",
    "    Dense(10, activation = 'softmax')\n",
    "])"
   ]
  },
  {
   "cell_type": "code",
   "execution_count": null,
   "id": "QhSivxEym9t1",
   "metadata": {
    "id": "QhSivxEym9t1"
   },
   "outputs": [],
   "source": [
    "import keras\n",
    "opt = keras.optimizers.Adam(learning_rate = 0.01)\n",
    "model.compile(optimizer='adam', loss='categorical_crossentropy', metrics=['accuracy'])"
   ]
  },
  {
   "cell_type": "code",
   "execution_count": null,
   "id": "CBr-eRO9OYGL",
   "metadata": {
    "colab": {
     "base_uri": "https://localhost:8080/"
    },
    "id": "CBr-eRO9OYGL",
    "outputId": "ae2d79c2-9f6a-4929-dc51-fd7a05dde5b3"
   },
   "outputs": [
    {
     "name": "stdout",
     "output_type": "stream",
     "text": [
      "Epoch 1/5\n",
      "625/625 [==============================] - 8s 11ms/step - loss: 2.3039 - accuracy: 0.1008 - val_loss: 2.3014 - val_accuracy: 0.1053\n",
      "Epoch 2/5\n",
      "625/625 [==============================] - 4s 6ms/step - loss: 2.2934 - accuracy: 0.1048 - val_loss: 2.2230 - val_accuracy: 0.1805\n",
      "Epoch 3/5\n",
      "625/625 [==============================] - 4s 7ms/step - loss: 2.2400 - accuracy: 0.1377 - val_loss: 2.1740 - val_accuracy: 0.1870\n",
      "Epoch 4/5\n",
      "625/625 [==============================] - 4s 7ms/step - loss: 2.2147 - accuracy: 0.1456 - val_loss: 2.1184 - val_accuracy: 0.2012\n",
      "Epoch 5/5\n",
      "625/625 [==============================] - 5s 8ms/step - loss: 2.1953 - accuracy: 0.1494 - val_loss: 2.1405 - val_accuracy: 0.2051\n"
     ]
    },
    {
     "data": {
      "text/plain": [
       "<keras.src.callbacks.History at 0x7d387eddbcd0>"
      ]
     },
     "execution_count": 14,
     "metadata": {},
     "output_type": "execute_result"
    }
   ],
   "source": [
    "model.fit(train_images, train_labels, epochs = 5,\n",
    "         batch_size = 64, validation_split = 0.2, verbose =1)"
   ]
  },
  {
   "cell_type": "code",
   "execution_count": null,
   "id": "qjfu_Scem5UC",
   "metadata": {
    "colab": {
     "base_uri": "https://localhost:8080/"
    },
    "id": "qjfu_Scem5UC",
    "outputId": "1b2fbef6-5099-4f2d-a643-470ed0c3129a"
   },
   "outputs": [
    {
     "name": "stdout",
     "output_type": "stream",
     "text": [
      "313/313 [==============================] - 1s 2ms/step - loss: 2.1413 - accuracy: 0.2055\n",
      "0.20550000667572021\n"
     ]
    }
   ],
   "source": [
    "test_loss, test_accuracy = model.evaluate(test_images, test_labels)\n",
    "print(test_accuracy)"
   ]
  },
  {
   "cell_type": "markdown",
   "id": "c6dc89ab",
   "metadata": {
    "id": "c6dc89ab"
   },
   "source": [
    "3. Explain at least two reasons why neural network is preferred when handling the tasks like image detection. (5)"
   ]
  },
  {
   "cell_type": "code",
   "execution_count": null,
   "id": "JzSe8Uh-4_cv",
   "metadata": {
    "id": "JzSe8Uh-4_cv"
   },
   "outputs": [],
   "source": [
    "'''Hierarchy of Features: Neural networks, especially deep convolutional neural networks (CNNs), are capable of learning hierarchical features from raw pixel values.\n",
    " CNNs automatically learn low-level features (edges, textures) and gradually combine them to form high-level features (shapes, objects). This hierarchical feature learning is crucial for understanding complex patterns in images.\n",
    "\n",
    "Spatial Hierarchies and Convolutional Layers: CNNs, designed specifically for image-related tasks, use convolutional layers to scan local regions of the input image. This allows them to capture spatial hierarchies and relationships\n",
    "between pixels, making them well-suited for tasks like object detection and recognition.\n",
    "\n",
    "Parameter Sharing: CNNs leverage parameter sharing, meaning the same set of weights is used across different spatial locations. This reduces the number of parameters in the network and helps in learning translation-invariant features.\n",
    "It also makes CNNs more efficient in handling images compared to fully connected networks.\n",
    "\n",
    "Translation Invariance: Convolutional layers provide translation-invariant representations, meaning that the network can recognize patterns regardless of their position in the image. This is important for tasks where the location of an object in the image should not affect its detection.\n",
    "\n",
    "End-to-End Learning: Neural networks enable end-to-end learning, where the model learns to extract relevant features and make predictions directly from raw input data. This eliminates the need for manual feature engineering, allowing the network to automatically discover and use the most\n",
    "relevant features for the task.\n",
    "\n",
    "Scalability: Deep neural networks can scale with the amount of data available. As the size of the dataset increases, deep learning models can potentially continue to improve their performance, provided sufficient computational resources are available.\n",
    "\n",
    "Versatility: Neural networks are versatile and can be adapted to various image-related tasks, including image classification, object detection, segmentation, and more. Architectural modifications and transfer learning techniques allow pre-trained models to be fine-tuned for specific tasks, even with limited data."
   ]
  },
  {
   "cell_type": "markdown",
   "id": "88b580af",
   "metadata": {
    "id": "88b580af"
   },
   "source": [
    "4. What is the difference between activation function and activation level in the neural network? (5)"
   ]
  },
  {
   "cell_type": "code",
   "execution_count": null,
   "id": "s6RoQCvq5T8P",
   "metadata": {
    "id": "s6RoQCvq5T8P"
   },
   "outputs": [],
   "source": [
    "'''Activation Function:\n",
    "In the context of neural networks, an activation function is a mathematical operation applied to the output of a neuron (or a set of neurons) in a neural network. It introduces non-linearity into the network, enabling it to learn and approximate complex, non-linear relationships within the data.\n",
    " Activation functions help neural networks model and learn from data more effectively by allowing the network to capture non-linear patterns and relationships. Common activation functions include ReLU (Rectified Linear Unit), Sigmoid, Tanh, and others.\n",
    "\n",
    "Activation Level:\n",
    " Activation level is not a standard term used in the context of neural networks. However, it could be loosely interpreted as the level or intensity of activation of a neuron or a set of neurons in a neural network.\n",
    " If we consider the activation level as a measure of how \"activated\" or \"fired up\" a neuron is, it could be related to the output value produced by the neuron after applying the activation function. For example, in a ReLU activation function, the activation level might refer to the output of the neuron, which is the maximum of zero and the weighted sum of its inputs."
   ]
  },
  {
   "cell_type": "markdown",
   "id": "eb4ec6b2",
   "metadata": {
    "id": "eb4ec6b2"
   },
   "source": [
    "### Question 2: Tune the parameters in the email data (30)\n",
    "\n",
    "Load the email data we have used in the code demonstration. Tune the parameter for the neural network."
   ]
  },
  {
   "cell_type": "markdown",
   "id": "f1b31d23",
   "metadata": {
    "id": "f1b31d23"
   },
   "source": [
    "1. Tune the number of layer, the number of nodes, activation function and type of optimizers. (20)"
   ]
  },
  {
   "cell_type": "code",
   "execution_count": null,
   "id": "jN4Y4FC2n37m",
   "metadata": {
    "id": "jN4Y4FC2n37m"
   },
   "outputs": [],
   "source": [
    "import pandas as pd\n",
    "df=pd.read_csv('/content/email.csv')"
   ]
  },
  {
   "cell_type": "code",
   "execution_count": null,
   "id": "NsVXJ3q3n4JE",
   "metadata": {
    "colab": {
     "base_uri": "https://localhost:8080/",
     "height": 429
    },
    "id": "NsVXJ3q3n4JE",
    "outputId": "da43324a-08f5-4e19-e592-5b088c4843bb"
   },
   "outputs": [
    {
     "data": {
      "text/html": [
       "\n",
       "  <div id=\"df-02178cd2-04ed-4d6e-ab8c-68dd2ec8f741\" class=\"colab-df-container\">\n",
       "    <div>\n",
       "<style scoped>\n",
       "    .dataframe tbody tr th:only-of-type {\n",
       "        vertical-align: middle;\n",
       "    }\n",
       "\n",
       "    .dataframe tbody tr th {\n",
       "        vertical-align: top;\n",
       "    }\n",
       "\n",
       "    .dataframe thead th {\n",
       "        text-align: right;\n",
       "    }\n",
       "</style>\n",
       "<table border=\"1\" class=\"dataframe\">\n",
       "  <thead>\n",
       "    <tr style=\"text-align: right;\">\n",
       "      <th></th>\n",
       "      <th>spam</th>\n",
       "      <th>to_multiple</th>\n",
       "      <th>from</th>\n",
       "      <th>cc</th>\n",
       "      <th>sent_email</th>\n",
       "      <th>time</th>\n",
       "      <th>image</th>\n",
       "      <th>attach</th>\n",
       "      <th>dollar</th>\n",
       "      <th>winner</th>\n",
       "      <th>...</th>\n",
       "      <th>viagra</th>\n",
       "      <th>password</th>\n",
       "      <th>num_char</th>\n",
       "      <th>line_breaks</th>\n",
       "      <th>format</th>\n",
       "      <th>re_subj</th>\n",
       "      <th>exclaim_subj</th>\n",
       "      <th>urgent_subj</th>\n",
       "      <th>exclaim_mess</th>\n",
       "      <th>number</th>\n",
       "    </tr>\n",
       "  </thead>\n",
       "  <tbody>\n",
       "    <tr>\n",
       "      <th>0</th>\n",
       "      <td>0</td>\n",
       "      <td>0</td>\n",
       "      <td>1</td>\n",
       "      <td>0</td>\n",
       "      <td>0</td>\n",
       "      <td>2012-01-01 01:16:41</td>\n",
       "      <td>0</td>\n",
       "      <td>0</td>\n",
       "      <td>0</td>\n",
       "      <td>no</td>\n",
       "      <td>...</td>\n",
       "      <td>0</td>\n",
       "      <td>0</td>\n",
       "      <td>11.370</td>\n",
       "      <td>202</td>\n",
       "      <td>1</td>\n",
       "      <td>0</td>\n",
       "      <td>0</td>\n",
       "      <td>0</td>\n",
       "      <td>0</td>\n",
       "      <td>big</td>\n",
       "    </tr>\n",
       "    <tr>\n",
       "      <th>1</th>\n",
       "      <td>0</td>\n",
       "      <td>0</td>\n",
       "      <td>1</td>\n",
       "      <td>0</td>\n",
       "      <td>0</td>\n",
       "      <td>2012-01-01 02:03:59</td>\n",
       "      <td>0</td>\n",
       "      <td>0</td>\n",
       "      <td>0</td>\n",
       "      <td>no</td>\n",
       "      <td>...</td>\n",
       "      <td>0</td>\n",
       "      <td>0</td>\n",
       "      <td>10.504</td>\n",
       "      <td>202</td>\n",
       "      <td>1</td>\n",
       "      <td>0</td>\n",
       "      <td>0</td>\n",
       "      <td>0</td>\n",
       "      <td>1</td>\n",
       "      <td>small</td>\n",
       "    </tr>\n",
       "    <tr>\n",
       "      <th>2</th>\n",
       "      <td>0</td>\n",
       "      <td>0</td>\n",
       "      <td>1</td>\n",
       "      <td>0</td>\n",
       "      <td>0</td>\n",
       "      <td>2012-01-01 11:00:32</td>\n",
       "      <td>0</td>\n",
       "      <td>0</td>\n",
       "      <td>4</td>\n",
       "      <td>no</td>\n",
       "      <td>...</td>\n",
       "      <td>0</td>\n",
       "      <td>0</td>\n",
       "      <td>7.773</td>\n",
       "      <td>192</td>\n",
       "      <td>1</td>\n",
       "      <td>0</td>\n",
       "      <td>0</td>\n",
       "      <td>0</td>\n",
       "      <td>6</td>\n",
       "      <td>small</td>\n",
       "    </tr>\n",
       "    <tr>\n",
       "      <th>3</th>\n",
       "      <td>0</td>\n",
       "      <td>0</td>\n",
       "      <td>1</td>\n",
       "      <td>0</td>\n",
       "      <td>0</td>\n",
       "      <td>2012-01-01 04:09:49</td>\n",
       "      <td>0</td>\n",
       "      <td>0</td>\n",
       "      <td>0</td>\n",
       "      <td>no</td>\n",
       "      <td>...</td>\n",
       "      <td>0</td>\n",
       "      <td>0</td>\n",
       "      <td>13.256</td>\n",
       "      <td>255</td>\n",
       "      <td>1</td>\n",
       "      <td>0</td>\n",
       "      <td>0</td>\n",
       "      <td>0</td>\n",
       "      <td>48</td>\n",
       "      <td>small</td>\n",
       "    </tr>\n",
       "    <tr>\n",
       "      <th>4</th>\n",
       "      <td>0</td>\n",
       "      <td>0</td>\n",
       "      <td>1</td>\n",
       "      <td>0</td>\n",
       "      <td>0</td>\n",
       "      <td>2012-01-01 05:00:01</td>\n",
       "      <td>0</td>\n",
       "      <td>0</td>\n",
       "      <td>0</td>\n",
       "      <td>no</td>\n",
       "      <td>...</td>\n",
       "      <td>0</td>\n",
       "      <td>2</td>\n",
       "      <td>1.231</td>\n",
       "      <td>29</td>\n",
       "      <td>0</td>\n",
       "      <td>0</td>\n",
       "      <td>0</td>\n",
       "      <td>0</td>\n",
       "      <td>1</td>\n",
       "      <td>none</td>\n",
       "    </tr>\n",
       "  </tbody>\n",
       "</table>\n",
       "<p>5 rows × 21 columns</p>\n",
       "</div>\n",
       "    <div class=\"colab-df-buttons\">\n",
       "\n",
       "  <div class=\"colab-df-container\">\n",
       "    <button class=\"colab-df-convert\" onclick=\"convertToInteractive('df-02178cd2-04ed-4d6e-ab8c-68dd2ec8f741')\"\n",
       "            title=\"Convert this dataframe to an interactive table.\"\n",
       "            style=\"display:none;\">\n",
       "\n",
       "  <svg xmlns=\"http://www.w3.org/2000/svg\" height=\"24px\" viewBox=\"0 -960 960 960\">\n",
       "    <path d=\"M120-120v-720h720v720H120Zm60-500h600v-160H180v160Zm220 220h160v-160H400v160Zm0 220h160v-160H400v160ZM180-400h160v-160H180v160Zm440 0h160v-160H620v160ZM180-180h160v-160H180v160Zm440 0h160v-160H620v160Z\"/>\n",
       "  </svg>\n",
       "    </button>\n",
       "\n",
       "  <style>\n",
       "    .colab-df-container {\n",
       "      display:flex;\n",
       "      gap: 12px;\n",
       "    }\n",
       "\n",
       "    .colab-df-convert {\n",
       "      background-color: #E8F0FE;\n",
       "      border: none;\n",
       "      border-radius: 50%;\n",
       "      cursor: pointer;\n",
       "      display: none;\n",
       "      fill: #1967D2;\n",
       "      height: 32px;\n",
       "      padding: 0 0 0 0;\n",
       "      width: 32px;\n",
       "    }\n",
       "\n",
       "    .colab-df-convert:hover {\n",
       "      background-color: #E2EBFA;\n",
       "      box-shadow: 0px 1px 2px rgba(60, 64, 67, 0.3), 0px 1px 3px 1px rgba(60, 64, 67, 0.15);\n",
       "      fill: #174EA6;\n",
       "    }\n",
       "\n",
       "    .colab-df-buttons div {\n",
       "      margin-bottom: 4px;\n",
       "    }\n",
       "\n",
       "    [theme=dark] .colab-df-convert {\n",
       "      background-color: #3B4455;\n",
       "      fill: #D2E3FC;\n",
       "    }\n",
       "\n",
       "    [theme=dark] .colab-df-convert:hover {\n",
       "      background-color: #434B5C;\n",
       "      box-shadow: 0px 1px 3px 1px rgba(0, 0, 0, 0.15);\n",
       "      filter: drop-shadow(0px 1px 2px rgba(0, 0, 0, 0.3));\n",
       "      fill: #FFFFFF;\n",
       "    }\n",
       "  </style>\n",
       "\n",
       "    <script>\n",
       "      const buttonEl =\n",
       "        document.querySelector('#df-02178cd2-04ed-4d6e-ab8c-68dd2ec8f741 button.colab-df-convert');\n",
       "      buttonEl.style.display =\n",
       "        google.colab.kernel.accessAllowed ? 'block' : 'none';\n",
       "\n",
       "      async function convertToInteractive(key) {\n",
       "        const element = document.querySelector('#df-02178cd2-04ed-4d6e-ab8c-68dd2ec8f741');\n",
       "        const dataTable =\n",
       "          await google.colab.kernel.invokeFunction('convertToInteractive',\n",
       "                                                    [key], {});\n",
       "        if (!dataTable) return;\n",
       "\n",
       "        const docLinkHtml = 'Like what you see? Visit the ' +\n",
       "          '<a target=\"_blank\" href=https://colab.research.google.com/notebooks/data_table.ipynb>data table notebook</a>'\n",
       "          + ' to learn more about interactive tables.';\n",
       "        element.innerHTML = '';\n",
       "        dataTable['output_type'] = 'display_data';\n",
       "        await google.colab.output.renderOutput(dataTable, element);\n",
       "        const docLink = document.createElement('div');\n",
       "        docLink.innerHTML = docLinkHtml;\n",
       "        element.appendChild(docLink);\n",
       "      }\n",
       "    </script>\n",
       "  </div>\n",
       "\n",
       "\n",
       "<div id=\"df-c1205a94-25b0-476e-b910-c5348c3ad71c\">\n",
       "  <button class=\"colab-df-quickchart\" onclick=\"quickchart('df-c1205a94-25b0-476e-b910-c5348c3ad71c')\"\n",
       "            title=\"Suggest charts\"\n",
       "            style=\"display:none;\">\n",
       "\n",
       "<svg xmlns=\"http://www.w3.org/2000/svg\" height=\"24px\"viewBox=\"0 0 24 24\"\n",
       "     width=\"24px\">\n",
       "    <g>\n",
       "        <path d=\"M19 3H5c-1.1 0-2 .9-2 2v14c0 1.1.9 2 2 2h14c1.1 0 2-.9 2-2V5c0-1.1-.9-2-2-2zM9 17H7v-7h2v7zm4 0h-2V7h2v10zm4 0h-2v-4h2v4z\"/>\n",
       "    </g>\n",
       "</svg>\n",
       "  </button>\n",
       "\n",
       "<style>\n",
       "  .colab-df-quickchart {\n",
       "      --bg-color: #E8F0FE;\n",
       "      --fill-color: #1967D2;\n",
       "      --hover-bg-color: #E2EBFA;\n",
       "      --hover-fill-color: #174EA6;\n",
       "      --disabled-fill-color: #AAA;\n",
       "      --disabled-bg-color: #DDD;\n",
       "  }\n",
       "\n",
       "  [theme=dark] .colab-df-quickchart {\n",
       "      --bg-color: #3B4455;\n",
       "      --fill-color: #D2E3FC;\n",
       "      --hover-bg-color: #434B5C;\n",
       "      --hover-fill-color: #FFFFFF;\n",
       "      --disabled-bg-color: #3B4455;\n",
       "      --disabled-fill-color: #666;\n",
       "  }\n",
       "\n",
       "  .colab-df-quickchart {\n",
       "    background-color: var(--bg-color);\n",
       "    border: none;\n",
       "    border-radius: 50%;\n",
       "    cursor: pointer;\n",
       "    display: none;\n",
       "    fill: var(--fill-color);\n",
       "    height: 32px;\n",
       "    padding: 0;\n",
       "    width: 32px;\n",
       "  }\n",
       "\n",
       "  .colab-df-quickchart:hover {\n",
       "    background-color: var(--hover-bg-color);\n",
       "    box-shadow: 0 1px 2px rgba(60, 64, 67, 0.3), 0 1px 3px 1px rgba(60, 64, 67, 0.15);\n",
       "    fill: var(--button-hover-fill-color);\n",
       "  }\n",
       "\n",
       "  .colab-df-quickchart-complete:disabled,\n",
       "  .colab-df-quickchart-complete:disabled:hover {\n",
       "    background-color: var(--disabled-bg-color);\n",
       "    fill: var(--disabled-fill-color);\n",
       "    box-shadow: none;\n",
       "  }\n",
       "\n",
       "  .colab-df-spinner {\n",
       "    border: 2px solid var(--fill-color);\n",
       "    border-color: transparent;\n",
       "    border-bottom-color: var(--fill-color);\n",
       "    animation:\n",
       "      spin 1s steps(1) infinite;\n",
       "  }\n",
       "\n",
       "  @keyframes spin {\n",
       "    0% {\n",
       "      border-color: transparent;\n",
       "      border-bottom-color: var(--fill-color);\n",
       "      border-left-color: var(--fill-color);\n",
       "    }\n",
       "    20% {\n",
       "      border-color: transparent;\n",
       "      border-left-color: var(--fill-color);\n",
       "      border-top-color: var(--fill-color);\n",
       "    }\n",
       "    30% {\n",
       "      border-color: transparent;\n",
       "      border-left-color: var(--fill-color);\n",
       "      border-top-color: var(--fill-color);\n",
       "      border-right-color: var(--fill-color);\n",
       "    }\n",
       "    40% {\n",
       "      border-color: transparent;\n",
       "      border-right-color: var(--fill-color);\n",
       "      border-top-color: var(--fill-color);\n",
       "    }\n",
       "    60% {\n",
       "      border-color: transparent;\n",
       "      border-right-color: var(--fill-color);\n",
       "    }\n",
       "    80% {\n",
       "      border-color: transparent;\n",
       "      border-right-color: var(--fill-color);\n",
       "      border-bottom-color: var(--fill-color);\n",
       "    }\n",
       "    90% {\n",
       "      border-color: transparent;\n",
       "      border-bottom-color: var(--fill-color);\n",
       "    }\n",
       "  }\n",
       "</style>\n",
       "\n",
       "  <script>\n",
       "    async function quickchart(key) {\n",
       "      const quickchartButtonEl =\n",
       "        document.querySelector('#' + key + ' button');\n",
       "      quickchartButtonEl.disabled = true;  // To prevent multiple clicks.\n",
       "      quickchartButtonEl.classList.add('colab-df-spinner');\n",
       "      try {\n",
       "        const charts = await google.colab.kernel.invokeFunction(\n",
       "            'suggestCharts', [key], {});\n",
       "      } catch (error) {\n",
       "        console.error('Error during call to suggestCharts:', error);\n",
       "      }\n",
       "      quickchartButtonEl.classList.remove('colab-df-spinner');\n",
       "      quickchartButtonEl.classList.add('colab-df-quickchart-complete');\n",
       "    }\n",
       "    (() => {\n",
       "      let quickchartButtonEl =\n",
       "        document.querySelector('#df-c1205a94-25b0-476e-b910-c5348c3ad71c button');\n",
       "      quickchartButtonEl.style.display =\n",
       "        google.colab.kernel.accessAllowed ? 'block' : 'none';\n",
       "    })();\n",
       "  </script>\n",
       "</div>\n",
       "    </div>\n",
       "  </div>\n"
      ],
      "text/plain": [
       "   spam  to_multiple  from  cc  sent_email                 time  image  \\\n",
       "0     0            0     1   0           0  2012-01-01 01:16:41      0   \n",
       "1     0            0     1   0           0  2012-01-01 02:03:59      0   \n",
       "2     0            0     1   0           0  2012-01-01 11:00:32      0   \n",
       "3     0            0     1   0           0  2012-01-01 04:09:49      0   \n",
       "4     0            0     1   0           0  2012-01-01 05:00:01      0   \n",
       "\n",
       "   attach  dollar winner  ...  viagra  password  num_char  line_breaks  \\\n",
       "0       0       0     no  ...       0         0    11.370          202   \n",
       "1       0       0     no  ...       0         0    10.504          202   \n",
       "2       0       4     no  ...       0         0     7.773          192   \n",
       "3       0       0     no  ...       0         0    13.256          255   \n",
       "4       0       0     no  ...       0         2     1.231           29   \n",
       "\n",
       "   format  re_subj  exclaim_subj  urgent_subj  exclaim_mess  number  \n",
       "0       1        0             0            0             0     big  \n",
       "1       1        0             0            0             1   small  \n",
       "2       1        0             0            0             6   small  \n",
       "3       1        0             0            0            48   small  \n",
       "4       0        0             0            0             1    none  \n",
       "\n",
       "[5 rows x 21 columns]"
      ]
     },
     "execution_count": 17,
     "metadata": {},
     "output_type": "execute_result"
    }
   ],
   "source": [
    "df.head()"
   ]
  },
  {
   "cell_type": "code",
   "execution_count": null,
   "id": "Cy8SQaMlQLvI",
   "metadata": {
    "colab": {
     "base_uri": "https://localhost:8080/"
    },
    "id": "Cy8SQaMlQLvI",
    "outputId": "77fa917f-c9cf-4986-956f-253203b352eb"
   },
   "outputs": [
    {
     "data": {
      "text/plain": [
       "spam            0\n",
       "to_multiple     0\n",
       "from            0\n",
       "cc              0\n",
       "sent_email      0\n",
       "time            0\n",
       "image           0\n",
       "attach          0\n",
       "dollar          0\n",
       "winner          0\n",
       "inherit         0\n",
       "viagra          0\n",
       "password        0\n",
       "num_char        0\n",
       "line_breaks     0\n",
       "format          0\n",
       "re_subj         0\n",
       "exclaim_subj    0\n",
       "urgent_subj     0\n",
       "exclaim_mess    0\n",
       "number          0\n",
       "dtype: int64"
      ]
     },
     "execution_count": 18,
     "metadata": {},
     "output_type": "execute_result"
    }
   ],
   "source": [
    "df.isna().sum()"
   ]
  },
  {
   "cell_type": "code",
   "execution_count": null,
   "id": "XgutlYDHQIbW",
   "metadata": {
    "colab": {
     "base_uri": "https://localhost:8080/"
    },
    "id": "XgutlYDHQIbW",
    "outputId": "0f2d7a40-3853-4b2c-a1cb-a5dd940c4898"
   },
   "outputs": [
    {
     "data": {
      "text/plain": [
       "1    3918\n",
       "0       3\n",
       "Name: from, dtype: int64"
      ]
     },
     "execution_count": 19,
     "metadata": {},
     "output_type": "execute_result"
    }
   ],
   "source": [
    "df['from'].value_counts()"
   ]
  },
  {
   "cell_type": "code",
   "execution_count": null,
   "id": "7HvmMfeNn3-N",
   "metadata": {
    "colab": {
     "base_uri": "https://localhost:8080/"
    },
    "id": "7HvmMfeNn3-N",
    "outputId": "f460e30e-ee9f-440e-bacd-cbaf0e16496e"
   },
   "outputs": [
    {
     "data": {
      "text/plain": [
       "(3921, 21)"
      ]
     },
     "execution_count": 20,
     "metadata": {},
     "output_type": "execute_result"
    }
   ],
   "source": [
    "df.shape"
   ]
  },
  {
   "cell_type": "code",
   "execution_count": null,
   "id": "VoPDBqsTn4BP",
   "metadata": {
    "colab": {
     "base_uri": "https://localhost:8080/"
    },
    "id": "VoPDBqsTn4BP",
    "outputId": "1e2d68f8-15f1-4de0-f1c1-485d493a7749"
   },
   "outputs": [
    {
     "data": {
      "text/plain": [
       "Index(['spam', 'to_multiple', 'from', 'cc', 'sent_email', 'time', 'image',\n",
       "       'attach', 'dollar', 'winner', 'inherit', 'viagra', 'password',\n",
       "       'num_char', 'line_breaks', 'format', 're_subj', 'exclaim_subj',\n",
       "       'urgent_subj', 'exclaim_mess', 'number'],\n",
       "      dtype='object')"
      ]
     },
     "execution_count": 21,
     "metadata": {},
     "output_type": "execute_result"
    }
   ],
   "source": [
    "df.columns\n"
   ]
  },
  {
   "cell_type": "code",
   "execution_count": null,
   "id": "_GVe-kpXpQ9U",
   "metadata": {
    "colab": {
     "base_uri": "https://localhost:8080/"
    },
    "id": "_GVe-kpXpQ9U",
    "outputId": "311d8358-6340-4333-8033-7b3565f2154a"
   },
   "outputs": [
    {
     "data": {
      "text/plain": [
       "no     3857\n",
       "yes      64\n",
       "Name: winner, dtype: int64"
      ]
     },
     "execution_count": 22,
     "metadata": {},
     "output_type": "execute_result"
    }
   ],
   "source": [
    "df['winner'].value_counts()"
   ]
  },
  {
   "cell_type": "code",
   "execution_count": null,
   "id": "8np2sHYwpRA9",
   "metadata": {
    "colab": {
     "base_uri": "https://localhost:8080/",
     "height": 320
    },
    "id": "8np2sHYwpRA9",
    "outputId": "3d0b41f4-2d4a-4f3e-de02-3de09b639d99"
   },
   "outputs": [
    {
     "data": {
      "text/html": [
       "\n",
       "  <div id=\"df-dcf62a1e-6323-4ea3-a090-34865d65ebfa\" class=\"colab-df-container\">\n",
       "    <div>\n",
       "<style scoped>\n",
       "    .dataframe tbody tr th:only-of-type {\n",
       "        vertical-align: middle;\n",
       "    }\n",
       "\n",
       "    .dataframe tbody tr th {\n",
       "        vertical-align: top;\n",
       "    }\n",
       "\n",
       "    .dataframe thead th {\n",
       "        text-align: right;\n",
       "    }\n",
       "</style>\n",
       "<table border=\"1\" class=\"dataframe\">\n",
       "  <thead>\n",
       "    <tr style=\"text-align: right;\">\n",
       "      <th></th>\n",
       "      <th>spam</th>\n",
       "      <th>to_multiple</th>\n",
       "      <th>from</th>\n",
       "      <th>cc</th>\n",
       "      <th>sent_email</th>\n",
       "      <th>image</th>\n",
       "      <th>attach</th>\n",
       "      <th>dollar</th>\n",
       "      <th>inherit</th>\n",
       "      <th>viagra</th>\n",
       "      <th>password</th>\n",
       "      <th>num_char</th>\n",
       "      <th>line_breaks</th>\n",
       "      <th>format</th>\n",
       "      <th>re_subj</th>\n",
       "      <th>exclaim_subj</th>\n",
       "      <th>urgent_subj</th>\n",
       "      <th>exclaim_mess</th>\n",
       "    </tr>\n",
       "  </thead>\n",
       "  <tbody>\n",
       "    <tr>\n",
       "      <th>count</th>\n",
       "      <td>3921.000000</td>\n",
       "      <td>3921.000000</td>\n",
       "      <td>3921.000000</td>\n",
       "      <td>3921.000000</td>\n",
       "      <td>3921.000000</td>\n",
       "      <td>3921.000000</td>\n",
       "      <td>3921.000000</td>\n",
       "      <td>3921.000000</td>\n",
       "      <td>3921.000000</td>\n",
       "      <td>3921.000000</td>\n",
       "      <td>3921.000000</td>\n",
       "      <td>3921.000000</td>\n",
       "      <td>3921.000000</td>\n",
       "      <td>3921.000000</td>\n",
       "      <td>3921.000000</td>\n",
       "      <td>3921.000000</td>\n",
       "      <td>3921.000000</td>\n",
       "      <td>3921.000000</td>\n",
       "    </tr>\n",
       "    <tr>\n",
       "      <th>mean</th>\n",
       "      <td>0.093599</td>\n",
       "      <td>0.158123</td>\n",
       "      <td>0.999235</td>\n",
       "      <td>0.404489</td>\n",
       "      <td>0.277990</td>\n",
       "      <td>0.048457</td>\n",
       "      <td>0.132874</td>\n",
       "      <td>1.467228</td>\n",
       "      <td>0.038001</td>\n",
       "      <td>0.002040</td>\n",
       "      <td>0.108136</td>\n",
       "      <td>10.706586</td>\n",
       "      <td>230.658505</td>\n",
       "      <td>0.695231</td>\n",
       "      <td>0.261413</td>\n",
       "      <td>0.080337</td>\n",
       "      <td>0.001785</td>\n",
       "      <td>6.584290</td>\n",
       "    </tr>\n",
       "    <tr>\n",
       "      <th>std</th>\n",
       "      <td>0.291307</td>\n",
       "      <td>0.364903</td>\n",
       "      <td>0.027654</td>\n",
       "      <td>2.666424</td>\n",
       "      <td>0.448066</td>\n",
       "      <td>0.450848</td>\n",
       "      <td>0.718518</td>\n",
       "      <td>5.022298</td>\n",
       "      <td>0.267899</td>\n",
       "      <td>0.127759</td>\n",
       "      <td>0.959931</td>\n",
       "      <td>14.645786</td>\n",
       "      <td>319.304959</td>\n",
       "      <td>0.460368</td>\n",
       "      <td>0.439460</td>\n",
       "      <td>0.271848</td>\n",
       "      <td>0.042220</td>\n",
       "      <td>51.479871</td>\n",
       "    </tr>\n",
       "    <tr>\n",
       "      <th>min</th>\n",
       "      <td>0.000000</td>\n",
       "      <td>0.000000</td>\n",
       "      <td>0.000000</td>\n",
       "      <td>0.000000</td>\n",
       "      <td>0.000000</td>\n",
       "      <td>0.000000</td>\n",
       "      <td>0.000000</td>\n",
       "      <td>0.000000</td>\n",
       "      <td>0.000000</td>\n",
       "      <td>0.000000</td>\n",
       "      <td>0.000000</td>\n",
       "      <td>0.001000</td>\n",
       "      <td>1.000000</td>\n",
       "      <td>0.000000</td>\n",
       "      <td>0.000000</td>\n",
       "      <td>0.000000</td>\n",
       "      <td>0.000000</td>\n",
       "      <td>0.000000</td>\n",
       "    </tr>\n",
       "    <tr>\n",
       "      <th>25%</th>\n",
       "      <td>0.000000</td>\n",
       "      <td>0.000000</td>\n",
       "      <td>1.000000</td>\n",
       "      <td>0.000000</td>\n",
       "      <td>0.000000</td>\n",
       "      <td>0.000000</td>\n",
       "      <td>0.000000</td>\n",
       "      <td>0.000000</td>\n",
       "      <td>0.000000</td>\n",
       "      <td>0.000000</td>\n",
       "      <td>0.000000</td>\n",
       "      <td>1.459000</td>\n",
       "      <td>34.000000</td>\n",
       "      <td>0.000000</td>\n",
       "      <td>0.000000</td>\n",
       "      <td>0.000000</td>\n",
       "      <td>0.000000</td>\n",
       "      <td>0.000000</td>\n",
       "    </tr>\n",
       "    <tr>\n",
       "      <th>50%</th>\n",
       "      <td>0.000000</td>\n",
       "      <td>0.000000</td>\n",
       "      <td>1.000000</td>\n",
       "      <td>0.000000</td>\n",
       "      <td>0.000000</td>\n",
       "      <td>0.000000</td>\n",
       "      <td>0.000000</td>\n",
       "      <td>0.000000</td>\n",
       "      <td>0.000000</td>\n",
       "      <td>0.000000</td>\n",
       "      <td>0.000000</td>\n",
       "      <td>5.856000</td>\n",
       "      <td>119.000000</td>\n",
       "      <td>1.000000</td>\n",
       "      <td>0.000000</td>\n",
       "      <td>0.000000</td>\n",
       "      <td>0.000000</td>\n",
       "      <td>1.000000</td>\n",
       "    </tr>\n",
       "    <tr>\n",
       "      <th>75%</th>\n",
       "      <td>0.000000</td>\n",
       "      <td>0.000000</td>\n",
       "      <td>1.000000</td>\n",
       "      <td>0.000000</td>\n",
       "      <td>1.000000</td>\n",
       "      <td>0.000000</td>\n",
       "      <td>0.000000</td>\n",
       "      <td>0.000000</td>\n",
       "      <td>0.000000</td>\n",
       "      <td>0.000000</td>\n",
       "      <td>0.000000</td>\n",
       "      <td>14.084000</td>\n",
       "      <td>298.000000</td>\n",
       "      <td>1.000000</td>\n",
       "      <td>1.000000</td>\n",
       "      <td>0.000000</td>\n",
       "      <td>0.000000</td>\n",
       "      <td>4.000000</td>\n",
       "    </tr>\n",
       "    <tr>\n",
       "      <th>max</th>\n",
       "      <td>1.000000</td>\n",
       "      <td>1.000000</td>\n",
       "      <td>1.000000</td>\n",
       "      <td>68.000000</td>\n",
       "      <td>1.000000</td>\n",
       "      <td>20.000000</td>\n",
       "      <td>21.000000</td>\n",
       "      <td>64.000000</td>\n",
       "      <td>9.000000</td>\n",
       "      <td>8.000000</td>\n",
       "      <td>28.000000</td>\n",
       "      <td>190.087000</td>\n",
       "      <td>4022.000000</td>\n",
       "      <td>1.000000</td>\n",
       "      <td>1.000000</td>\n",
       "      <td>1.000000</td>\n",
       "      <td>1.000000</td>\n",
       "      <td>1236.000000</td>\n",
       "    </tr>\n",
       "  </tbody>\n",
       "</table>\n",
       "</div>\n",
       "    <div class=\"colab-df-buttons\">\n",
       "\n",
       "  <div class=\"colab-df-container\">\n",
       "    <button class=\"colab-df-convert\" onclick=\"convertToInteractive('df-dcf62a1e-6323-4ea3-a090-34865d65ebfa')\"\n",
       "            title=\"Convert this dataframe to an interactive table.\"\n",
       "            style=\"display:none;\">\n",
       "\n",
       "  <svg xmlns=\"http://www.w3.org/2000/svg\" height=\"24px\" viewBox=\"0 -960 960 960\">\n",
       "    <path d=\"M120-120v-720h720v720H120Zm60-500h600v-160H180v160Zm220 220h160v-160H400v160Zm0 220h160v-160H400v160ZM180-400h160v-160H180v160Zm440 0h160v-160H620v160ZM180-180h160v-160H180v160Zm440 0h160v-160H620v160Z\"/>\n",
       "  </svg>\n",
       "    </button>\n",
       "\n",
       "  <style>\n",
       "    .colab-df-container {\n",
       "      display:flex;\n",
       "      gap: 12px;\n",
       "    }\n",
       "\n",
       "    .colab-df-convert {\n",
       "      background-color: #E8F0FE;\n",
       "      border: none;\n",
       "      border-radius: 50%;\n",
       "      cursor: pointer;\n",
       "      display: none;\n",
       "      fill: #1967D2;\n",
       "      height: 32px;\n",
       "      padding: 0 0 0 0;\n",
       "      width: 32px;\n",
       "    }\n",
       "\n",
       "    .colab-df-convert:hover {\n",
       "      background-color: #E2EBFA;\n",
       "      box-shadow: 0px 1px 2px rgba(60, 64, 67, 0.3), 0px 1px 3px 1px rgba(60, 64, 67, 0.15);\n",
       "      fill: #174EA6;\n",
       "    }\n",
       "\n",
       "    .colab-df-buttons div {\n",
       "      margin-bottom: 4px;\n",
       "    }\n",
       "\n",
       "    [theme=dark] .colab-df-convert {\n",
       "      background-color: #3B4455;\n",
       "      fill: #D2E3FC;\n",
       "    }\n",
       "\n",
       "    [theme=dark] .colab-df-convert:hover {\n",
       "      background-color: #434B5C;\n",
       "      box-shadow: 0px 1px 3px 1px rgba(0, 0, 0, 0.15);\n",
       "      filter: drop-shadow(0px 1px 2px rgba(0, 0, 0, 0.3));\n",
       "      fill: #FFFFFF;\n",
       "    }\n",
       "  </style>\n",
       "\n",
       "    <script>\n",
       "      const buttonEl =\n",
       "        document.querySelector('#df-dcf62a1e-6323-4ea3-a090-34865d65ebfa button.colab-df-convert');\n",
       "      buttonEl.style.display =\n",
       "        google.colab.kernel.accessAllowed ? 'block' : 'none';\n",
       "\n",
       "      async function convertToInteractive(key) {\n",
       "        const element = document.querySelector('#df-dcf62a1e-6323-4ea3-a090-34865d65ebfa');\n",
       "        const dataTable =\n",
       "          await google.colab.kernel.invokeFunction('convertToInteractive',\n",
       "                                                    [key], {});\n",
       "        if (!dataTable) return;\n",
       "\n",
       "        const docLinkHtml = 'Like what you see? Visit the ' +\n",
       "          '<a target=\"_blank\" href=https://colab.research.google.com/notebooks/data_table.ipynb>data table notebook</a>'\n",
       "          + ' to learn more about interactive tables.';\n",
       "        element.innerHTML = '';\n",
       "        dataTable['output_type'] = 'display_data';\n",
       "        await google.colab.output.renderOutput(dataTable, element);\n",
       "        const docLink = document.createElement('div');\n",
       "        docLink.innerHTML = docLinkHtml;\n",
       "        element.appendChild(docLink);\n",
       "      }\n",
       "    </script>\n",
       "  </div>\n",
       "\n",
       "\n",
       "<div id=\"df-c7355884-97b7-404c-b211-dd04f107c561\">\n",
       "  <button class=\"colab-df-quickchart\" onclick=\"quickchart('df-c7355884-97b7-404c-b211-dd04f107c561')\"\n",
       "            title=\"Suggest charts\"\n",
       "            style=\"display:none;\">\n",
       "\n",
       "<svg xmlns=\"http://www.w3.org/2000/svg\" height=\"24px\"viewBox=\"0 0 24 24\"\n",
       "     width=\"24px\">\n",
       "    <g>\n",
       "        <path d=\"M19 3H5c-1.1 0-2 .9-2 2v14c0 1.1.9 2 2 2h14c1.1 0 2-.9 2-2V5c0-1.1-.9-2-2-2zM9 17H7v-7h2v7zm4 0h-2V7h2v10zm4 0h-2v-4h2v4z\"/>\n",
       "    </g>\n",
       "</svg>\n",
       "  </button>\n",
       "\n",
       "<style>\n",
       "  .colab-df-quickchart {\n",
       "      --bg-color: #E8F0FE;\n",
       "      --fill-color: #1967D2;\n",
       "      --hover-bg-color: #E2EBFA;\n",
       "      --hover-fill-color: #174EA6;\n",
       "      --disabled-fill-color: #AAA;\n",
       "      --disabled-bg-color: #DDD;\n",
       "  }\n",
       "\n",
       "  [theme=dark] .colab-df-quickchart {\n",
       "      --bg-color: #3B4455;\n",
       "      --fill-color: #D2E3FC;\n",
       "      --hover-bg-color: #434B5C;\n",
       "      --hover-fill-color: #FFFFFF;\n",
       "      --disabled-bg-color: #3B4455;\n",
       "      --disabled-fill-color: #666;\n",
       "  }\n",
       "\n",
       "  .colab-df-quickchart {\n",
       "    background-color: var(--bg-color);\n",
       "    border: none;\n",
       "    border-radius: 50%;\n",
       "    cursor: pointer;\n",
       "    display: none;\n",
       "    fill: var(--fill-color);\n",
       "    height: 32px;\n",
       "    padding: 0;\n",
       "    width: 32px;\n",
       "  }\n",
       "\n",
       "  .colab-df-quickchart:hover {\n",
       "    background-color: var(--hover-bg-color);\n",
       "    box-shadow: 0 1px 2px rgba(60, 64, 67, 0.3), 0 1px 3px 1px rgba(60, 64, 67, 0.15);\n",
       "    fill: var(--button-hover-fill-color);\n",
       "  }\n",
       "\n",
       "  .colab-df-quickchart-complete:disabled,\n",
       "  .colab-df-quickchart-complete:disabled:hover {\n",
       "    background-color: var(--disabled-bg-color);\n",
       "    fill: var(--disabled-fill-color);\n",
       "    box-shadow: none;\n",
       "  }\n",
       "\n",
       "  .colab-df-spinner {\n",
       "    border: 2px solid var(--fill-color);\n",
       "    border-color: transparent;\n",
       "    border-bottom-color: var(--fill-color);\n",
       "    animation:\n",
       "      spin 1s steps(1) infinite;\n",
       "  }\n",
       "\n",
       "  @keyframes spin {\n",
       "    0% {\n",
       "      border-color: transparent;\n",
       "      border-bottom-color: var(--fill-color);\n",
       "      border-left-color: var(--fill-color);\n",
       "    }\n",
       "    20% {\n",
       "      border-color: transparent;\n",
       "      border-left-color: var(--fill-color);\n",
       "      border-top-color: var(--fill-color);\n",
       "    }\n",
       "    30% {\n",
       "      border-color: transparent;\n",
       "      border-left-color: var(--fill-color);\n",
       "      border-top-color: var(--fill-color);\n",
       "      border-right-color: var(--fill-color);\n",
       "    }\n",
       "    40% {\n",
       "      border-color: transparent;\n",
       "      border-right-color: var(--fill-color);\n",
       "      border-top-color: var(--fill-color);\n",
       "    }\n",
       "    60% {\n",
       "      border-color: transparent;\n",
       "      border-right-color: var(--fill-color);\n",
       "    }\n",
       "    80% {\n",
       "      border-color: transparent;\n",
       "      border-right-color: var(--fill-color);\n",
       "      border-bottom-color: var(--fill-color);\n",
       "    }\n",
       "    90% {\n",
       "      border-color: transparent;\n",
       "      border-bottom-color: var(--fill-color);\n",
       "    }\n",
       "  }\n",
       "</style>\n",
       "\n",
       "  <script>\n",
       "    async function quickchart(key) {\n",
       "      const quickchartButtonEl =\n",
       "        document.querySelector('#' + key + ' button');\n",
       "      quickchartButtonEl.disabled = true;  // To prevent multiple clicks.\n",
       "      quickchartButtonEl.classList.add('colab-df-spinner');\n",
       "      try {\n",
       "        const charts = await google.colab.kernel.invokeFunction(\n",
       "            'suggestCharts', [key], {});\n",
       "      } catch (error) {\n",
       "        console.error('Error during call to suggestCharts:', error);\n",
       "      }\n",
       "      quickchartButtonEl.classList.remove('colab-df-spinner');\n",
       "      quickchartButtonEl.classList.add('colab-df-quickchart-complete');\n",
       "    }\n",
       "    (() => {\n",
       "      let quickchartButtonEl =\n",
       "        document.querySelector('#df-c7355884-97b7-404c-b211-dd04f107c561 button');\n",
       "      quickchartButtonEl.style.display =\n",
       "        google.colab.kernel.accessAllowed ? 'block' : 'none';\n",
       "    })();\n",
       "  </script>\n",
       "</div>\n",
       "    </div>\n",
       "  </div>\n"
      ],
      "text/plain": [
       "              spam  to_multiple         from           cc   sent_email  \\\n",
       "count  3921.000000  3921.000000  3921.000000  3921.000000  3921.000000   \n",
       "mean      0.093599     0.158123     0.999235     0.404489     0.277990   \n",
       "std       0.291307     0.364903     0.027654     2.666424     0.448066   \n",
       "min       0.000000     0.000000     0.000000     0.000000     0.000000   \n",
       "25%       0.000000     0.000000     1.000000     0.000000     0.000000   \n",
       "50%       0.000000     0.000000     1.000000     0.000000     0.000000   \n",
       "75%       0.000000     0.000000     1.000000     0.000000     1.000000   \n",
       "max       1.000000     1.000000     1.000000    68.000000     1.000000   \n",
       "\n",
       "             image       attach       dollar      inherit       viagra  \\\n",
       "count  3921.000000  3921.000000  3921.000000  3921.000000  3921.000000   \n",
       "mean      0.048457     0.132874     1.467228     0.038001     0.002040   \n",
       "std       0.450848     0.718518     5.022298     0.267899     0.127759   \n",
       "min       0.000000     0.000000     0.000000     0.000000     0.000000   \n",
       "25%       0.000000     0.000000     0.000000     0.000000     0.000000   \n",
       "50%       0.000000     0.000000     0.000000     0.000000     0.000000   \n",
       "75%       0.000000     0.000000     0.000000     0.000000     0.000000   \n",
       "max      20.000000    21.000000    64.000000     9.000000     8.000000   \n",
       "\n",
       "          password     num_char  line_breaks       format      re_subj  \\\n",
       "count  3921.000000  3921.000000  3921.000000  3921.000000  3921.000000   \n",
       "mean      0.108136    10.706586   230.658505     0.695231     0.261413   \n",
       "std       0.959931    14.645786   319.304959     0.460368     0.439460   \n",
       "min       0.000000     0.001000     1.000000     0.000000     0.000000   \n",
       "25%       0.000000     1.459000    34.000000     0.000000     0.000000   \n",
       "50%       0.000000     5.856000   119.000000     1.000000     0.000000   \n",
       "75%       0.000000    14.084000   298.000000     1.000000     1.000000   \n",
       "max      28.000000   190.087000  4022.000000     1.000000     1.000000   \n",
       "\n",
       "       exclaim_subj  urgent_subj  exclaim_mess  \n",
       "count   3921.000000  3921.000000   3921.000000  \n",
       "mean       0.080337     0.001785      6.584290  \n",
       "std        0.271848     0.042220     51.479871  \n",
       "min        0.000000     0.000000      0.000000  \n",
       "25%        0.000000     0.000000      0.000000  \n",
       "50%        0.000000     0.000000      1.000000  \n",
       "75%        0.000000     0.000000      4.000000  \n",
       "max        1.000000     1.000000   1236.000000  "
      ]
     },
     "execution_count": 23,
     "metadata": {},
     "output_type": "execute_result"
    }
   ],
   "source": [
    "df.describe()"
   ]
  },
  {
   "cell_type": "code",
   "execution_count": null,
   "id": "2RQ6dPnwn4EF",
   "metadata": {
    "colab": {
     "base_uri": "https://localhost:8080/"
    },
    "id": "2RQ6dPnwn4EF",
    "outputId": "05b1d73e-c1ae-45f0-a41e-2c74724b6887"
   },
   "outputs": [
    {
     "data": {
      "text/plain": [
       "0    3554\n",
       "1     367\n",
       "Name: spam, dtype: int64"
      ]
     },
     "execution_count": 24,
     "metadata": {},
     "output_type": "execute_result"
    }
   ],
   "source": [
    "df['spam'].value_counts()"
   ]
  },
  {
   "cell_type": "code",
   "execution_count": null,
   "id": "4YFx18T9pYGM",
   "metadata": {
    "colab": {
     "base_uri": "https://localhost:8080/"
    },
    "id": "4YFx18T9pYGM",
    "outputId": "060012f1-7c75-4961-e4cb-f4f4a01bf67b"
   },
   "outputs": [
    {
     "data": {
      "text/plain": [
       "spam              int64\n",
       "to_multiple       int64\n",
       "from              int64\n",
       "cc                int64\n",
       "sent_email        int64\n",
       "time             object\n",
       "image             int64\n",
       "attach            int64\n",
       "dollar            int64\n",
       "winner           object\n",
       "inherit           int64\n",
       "viagra            int64\n",
       "password          int64\n",
       "num_char        float64\n",
       "line_breaks       int64\n",
       "format            int64\n",
       "re_subj           int64\n",
       "exclaim_subj      int64\n",
       "urgent_subj       int64\n",
       "exclaim_mess      int64\n",
       "number           object\n",
       "dtype: object"
      ]
     },
     "execution_count": 25,
     "metadata": {},
     "output_type": "execute_result"
    }
   ],
   "source": [
    "df.dtypes"
   ]
  },
  {
   "cell_type": "code",
   "execution_count": null,
   "id": "QmFoNB2gpmFM",
   "metadata": {
    "colab": {
     "base_uri": "https://localhost:8080/"
    },
    "id": "QmFoNB2gpmFM",
    "outputId": "62c42470-55b2-40b4-e99f-489cd68a0c5f"
   },
   "outputs": [
    {
     "data": {
      "text/plain": [
       "no     3857\n",
       "yes      64\n",
       "Name: winner, dtype: int64"
      ]
     },
     "execution_count": 26,
     "metadata": {},
     "output_type": "execute_result"
    }
   ],
   "source": [
    "df['winner'].value_counts()"
   ]
  },
  {
   "cell_type": "code",
   "execution_count": null,
   "id": "R0MiABJQ7k24",
   "metadata": {
    "id": "R0MiABJQ7k24"
   },
   "outputs": [],
   "source": [
    "y = df['spam']"
   ]
  },
  {
   "cell_type": "code",
   "execution_count": null,
   "id": "X2m_Va37PSG_",
   "metadata": {
    "id": "X2m_Va37PSG_"
   },
   "outputs": [],
   "source": [
    "import pandas as pd\n",
    "\n",
    "df['number'] = df['number'].map({'small': 0, 'big': 2, 'none': 1})\n",
    "df['winner'] = df['winner'].map({'no': 0, 'yes': 1})"
   ]
  },
  {
   "cell_type": "code",
   "execution_count": null,
   "id": "RW_5rX_bPSJN",
   "metadata": {
    "colab": {
     "base_uri": "https://localhost:8080/"
    },
    "id": "RW_5rX_bPSJN",
    "outputId": "8f873be9-eef5-4822-a369-2a342e9386ef"
   },
   "outputs": [
    {
     "data": {
      "text/plain": [
       "0       0\n",
       "1       0\n",
       "2       0\n",
       "3       0\n",
       "4       0\n",
       "       ..\n",
       "3916    1\n",
       "3917    1\n",
       "3918    0\n",
       "3919    0\n",
       "3920    1\n",
       "Name: spam, Length: 3921, dtype: int64"
      ]
     },
     "execution_count": 29,
     "metadata": {},
     "output_type": "execute_result"
    }
   ],
   "source": [
    "y"
   ]
  },
  {
   "cell_type": "code",
   "execution_count": null,
   "id": "NVYEtD98n4Gt",
   "metadata": {
    "id": "NVYEtD98n4Gt"
   },
   "outputs": [],
   "source": [
    "X = df.drop(['spam', 'time'], axis=1)  # Adjust features as needed\n",
    "\n",
    "from sklearn.model_selection import train_test_split\n",
    "from sklearn.preprocessing import StandardScaler\n",
    "\n",
    "# Split the data into training and testing sets\n",
    "X_train, X_test, y_train, y_test = train_test_split(X, y, test_size=0.2, random_state=42)\n",
    "\n",
    "# Standardize the features\n",
    "scaler = StandardScaler()\n",
    "X_train_scaled = scaler.fit_transform(X_train)\n",
    "X_test_scaled = scaler.transform(X_test)"
   ]
  },
  {
   "cell_type": "code",
   "execution_count": null,
   "id": "XU-jrgmdn4Ld",
   "metadata": {
    "id": "XU-jrgmdn4Ld"
   },
   "outputs": [],
   "source": [
    "def create_model(nodes=64, opt='adam', layers=3):\n",
    "    model = Sequential()\n",
    "    model.add(Flatten(input_shape=(19,)))\n",
    "\n",
    "    for _ in range(layers):\n",
    "        model.add(Dense(nodes, activation='relu'))\n",
    "\n",
    "    # Change the output layer for binary classification\n",
    "    model.add(Dense(1, activation='sigmoid'))\n",
    "\n",
    "    model.compile(optimizer=opt,\n",
    "                  loss='binary_crossentropy',\n",
    "                  metrics=['accuracy'])\n",
    "\n",
    "    return model\n"
   ]
  },
  {
   "cell_type": "code",
   "execution_count": null,
   "id": "pePmZdcJulH5",
   "metadata": {
    "colab": {
     "base_uri": "https://localhost:8080/"
    },
    "id": "pePmZdcJulH5",
    "outputId": "6cfefa18-1ce9-4ea7-e89d-275cc5b4b88c"
   },
   "outputs": [
    {
     "data": {
      "text/plain": [
       "932     0\n",
       "3329    0\n",
       "3811    1\n",
       "3564    0\n",
       "578     0\n",
       "       ..\n",
       "1130    0\n",
       "1294    0\n",
       "860     0\n",
       "3507    0\n",
       "3174    0\n",
       "Name: spam, Length: 3136, dtype: int64"
      ]
     },
     "execution_count": 55,
     "metadata": {},
     "output_type": "execute_result"
    }
   ],
   "source": [
    "y_train"
   ]
  },
  {
   "cell_type": "code",
   "execution_count": null,
   "id": "fesFG28RyS9n",
   "metadata": {
    "colab": {
     "base_uri": "https://localhost:8080/",
     "height": 443
    },
    "id": "fesFG28RyS9n",
    "outputId": "9a940a23-3ad4-40ab-d92e-6bea5785c4af"
   },
   "outputs": [
    {
     "data": {
      "text/html": [
       "\n",
       "  <div id=\"df-1099144d-e331-449f-b4f2-a7bbb584c531\" class=\"colab-df-container\">\n",
       "    <div>\n",
       "<style scoped>\n",
       "    .dataframe tbody tr th:only-of-type {\n",
       "        vertical-align: middle;\n",
       "    }\n",
       "\n",
       "    .dataframe tbody tr th {\n",
       "        vertical-align: top;\n",
       "    }\n",
       "\n",
       "    .dataframe thead th {\n",
       "        text-align: right;\n",
       "    }\n",
       "</style>\n",
       "<table border=\"1\" class=\"dataframe\">\n",
       "  <thead>\n",
       "    <tr style=\"text-align: right;\">\n",
       "      <th></th>\n",
       "      <th>to_multiple</th>\n",
       "      <th>from</th>\n",
       "      <th>cc</th>\n",
       "      <th>sent_email</th>\n",
       "      <th>image</th>\n",
       "      <th>attach</th>\n",
       "      <th>dollar</th>\n",
       "      <th>winner</th>\n",
       "      <th>inherit</th>\n",
       "      <th>viagra</th>\n",
       "      <th>password</th>\n",
       "      <th>num_char</th>\n",
       "      <th>line_breaks</th>\n",
       "      <th>format</th>\n",
       "      <th>re_subj</th>\n",
       "      <th>exclaim_subj</th>\n",
       "      <th>urgent_subj</th>\n",
       "      <th>exclaim_mess</th>\n",
       "      <th>number</th>\n",
       "    </tr>\n",
       "  </thead>\n",
       "  <tbody>\n",
       "    <tr>\n",
       "      <th>932</th>\n",
       "      <td>0</td>\n",
       "      <td>1</td>\n",
       "      <td>0</td>\n",
       "      <td>0</td>\n",
       "      <td>0</td>\n",
       "      <td>0</td>\n",
       "      <td>0</td>\n",
       "      <td>0</td>\n",
       "      <td>0</td>\n",
       "      <td>0</td>\n",
       "      <td>0</td>\n",
       "      <td>5.903</td>\n",
       "      <td>104</td>\n",
       "      <td>1</td>\n",
       "      <td>0</td>\n",
       "      <td>0</td>\n",
       "      <td>0</td>\n",
       "      <td>1</td>\n",
       "      <td>0</td>\n",
       "    </tr>\n",
       "    <tr>\n",
       "      <th>3329</th>\n",
       "      <td>0</td>\n",
       "      <td>1</td>\n",
       "      <td>0</td>\n",
       "      <td>0</td>\n",
       "      <td>0</td>\n",
       "      <td>0</td>\n",
       "      <td>0</td>\n",
       "      <td>0</td>\n",
       "      <td>0</td>\n",
       "      <td>0</td>\n",
       "      <td>0</td>\n",
       "      <td>1.268</td>\n",
       "      <td>32</td>\n",
       "      <td>0</td>\n",
       "      <td>0</td>\n",
       "      <td>0</td>\n",
       "      <td>0</td>\n",
       "      <td>0</td>\n",
       "      <td>1</td>\n",
       "    </tr>\n",
       "    <tr>\n",
       "      <th>3811</th>\n",
       "      <td>0</td>\n",
       "      <td>1</td>\n",
       "      <td>0</td>\n",
       "      <td>0</td>\n",
       "      <td>0</td>\n",
       "      <td>0</td>\n",
       "      <td>0</td>\n",
       "      <td>0</td>\n",
       "      <td>0</td>\n",
       "      <td>0</td>\n",
       "      <td>0</td>\n",
       "      <td>0.577</td>\n",
       "      <td>11</td>\n",
       "      <td>1</td>\n",
       "      <td>0</td>\n",
       "      <td>0</td>\n",
       "      <td>0</td>\n",
       "      <td>1</td>\n",
       "      <td>0</td>\n",
       "    </tr>\n",
       "    <tr>\n",
       "      <th>3564</th>\n",
       "      <td>0</td>\n",
       "      <td>1</td>\n",
       "      <td>0</td>\n",
       "      <td>1</td>\n",
       "      <td>0</td>\n",
       "      <td>0</td>\n",
       "      <td>0</td>\n",
       "      <td>0</td>\n",
       "      <td>0</td>\n",
       "      <td>0</td>\n",
       "      <td>0</td>\n",
       "      <td>3.765</td>\n",
       "      <td>59</td>\n",
       "      <td>1</td>\n",
       "      <td>0</td>\n",
       "      <td>0</td>\n",
       "      <td>0</td>\n",
       "      <td>0</td>\n",
       "      <td>0</td>\n",
       "    </tr>\n",
       "    <tr>\n",
       "      <th>578</th>\n",
       "      <td>0</td>\n",
       "      <td>1</td>\n",
       "      <td>0</td>\n",
       "      <td>1</td>\n",
       "      <td>0</td>\n",
       "      <td>0</td>\n",
       "      <td>0</td>\n",
       "      <td>0</td>\n",
       "      <td>0</td>\n",
       "      <td>0</td>\n",
       "      <td>0</td>\n",
       "      <td>2.546</td>\n",
       "      <td>56</td>\n",
       "      <td>1</td>\n",
       "      <td>0</td>\n",
       "      <td>0</td>\n",
       "      <td>0</td>\n",
       "      <td>0</td>\n",
       "      <td>1</td>\n",
       "    </tr>\n",
       "    <tr>\n",
       "      <th>...</th>\n",
       "      <td>...</td>\n",
       "      <td>...</td>\n",
       "      <td>...</td>\n",
       "      <td>...</td>\n",
       "      <td>...</td>\n",
       "      <td>...</td>\n",
       "      <td>...</td>\n",
       "      <td>...</td>\n",
       "      <td>...</td>\n",
       "      <td>...</td>\n",
       "      <td>...</td>\n",
       "      <td>...</td>\n",
       "      <td>...</td>\n",
       "      <td>...</td>\n",
       "      <td>...</td>\n",
       "      <td>...</td>\n",
       "      <td>...</td>\n",
       "      <td>...</td>\n",
       "      <td>...</td>\n",
       "    </tr>\n",
       "    <tr>\n",
       "      <th>1130</th>\n",
       "      <td>0</td>\n",
       "      <td>1</td>\n",
       "      <td>0</td>\n",
       "      <td>0</td>\n",
       "      <td>0</td>\n",
       "      <td>0</td>\n",
       "      <td>0</td>\n",
       "      <td>0</td>\n",
       "      <td>0</td>\n",
       "      <td>0</td>\n",
       "      <td>0</td>\n",
       "      <td>1.222</td>\n",
       "      <td>30</td>\n",
       "      <td>0</td>\n",
       "      <td>0</td>\n",
       "      <td>0</td>\n",
       "      <td>0</td>\n",
       "      <td>0</td>\n",
       "      <td>0</td>\n",
       "    </tr>\n",
       "    <tr>\n",
       "      <th>1294</th>\n",
       "      <td>0</td>\n",
       "      <td>1</td>\n",
       "      <td>0</td>\n",
       "      <td>1</td>\n",
       "      <td>0</td>\n",
       "      <td>0</td>\n",
       "      <td>0</td>\n",
       "      <td>0</td>\n",
       "      <td>0</td>\n",
       "      <td>0</td>\n",
       "      <td>0</td>\n",
       "      <td>6.706</td>\n",
       "      <td>158</td>\n",
       "      <td>1</td>\n",
       "      <td>1</td>\n",
       "      <td>0</td>\n",
       "      <td>0</td>\n",
       "      <td>0</td>\n",
       "      <td>0</td>\n",
       "    </tr>\n",
       "    <tr>\n",
       "      <th>860</th>\n",
       "      <td>1</td>\n",
       "      <td>1</td>\n",
       "      <td>1</td>\n",
       "      <td>0</td>\n",
       "      <td>0</td>\n",
       "      <td>0</td>\n",
       "      <td>0</td>\n",
       "      <td>0</td>\n",
       "      <td>0</td>\n",
       "      <td>0</td>\n",
       "      <td>0</td>\n",
       "      <td>3.396</td>\n",
       "      <td>60</td>\n",
       "      <td>0</td>\n",
       "      <td>1</td>\n",
       "      <td>0</td>\n",
       "      <td>0</td>\n",
       "      <td>1</td>\n",
       "      <td>0</td>\n",
       "    </tr>\n",
       "    <tr>\n",
       "      <th>3507</th>\n",
       "      <td>0</td>\n",
       "      <td>1</td>\n",
       "      <td>0</td>\n",
       "      <td>1</td>\n",
       "      <td>0</td>\n",
       "      <td>0</td>\n",
       "      <td>0</td>\n",
       "      <td>0</td>\n",
       "      <td>0</td>\n",
       "      <td>0</td>\n",
       "      <td>0</td>\n",
       "      <td>0.042</td>\n",
       "      <td>3</td>\n",
       "      <td>0</td>\n",
       "      <td>0</td>\n",
       "      <td>0</td>\n",
       "      <td>0</td>\n",
       "      <td>0</td>\n",
       "      <td>1</td>\n",
       "    </tr>\n",
       "    <tr>\n",
       "      <th>3174</th>\n",
       "      <td>0</td>\n",
       "      <td>1</td>\n",
       "      <td>0</td>\n",
       "      <td>0</td>\n",
       "      <td>0</td>\n",
       "      <td>0</td>\n",
       "      <td>0</td>\n",
       "      <td>0</td>\n",
       "      <td>0</td>\n",
       "      <td>0</td>\n",
       "      <td>0</td>\n",
       "      <td>27.098</td>\n",
       "      <td>315</td>\n",
       "      <td>1</td>\n",
       "      <td>0</td>\n",
       "      <td>1</td>\n",
       "      <td>0</td>\n",
       "      <td>13</td>\n",
       "      <td>0</td>\n",
       "    </tr>\n",
       "  </tbody>\n",
       "</table>\n",
       "<p>3136 rows × 19 columns</p>\n",
       "</div>\n",
       "    <div class=\"colab-df-buttons\">\n",
       "\n",
       "  <div class=\"colab-df-container\">\n",
       "    <button class=\"colab-df-convert\" onclick=\"convertToInteractive('df-1099144d-e331-449f-b4f2-a7bbb584c531')\"\n",
       "            title=\"Convert this dataframe to an interactive table.\"\n",
       "            style=\"display:none;\">\n",
       "\n",
       "  <svg xmlns=\"http://www.w3.org/2000/svg\" height=\"24px\" viewBox=\"0 -960 960 960\">\n",
       "    <path d=\"M120-120v-720h720v720H120Zm60-500h600v-160H180v160Zm220 220h160v-160H400v160Zm0 220h160v-160H400v160ZM180-400h160v-160H180v160Zm440 0h160v-160H620v160ZM180-180h160v-160H180v160Zm440 0h160v-160H620v160Z\"/>\n",
       "  </svg>\n",
       "    </button>\n",
       "\n",
       "  <style>\n",
       "    .colab-df-container {\n",
       "      display:flex;\n",
       "      gap: 12px;\n",
       "    }\n",
       "\n",
       "    .colab-df-convert {\n",
       "      background-color: #E8F0FE;\n",
       "      border: none;\n",
       "      border-radius: 50%;\n",
       "      cursor: pointer;\n",
       "      display: none;\n",
       "      fill: #1967D2;\n",
       "      height: 32px;\n",
       "      padding: 0 0 0 0;\n",
       "      width: 32px;\n",
       "    }\n",
       "\n",
       "    .colab-df-convert:hover {\n",
       "      background-color: #E2EBFA;\n",
       "      box-shadow: 0px 1px 2px rgba(60, 64, 67, 0.3), 0px 1px 3px 1px rgba(60, 64, 67, 0.15);\n",
       "      fill: #174EA6;\n",
       "    }\n",
       "\n",
       "    .colab-df-buttons div {\n",
       "      margin-bottom: 4px;\n",
       "    }\n",
       "\n",
       "    [theme=dark] .colab-df-convert {\n",
       "      background-color: #3B4455;\n",
       "      fill: #D2E3FC;\n",
       "    }\n",
       "\n",
       "    [theme=dark] .colab-df-convert:hover {\n",
       "      background-color: #434B5C;\n",
       "      box-shadow: 0px 1px 3px 1px rgba(0, 0, 0, 0.15);\n",
       "      filter: drop-shadow(0px 1px 2px rgba(0, 0, 0, 0.3));\n",
       "      fill: #FFFFFF;\n",
       "    }\n",
       "  </style>\n",
       "\n",
       "    <script>\n",
       "      const buttonEl =\n",
       "        document.querySelector('#df-1099144d-e331-449f-b4f2-a7bbb584c531 button.colab-df-convert');\n",
       "      buttonEl.style.display =\n",
       "        google.colab.kernel.accessAllowed ? 'block' : 'none';\n",
       "\n",
       "      async function convertToInteractive(key) {\n",
       "        const element = document.querySelector('#df-1099144d-e331-449f-b4f2-a7bbb584c531');\n",
       "        const dataTable =\n",
       "          await google.colab.kernel.invokeFunction('convertToInteractive',\n",
       "                                                    [key], {});\n",
       "        if (!dataTable) return;\n",
       "\n",
       "        const docLinkHtml = 'Like what you see? Visit the ' +\n",
       "          '<a target=\"_blank\" href=https://colab.research.google.com/notebooks/data_table.ipynb>data table notebook</a>'\n",
       "          + ' to learn more about interactive tables.';\n",
       "        element.innerHTML = '';\n",
       "        dataTable['output_type'] = 'display_data';\n",
       "        await google.colab.output.renderOutput(dataTable, element);\n",
       "        const docLink = document.createElement('div');\n",
       "        docLink.innerHTML = docLinkHtml;\n",
       "        element.appendChild(docLink);\n",
       "      }\n",
       "    </script>\n",
       "  </div>\n",
       "\n",
       "\n",
       "<div id=\"df-26f6f3bc-8322-42a5-816c-d2a4b98bbc52\">\n",
       "  <button class=\"colab-df-quickchart\" onclick=\"quickchart('df-26f6f3bc-8322-42a5-816c-d2a4b98bbc52')\"\n",
       "            title=\"Suggest charts\"\n",
       "            style=\"display:none;\">\n",
       "\n",
       "<svg xmlns=\"http://www.w3.org/2000/svg\" height=\"24px\"viewBox=\"0 0 24 24\"\n",
       "     width=\"24px\">\n",
       "    <g>\n",
       "        <path d=\"M19 3H5c-1.1 0-2 .9-2 2v14c0 1.1.9 2 2 2h14c1.1 0 2-.9 2-2V5c0-1.1-.9-2-2-2zM9 17H7v-7h2v7zm4 0h-2V7h2v10zm4 0h-2v-4h2v4z\"/>\n",
       "    </g>\n",
       "</svg>\n",
       "  </button>\n",
       "\n",
       "<style>\n",
       "  .colab-df-quickchart {\n",
       "      --bg-color: #E8F0FE;\n",
       "      --fill-color: #1967D2;\n",
       "      --hover-bg-color: #E2EBFA;\n",
       "      --hover-fill-color: #174EA6;\n",
       "      --disabled-fill-color: #AAA;\n",
       "      --disabled-bg-color: #DDD;\n",
       "  }\n",
       "\n",
       "  [theme=dark] .colab-df-quickchart {\n",
       "      --bg-color: #3B4455;\n",
       "      --fill-color: #D2E3FC;\n",
       "      --hover-bg-color: #434B5C;\n",
       "      --hover-fill-color: #FFFFFF;\n",
       "      --disabled-bg-color: #3B4455;\n",
       "      --disabled-fill-color: #666;\n",
       "  }\n",
       "\n",
       "  .colab-df-quickchart {\n",
       "    background-color: var(--bg-color);\n",
       "    border: none;\n",
       "    border-radius: 50%;\n",
       "    cursor: pointer;\n",
       "    display: none;\n",
       "    fill: var(--fill-color);\n",
       "    height: 32px;\n",
       "    padding: 0;\n",
       "    width: 32px;\n",
       "  }\n",
       "\n",
       "  .colab-df-quickchart:hover {\n",
       "    background-color: var(--hover-bg-color);\n",
       "    box-shadow: 0 1px 2px rgba(60, 64, 67, 0.3), 0 1px 3px 1px rgba(60, 64, 67, 0.15);\n",
       "    fill: var(--button-hover-fill-color);\n",
       "  }\n",
       "\n",
       "  .colab-df-quickchart-complete:disabled,\n",
       "  .colab-df-quickchart-complete:disabled:hover {\n",
       "    background-color: var(--disabled-bg-color);\n",
       "    fill: var(--disabled-fill-color);\n",
       "    box-shadow: none;\n",
       "  }\n",
       "\n",
       "  .colab-df-spinner {\n",
       "    border: 2px solid var(--fill-color);\n",
       "    border-color: transparent;\n",
       "    border-bottom-color: var(--fill-color);\n",
       "    animation:\n",
       "      spin 1s steps(1) infinite;\n",
       "  }\n",
       "\n",
       "  @keyframes spin {\n",
       "    0% {\n",
       "      border-color: transparent;\n",
       "      border-bottom-color: var(--fill-color);\n",
       "      border-left-color: var(--fill-color);\n",
       "    }\n",
       "    20% {\n",
       "      border-color: transparent;\n",
       "      border-left-color: var(--fill-color);\n",
       "      border-top-color: var(--fill-color);\n",
       "    }\n",
       "    30% {\n",
       "      border-color: transparent;\n",
       "      border-left-color: var(--fill-color);\n",
       "      border-top-color: var(--fill-color);\n",
       "      border-right-color: var(--fill-color);\n",
       "    }\n",
       "    40% {\n",
       "      border-color: transparent;\n",
       "      border-right-color: var(--fill-color);\n",
       "      border-top-color: var(--fill-color);\n",
       "    }\n",
       "    60% {\n",
       "      border-color: transparent;\n",
       "      border-right-color: var(--fill-color);\n",
       "    }\n",
       "    80% {\n",
       "      border-color: transparent;\n",
       "      border-right-color: var(--fill-color);\n",
       "      border-bottom-color: var(--fill-color);\n",
       "    }\n",
       "    90% {\n",
       "      border-color: transparent;\n",
       "      border-bottom-color: var(--fill-color);\n",
       "    }\n",
       "  }\n",
       "</style>\n",
       "\n",
       "  <script>\n",
       "    async function quickchart(key) {\n",
       "      const quickchartButtonEl =\n",
       "        document.querySelector('#' + key + ' button');\n",
       "      quickchartButtonEl.disabled = true;  // To prevent multiple clicks.\n",
       "      quickchartButtonEl.classList.add('colab-df-spinner');\n",
       "      try {\n",
       "        const charts = await google.colab.kernel.invokeFunction(\n",
       "            'suggestCharts', [key], {});\n",
       "      } catch (error) {\n",
       "        console.error('Error during call to suggestCharts:', error);\n",
       "      }\n",
       "      quickchartButtonEl.classList.remove('colab-df-spinner');\n",
       "      quickchartButtonEl.classList.add('colab-df-quickchart-complete');\n",
       "    }\n",
       "    (() => {\n",
       "      let quickchartButtonEl =\n",
       "        document.querySelector('#df-26f6f3bc-8322-42a5-816c-d2a4b98bbc52 button');\n",
       "      quickchartButtonEl.style.display =\n",
       "        google.colab.kernel.accessAllowed ? 'block' : 'none';\n",
       "    })();\n",
       "  </script>\n",
       "</div>\n",
       "    </div>\n",
       "  </div>\n"
      ],
      "text/plain": [
       "      to_multiple  from  cc  sent_email  image  attach  dollar  winner  \\\n",
       "932             0     1   0           0      0       0       0       0   \n",
       "3329            0     1   0           0      0       0       0       0   \n",
       "3811            0     1   0           0      0       0       0       0   \n",
       "3564            0     1   0           1      0       0       0       0   \n",
       "578             0     1   0           1      0       0       0       0   \n",
       "...           ...   ...  ..         ...    ...     ...     ...     ...   \n",
       "1130            0     1   0           0      0       0       0       0   \n",
       "1294            0     1   0           1      0       0       0       0   \n",
       "860             1     1   1           0      0       0       0       0   \n",
       "3507            0     1   0           1      0       0       0       0   \n",
       "3174            0     1   0           0      0       0       0       0   \n",
       "\n",
       "      inherit  viagra  password  num_char  line_breaks  format  re_subj  \\\n",
       "932         0       0         0     5.903          104       1        0   \n",
       "3329        0       0         0     1.268           32       0        0   \n",
       "3811        0       0         0     0.577           11       1        0   \n",
       "3564        0       0         0     3.765           59       1        0   \n",
       "578         0       0         0     2.546           56       1        0   \n",
       "...       ...     ...       ...       ...          ...     ...      ...   \n",
       "1130        0       0         0     1.222           30       0        0   \n",
       "1294        0       0         0     6.706          158       1        1   \n",
       "860         0       0         0     3.396           60       0        1   \n",
       "3507        0       0         0     0.042            3       0        0   \n",
       "3174        0       0         0    27.098          315       1        0   \n",
       "\n",
       "      exclaim_subj  urgent_subj  exclaim_mess  number  \n",
       "932              0            0             1       0  \n",
       "3329             0            0             0       1  \n",
       "3811             0            0             1       0  \n",
       "3564             0            0             0       0  \n",
       "578              0            0             0       1  \n",
       "...            ...          ...           ...     ...  \n",
       "1130             0            0             0       0  \n",
       "1294             0            0             0       0  \n",
       "860              0            0             1       0  \n",
       "3507             0            0             0       1  \n",
       "3174             1            0            13       0  \n",
       "\n",
       "[3136 rows x 19 columns]"
      ]
     },
     "execution_count": 69,
     "metadata": {},
     "output_type": "execute_result"
    }
   ],
   "source": [
    "X_train"
   ]
  },
  {
   "cell_type": "code",
   "execution_count": null,
   "id": "lgYAzAldXL95",
   "metadata": {
    "id": "lgYAzAldXL95"
   },
   "outputs": [],
   "source": [
    "def create_model(nodes=64, opt='adam', layers=1):\n",
    "    model = Sequential()\n",
    "    model.add(Dense(nodes, activation='relu', input_shape=(19,)))\n",
    "\n",
    "    for _ in range(layers - 1):\n",
    "        model.add(Dense(nodes, activation='relu'))\n",
    "        model.add(BatchNormalization())\n",
    "\n",
    "    model.add(Dense(1, activation='sigmoid'))\n",
    "\n",
    "    model.compile(optimizer=opt,\n",
    "                  loss='binary_crossentropy',\n",
    "                  metrics=['accuracy'])\n",
    "\n",
    "    return model\n"
   ]
  },
  {
   "cell_type": "code",
   "execution_count": null,
   "id": "RjccY3uSXMBN",
   "metadata": {
    "id": "RjccY3uSXMBN"
   },
   "outputs": [],
   "source": [
    "from scikeras.wrappers import KerasClassifier\n",
    "from sklearn.model_selection import GridSearchCV\n",
    "from tensorflow.keras.optimizers import Adam, SGD, RMSprop\n",
    "\n",
    "# Assuming you have already defined the create_model function\n",
    "\n",
    "model = KerasClassifier(build_fn=create_model, epochs=10, batch_size=32, verbose=0,layers=1,nodes=32,opt='adam')\n",
    "\n",
    "param_grid = {\n",
    "    'nodes': [32, 64, 128],\n",
    "    'opt': [Adam(), SGD(), RMSprop()],\n",
    "    'layers': [1, 2, 3]\n",
    "}\n",
    "\n",
    "\n",
    "\n"
   ]
  },
  {
   "cell_type": "code",
   "execution_count": null,
   "id": "nt1bzH_30LfJ",
   "metadata": {
    "id": "nt1bzH_30LfJ"
   },
   "outputs": [],
   "source": [
    "grid_search = GridSearchCV(estimator=model, param_grid=param_grid, cv=3, n_jobs=-1)"
   ]
  },
  {
   "cell_type": "code",
   "execution_count": null,
   "id": "_rG4EVrM0JL_",
   "metadata": {
    "colab": {
     "base_uri": "https://localhost:8080/"
    },
    "id": "_rG4EVrM0JL_",
    "outputId": "99dcb6e5-c7f2-4256-e8f1-bae87a583300"
   },
   "outputs": [
    {
     "name": "stderr",
     "output_type": "stream",
     "text": [
      "/usr/local/lib/python3.10/dist-packages/joblib/externals/loky/process_executor.py:752: UserWarning: A worker stopped while some jobs were given to the executor. This can be caused by a too short worker timeout or by a memory leak.\n",
      "  warnings.warn(\n",
      "/usr/local/lib/python3.10/dist-packages/scikeras/wrappers.py:915: UserWarning: ``build_fn`` will be renamed to ``model`` in a future release, at which point use of ``build_fn`` will raise an Error instead.\n",
      "  X, y = self._initialize(X, y)\n"
     ]
    }
   ],
   "source": [
    "grid_result = grid_search.fit(X_train, y_train)"
   ]
  },
  {
   "cell_type": "code",
   "execution_count": null,
   "id": "ArBVgaNL0rQ9",
   "metadata": {
    "colab": {
     "base_uri": "https://localhost:8080/"
    },
    "id": "ArBVgaNL0rQ9",
    "outputId": "6e5c6ad0-b90b-4d69-ed74-18c0fc05d4df"
   },
   "outputs": [
    {
     "name": "stdout",
     "output_type": "stream",
     "text": [
      "Best parameters: {'layers': 2, 'nodes': 64, 'opt': <keras.src.optimizers.sgd.SGD object at 0x7d380bf481f0>}\n",
      "Best accuracy: 0.5375048107159284\n"
     ]
    }
   ],
   "source": [
    "print(f\"Best parameters: {grid_result.best_params_}\")\n",
    "print(f\"Best accuracy: {grid_result.best_score_}\")"
   ]
  },
  {
   "cell_type": "markdown",
   "id": "33f04445",
   "metadata": {
    "id": "33f04445"
   },
   "source": [
    "2. Use the best parameters from the previous question, tune the number of epochs and batch size. (10)"
   ]
  },
  {
   "cell_type": "code",
   "execution_count": null,
   "id": "JOn1nPLM101b",
   "metadata": {
    "colab": {
     "base_uri": "https://localhost:8080/"
    },
    "id": "JOn1nPLM101b",
    "outputId": "c27a96fd-7ec4-469f-e2f4-9bc409c5e66f"
   },
   "outputs": [
    {
     "name": "stderr",
     "output_type": "stream",
     "text": [
      "/usr/local/lib/python3.10/dist-packages/scikeras/wrappers.py:915: UserWarning: ``build_fn`` will be renamed to ``model`` in a future release, at which point use of ``build_fn`` will raise an Error instead.\n",
      "  X, y = self._initialize(X, y)\n"
     ]
    },
    {
     "name": "stdout",
     "output_type": "stream",
     "text": [
      "Best parameters: {'batch_size': 32, 'epochs': 10}\n",
      "Best accuracy: 0.5475251799911764\n",
      "Test accuracy of the best model: 0.455\n"
     ]
    }
   ],
   "source": [
    "model1 = KerasClassifier(build_fn=create_model, nodes=64, opt='sgd', layers=2, verbose=0)\n",
    "\n",
    "# Define hyperparameter grid for GridSearchCV\n",
    "param_grid = {\n",
    "    'epochs': [5, 10, 15],\n",
    "    'batch_size': [16, 32, 64,128]\n",
    "}\n",
    "\n",
    "# Create GridSearchCV object\n",
    "grid_search = GridSearchCV(estimator=model1, param_grid=param_grid, cv=3, n_jobs=-1)\n",
    "grid_result = grid_search.fit(X_train, y_train)\n",
    "\n",
    "# Print the best parameters and accuracy\n",
    "print(f\"Best parameters: {grid_result.best_params_}\")\n",
    "print(f\"Best accuracy: {grid_result.best_score_}\")\n",
    "\n",
    "# Evaluate the best model on the test set\n",
    "best_model = grid_result.best_estimator_\n",
    "test_accuracy = best_model.score(X_test, y_test)\n",
    "print(f\"Test accuracy of the best model: {test_accuracy}\")"
   ]
  },
  {
   "cell_type": "code",
   "execution_count": null,
   "id": "OCs202x611GP",
   "metadata": {
    "colab": {
     "base_uri": "https://localhost:8080/"
    },
    "id": "OCs202x611GP",
    "outputId": "bef4036e-0ade-4bbd-bcdc-be9c85e9f095"
   },
   "outputs": [
    {
     "name": "stderr",
     "output_type": "stream",
     "text": [
      "/usr/local/lib/python3.10/dist-packages/joblib/externals/loky/process_executor.py:752: UserWarning: A worker stopped while some jobs were given to the executor. This can be caused by a too short worker timeout or by a memory leak.\n",
      "  warnings.warn(\n",
      "/usr/local/lib/python3.10/dist-packages/scikeras/wrappers.py:915: UserWarning: ``build_fn`` will be renamed to ``model`` in a future release, at which point use of ``build_fn`` will raise an Error instead.\n",
      "  X, y = self._initialize(X, y)\n"
     ]
    },
    {
     "name": "stdout",
     "output_type": "stream",
     "text": [
      "Best parameters: {'batch_size': 64, 'epochs': 15, 'layers': 1, 'nodes': 32, 'opt': <keras.src.optimizers.adam.Adam object at 0x7d3879d28550>}\n",
      "Best accuracy: 0.5475157932283893\n",
      "Test accuracy of the best model: 0.495\n"
     ]
    }
   ],
   "source": [
    "model2 = KerasClassifier(build_fn=create_model, nodes=64, opt='sgd', layers=2, verbose=0)\n",
    "\n",
    "# Define hyperparameter grid for GridSearchCV\n",
    "param_grid = {\n",
    "    'nodes': [32, 64, 128],\n",
    "    'opt': [Adam(), SGD(), RMSprop()],\n",
    "    'layers': [1, 2, 3],\n",
    "    'epochs': [5, 10, 15],\n",
    "    'batch_size': [16, 32, 64,128]\n",
    "}\n",
    "\n",
    "# Create GridSearchCV object\n",
    "grid_search = GridSearchCV(estimator=model2, param_grid=param_grid, cv=3, n_jobs=-1)\n",
    "grid_result = grid_search.fit(X_train, y_train)\n",
    "\n",
    "# Print the best parameters and accuracy\n",
    "print(f\"Best parameters: {grid_result.best_params_}\")\n",
    "print(f\"Best accuracy: {grid_result.best_score_}\")\n",
    "\n",
    "# Evaluate the best model on the test set\n",
    "best_model = grid_result.best_estimator_\n",
    "test_accuracy = best_model.score(X_test, y_test)\n",
    "print(f\"Test accuracy of the best model: {test_accuracy}\")"
   ]
  },
  {
   "cell_type": "markdown",
   "id": "74845f69",
   "metadata": {
    "id": "74845f69"
   },
   "source": [
    "### Question 3: Simulation (30)\n",
    "\n",
    "Write a simulation about the data size and model performance (MSE) in the neural network. How would you design the study? Set the number of features as 50 and output a figure between the data size and the MSE. The neural network is a FNN with one hidden layer. See the code demonstration for the hints."
   ]
  },
  {
   "cell_type": "code",
   "execution_count": null,
   "id": "D2IWn2owUoqi",
   "metadata": {
    "colab": {
     "base_uri": "https://localhost:8080/",
     "height": 1000
    },
    "id": "D2IWn2owUoqi",
    "outputId": "10af3cdd-f688-4191-ad43-ece7d6168ba4"
   },
   "outputs": [
    {
     "name": "stdout",
     "output_type": "stream",
     "text": [
      "4/4 [==============================] - 0s 11ms/step\n",
      "7/7 [==============================] - 0s 2ms/step\n",
      "10/10 [==============================] - 0s 2ms/step\n",
      "13/13 [==============================] - 0s 2ms/step\n",
      "16/16 [==============================] - 0s 2ms/step\n",
      "19/19 [==============================] - 0s 2ms/step\n",
      "22/22 [==============================] - 0s 2ms/step\n",
      "25/25 [==============================] - 0s 1ms/step\n",
      "29/29 [==============================] - 0s 1ms/step\n",
      "32/32 [==============================] - 0s 2ms/step\n",
      "35/35 [==============================] - 0s 1ms/step\n",
      "38/38 [==============================] - 0s 1ms/step\n",
      "41/41 [==============================] - 0s 1ms/step\n",
      "44/44 [==============================] - 0s 1ms/step\n",
      "47/47 [==============================] - 0s 2ms/step\n",
      "50/50 [==============================] - 0s 1ms/step\n",
      "54/54 [==============================] - 0s 1ms/step\n",
      "57/57 [==============================] - 0s 1ms/step\n",
      "60/60 [==============================] - 0s 1ms/step\n",
      "63/63 [==============================] - 0s 1ms/step\n",
      "66/66 [==============================] - 0s 2ms/step\n",
      "69/69 [==============================] - 0s 1ms/step\n",
      "72/72 [==============================] - 0s 2ms/step\n",
      "75/75 [==============================] - 0s 1ms/step\n",
      "79/79 [==============================] - 0s 1ms/step\n",
      "82/82 [==============================] - 0s 1ms/step\n",
      "85/85 [==============================] - 0s 1ms/step\n",
      "88/88 [==============================] - 0s 2ms/step\n",
      "91/91 [==============================] - 0s 1ms/step\n",
      "94/94 [==============================] - 0s 1ms/step\n",
      "97/97 [==============================] - 0s 1ms/step\n",
      "100/100 [==============================] - 0s 1ms/step\n",
      "104/104 [==============================] - 0s 1ms/step\n",
      "107/107 [==============================] - 0s 1ms/step\n",
      "110/110 [==============================] - 0s 1ms/step\n",
      "113/113 [==============================] - 0s 1ms/step\n",
      "116/116 [==============================] - 0s 2ms/step\n",
      "119/119 [==============================] - 0s 1ms/step\n",
      "122/122 [==============================] - 0s 1ms/step\n",
      "125/125 [==============================] - 0s 1ms/step\n",
      "129/129 [==============================] - 0s 1ms/step\n",
      "132/132 [==============================] - 0s 1ms/step\n",
      "135/135 [==============================] - 0s 1ms/step\n",
      "138/138 [==============================] - 0s 1ms/step\n",
      "141/141 [==============================] - 0s 1ms/step\n",
      "144/144 [==============================] - 0s 2ms/step\n",
      "147/147 [==============================] - 0s 1ms/step\n",
      "150/150 [==============================] - 0s 1ms/step\n",
      "154/154 [==============================] - 0s 1ms/step\n",
      "157/157 [==============================] - 0s 2ms/step\n",
      "160/160 [==============================] - 0s 1ms/step\n",
      "163/163 [==============================] - 0s 1ms/step\n",
      "166/166 [==============================] - 0s 2ms/step\n",
      "169/169 [==============================] - 0s 2ms/step\n",
      "172/172 [==============================] - 0s 1ms/step\n",
      "175/175 [==============================] - 0s 1ms/step\n",
      "179/179 [==============================] - 0s 1ms/step\n",
      "182/182 [==============================] - 0s 2ms/step\n",
      "185/185 [==============================] - 0s 1ms/step\n",
      "188/188 [==============================] - 0s 1ms/step\n",
      "191/191 [==============================] - 1s 2ms/step\n",
      "194/194 [==============================] - 0s 1ms/step\n",
      "197/197 [==============================] - 0s 1ms/step\n",
      "200/200 [==============================] - 0s 1ms/step\n",
      "204/204 [==============================] - 0s 2ms/step\n",
      "207/207 [==============================] - 0s 1ms/step\n",
      "210/210 [==============================] - 0s 1ms/step\n",
      "213/213 [==============================] - 0s 1ms/step\n",
      "216/216 [==============================] - 0s 2ms/step\n",
      "219/219 [==============================] - 0s 2ms/step\n",
      "222/222 [==============================] - 0s 1ms/step\n",
      "225/225 [==============================] - 0s 1ms/step\n",
      "229/229 [==============================] - 0s 2ms/step\n",
      "232/232 [==============================] - 0s 2ms/step\n",
      "235/235 [==============================] - 1s 2ms/step\n",
      "238/238 [==============================] - 0s 2ms/step\n",
      "241/241 [==============================] - 0s 1ms/step\n",
      "244/244 [==============================] - 0s 1ms/step\n",
      "247/247 [==============================] - 0s 1ms/step\n",
      "250/250 [==============================] - 0s 1ms/step\n",
      "254/254 [==============================] - 0s 1ms/step\n",
      "257/257 [==============================] - 1s 2ms/step\n",
      "260/260 [==============================] - 0s 1ms/step\n",
      "263/263 [==============================] - 0s 1ms/step\n",
      "266/266 [==============================] - 0s 1ms/step\n",
      "269/269 [==============================] - 0s 1ms/step\n",
      "272/272 [==============================] - 1s 2ms/step\n",
      "275/275 [==============================] - 0s 1ms/step\n",
      "279/279 [==============================] - 0s 1ms/step\n",
      "282/282 [==============================] - 0s 1ms/step\n",
      "285/285 [==============================] - 0s 1ms/step\n",
      "288/288 [==============================] - 0s 1ms/step\n",
      "291/291 [==============================] - 1s 2ms/step\n",
      "294/294 [==============================] - 0s 1ms/step\n",
      "297/297 [==============================] - 0s 1ms/step\n",
      "300/300 [==============================] - 0s 1ms/step\n",
      "304/304 [==============================] - 0s 1ms/step\n",
      "307/307 [==============================] - 0s 1ms/step\n",
      "310/310 [==============================] - 0s 1ms/step\n",
      "313/313 [==============================] - 1s 2ms/step\n",
      "316/316 [==============================] - 0s 1ms/step\n",
      "319/319 [==============================] - 0s 1ms/step\n"
     ]
    },
    {
     "data": {
      "image/png": "[encoded data removed]",
      "text/plain": [
       "<Figure size 640x480 with 1 Axes>"
      ]
     },
     "metadata": {},
     "output_type": "display_data"
    }
   ],
   "source": [
    "import numpy as np\n",
    "import matplotlib.pyplot as plt\n",
    "from sklearn.datasets import make_regression\n",
    "from sklearn.model_selection import train_test_split\n",
    "from sklearn.metrics import mean_squared_error\n",
    "from tensorflow.keras.models import Sequential\n",
    "from tensorflow.keras.layers import Dense\n",
    "from tensorflow.keras.callbacks import EarlyStopping\n",
    "\n",
    "# Function to generate data\n",
    "def generate_data(data_size):\n",
    "    X, y = make_regression(n_samples=data_size, n_features=50, noise=0.1)\n",
    "    return X, y\n",
    "\n",
    "# Function to train and evaluate the neural network\n",
    "def train_and_evaluate(X_train, y_train, X_test, y_test):\n",
    "    model = Sequential()\n",
    "    model.add(Dense(1, input_dim=50, activation='linear'))\n",
    "    model.compile(optimizer='adam', loss='mean_squared_error')\n",
    "    early_stopping = EarlyStopping(monitor='val_loss', patience=3, restore_best_weights=True)\n",
    "    model.fit(X_train, y_train, epochs=10, batch_size=32, verbose=0)\n",
    "\n",
    "    y_pred = model.predict(X_test)\n",
    "    mse = mean_squared_error(y_test, y_pred)\n",
    "    return mse\n",
    "\n",
    "# Data size range\n",
    "data_sizes = list(range(500, 51001, 500))\n",
    "\n",
    "# Record MSE for each data size\n",
    "mse_values = []\n",
    "\n",
    "for size in data_sizes:\n",
    "    # Generate data\n",
    "    X, y = generate_data(size)\n",
    "\n",
    "    # Split the data into train and test sets\n",
    "    X_train, X_test, y_train, y_test = train_test_split(X, y, test_size=0.2, random_state=42)\n",
    "\n",
    "    # Train and evaluate the model\n",
    "    current_mse = train_and_evaluate(X_train, y_train, X_test, y_test)\n",
    "    mse_values.append(current_mse)\n",
    "\n",
    "# Plotting\n",
    "plt.plot(data_sizes, mse_values, marker='o')\n",
    "plt.title('Data Size vs. Mean Squared Error')\n",
    "plt.xlabel('Data Size')\n",
    "plt.ylabel('Mean Squared Error')\n",
    "plt.show()\n"
   ]
  },
  {
   "cell_type": "code",
   "execution_count": null,
   "id": "gNLkkbzkzIXN",
   "metadata": {
    "id": "gNLkkbzkzIXN"
   },
   "outputs": [],
   "source": []
  }
 ],
 "metadata": {
  "colab": {
   "provenance": []
  },
  "kernelspec": {
   "display_name": "Python 3 (ipykernel)",
   "language": "python",
   "name": "python3"
  },
  "language_info": {
   "codemirror_mode": {
    "name": "ipython",
    "version": 3
   },
   "file_extension": ".py",
   "mimetype": "text/x-python",
   "name": "python",
   "nbconvert_exporter": "python",
   "pygments_lexer": "ipython3",
   "version": "3.11.5"
  }
 },
 "nbformat": 4,
 "nbformat_minor": 5
}
