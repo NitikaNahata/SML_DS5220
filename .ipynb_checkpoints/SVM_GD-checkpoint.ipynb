{
 "cells": [
  {
   "cell_type": "markdown",
   "id": "f99c3606",
   "metadata": {
    "id": "3FGSezkhIBZR"
   },
   "source": [
    "### Question 1: Wine classification (50)\n",
    "\n",
    "These data are the results of a chemical analysis of wines grown in the same region in Italy but derived from three different cultivars. The analysis determined the quantities of 13 constituents found in each of the three types of wines."
   ]
  },
  {
   "cell_type": "code",
   "execution_count": 144,
   "id": "af49e141",
   "metadata": {
    "id": "sxXoacD-IBZT"
   },
   "outputs": [],
   "source": [
    "from ucimlrepo import fetch_ucirepo\n",
    "\n",
    "# fetch dataset\n",
    "wine = fetch_ucirepo(id=109)\n",
    "\n",
    "# data (as pandas dataframes)\n",
    "X = wine.data.features\n",
    "y = wine.data.targets"
   ]
  },
  {
   "cell_type": "code",
   "execution_count": 145,
   "id": "593c3477",
   "metadata": {
    "colab": {
     "base_uri": "https://localhost:8080/",
     "height": 424
    },
    "id": "_jt2Rd0tIBZT",
    "outputId": "b3ae1228-9205-4e2f-9297-966b3776805a"
   },
   "outputs": [
    {
     "data": {
      "text/html": [
       "<div>\n",
       "<style scoped>\n",
       "    .dataframe tbody tr th:only-of-type {\n",
       "        vertical-align: middle;\n",
       "    }\n",
       "\n",
       "    .dataframe tbody tr th {\n",
       "        vertical-align: top;\n",
       "    }\n",
       "\n",
       "    .dataframe thead th {\n",
       "        text-align: right;\n",
       "    }\n",
       "</style>\n",
       "<table border=\"1\" class=\"dataframe\">\n",
       "  <thead>\n",
       "    <tr style=\"text-align: right;\">\n",
       "      <th></th>\n",
       "      <th>Alcohol</th>\n",
       "      <th>Malicacid</th>\n",
       "      <th>Ash</th>\n",
       "      <th>Alcalinity_of_ash</th>\n",
       "      <th>Magnesium</th>\n",
       "      <th>Total_phenols</th>\n",
       "      <th>Flavanoids</th>\n",
       "      <th>Nonflavanoid_phenols</th>\n",
       "      <th>Proanthocyanins</th>\n",
       "      <th>Color_intensity</th>\n",
       "      <th>Hue</th>\n",
       "      <th>0D280_0D315_of_diluted_wines</th>\n",
       "      <th>Proline</th>\n",
       "    </tr>\n",
       "  </thead>\n",
       "  <tbody>\n",
       "    <tr>\n",
       "      <td>0</td>\n",
       "      <td>14.23</td>\n",
       "      <td>1.71</td>\n",
       "      <td>2.43</td>\n",
       "      <td>15.6</td>\n",
       "      <td>127</td>\n",
       "      <td>2.80</td>\n",
       "      <td>3.06</td>\n",
       "      <td>0.28</td>\n",
       "      <td>2.29</td>\n",
       "      <td>5.64</td>\n",
       "      <td>1.04</td>\n",
       "      <td>3.92</td>\n",
       "      <td>1065</td>\n",
       "    </tr>\n",
       "    <tr>\n",
       "      <td>1</td>\n",
       "      <td>13.20</td>\n",
       "      <td>1.78</td>\n",
       "      <td>2.14</td>\n",
       "      <td>11.2</td>\n",
       "      <td>100</td>\n",
       "      <td>2.65</td>\n",
       "      <td>2.76</td>\n",
       "      <td>0.26</td>\n",
       "      <td>1.28</td>\n",
       "      <td>4.38</td>\n",
       "      <td>1.05</td>\n",
       "      <td>3.40</td>\n",
       "      <td>1050</td>\n",
       "    </tr>\n",
       "    <tr>\n",
       "      <td>2</td>\n",
       "      <td>13.16</td>\n",
       "      <td>2.36</td>\n",
       "      <td>2.67</td>\n",
       "      <td>18.6</td>\n",
       "      <td>101</td>\n",
       "      <td>2.80</td>\n",
       "      <td>3.24</td>\n",
       "      <td>0.30</td>\n",
       "      <td>2.81</td>\n",
       "      <td>5.68</td>\n",
       "      <td>1.03</td>\n",
       "      <td>3.17</td>\n",
       "      <td>1185</td>\n",
       "    </tr>\n",
       "    <tr>\n",
       "      <td>3</td>\n",
       "      <td>14.37</td>\n",
       "      <td>1.95</td>\n",
       "      <td>2.50</td>\n",
       "      <td>16.8</td>\n",
       "      <td>113</td>\n",
       "      <td>3.85</td>\n",
       "      <td>3.49</td>\n",
       "      <td>0.24</td>\n",
       "      <td>2.18</td>\n",
       "      <td>7.80</td>\n",
       "      <td>0.86</td>\n",
       "      <td>3.45</td>\n",
       "      <td>1480</td>\n",
       "    </tr>\n",
       "    <tr>\n",
       "      <td>4</td>\n",
       "      <td>13.24</td>\n",
       "      <td>2.59</td>\n",
       "      <td>2.87</td>\n",
       "      <td>21.0</td>\n",
       "      <td>118</td>\n",
       "      <td>2.80</td>\n",
       "      <td>2.69</td>\n",
       "      <td>0.39</td>\n",
       "      <td>1.82</td>\n",
       "      <td>4.32</td>\n",
       "      <td>1.04</td>\n",
       "      <td>2.93</td>\n",
       "      <td>735</td>\n",
       "    </tr>\n",
       "    <tr>\n",
       "      <td>...</td>\n",
       "      <td>...</td>\n",
       "      <td>...</td>\n",
       "      <td>...</td>\n",
       "      <td>...</td>\n",
       "      <td>...</td>\n",
       "      <td>...</td>\n",
       "      <td>...</td>\n",
       "      <td>...</td>\n",
       "      <td>...</td>\n",
       "      <td>...</td>\n",
       "      <td>...</td>\n",
       "      <td>...</td>\n",
       "      <td>...</td>\n",
       "    </tr>\n",
       "    <tr>\n",
       "      <td>173</td>\n",
       "      <td>13.71</td>\n",
       "      <td>5.65</td>\n",
       "      <td>2.45</td>\n",
       "      <td>20.5</td>\n",
       "      <td>95</td>\n",
       "      <td>1.68</td>\n",
       "      <td>0.61</td>\n",
       "      <td>0.52</td>\n",
       "      <td>1.06</td>\n",
       "      <td>7.70</td>\n",
       "      <td>0.64</td>\n",
       "      <td>1.74</td>\n",
       "      <td>740</td>\n",
       "    </tr>\n",
       "    <tr>\n",
       "      <td>174</td>\n",
       "      <td>13.40</td>\n",
       "      <td>3.91</td>\n",
       "      <td>2.48</td>\n",
       "      <td>23.0</td>\n",
       "      <td>102</td>\n",
       "      <td>1.80</td>\n",
       "      <td>0.75</td>\n",
       "      <td>0.43</td>\n",
       "      <td>1.41</td>\n",
       "      <td>7.30</td>\n",
       "      <td>0.70</td>\n",
       "      <td>1.56</td>\n",
       "      <td>750</td>\n",
       "    </tr>\n",
       "    <tr>\n",
       "      <td>175</td>\n",
       "      <td>13.27</td>\n",
       "      <td>4.28</td>\n",
       "      <td>2.26</td>\n",
       "      <td>20.0</td>\n",
       "      <td>120</td>\n",
       "      <td>1.59</td>\n",
       "      <td>0.69</td>\n",
       "      <td>0.43</td>\n",
       "      <td>1.35</td>\n",
       "      <td>10.20</td>\n",
       "      <td>0.59</td>\n",
       "      <td>1.56</td>\n",
       "      <td>835</td>\n",
       "    </tr>\n",
       "    <tr>\n",
       "      <td>176</td>\n",
       "      <td>13.17</td>\n",
       "      <td>2.59</td>\n",
       "      <td>2.37</td>\n",
       "      <td>20.0</td>\n",
       "      <td>120</td>\n",
       "      <td>1.65</td>\n",
       "      <td>0.68</td>\n",
       "      <td>0.53</td>\n",
       "      <td>1.46</td>\n",
       "      <td>9.30</td>\n",
       "      <td>0.60</td>\n",
       "      <td>1.62</td>\n",
       "      <td>840</td>\n",
       "    </tr>\n",
       "    <tr>\n",
       "      <td>177</td>\n",
       "      <td>14.13</td>\n",
       "      <td>4.10</td>\n",
       "      <td>2.74</td>\n",
       "      <td>24.5</td>\n",
       "      <td>96</td>\n",
       "      <td>2.05</td>\n",
       "      <td>0.76</td>\n",
       "      <td>0.56</td>\n",
       "      <td>1.35</td>\n",
       "      <td>9.20</td>\n",
       "      <td>0.61</td>\n",
       "      <td>1.60</td>\n",
       "      <td>560</td>\n",
       "    </tr>\n",
       "  </tbody>\n",
       "</table>\n",
       "<p>178 rows × 13 columns</p>\n",
       "</div>"
      ],
      "text/plain": [
       "     Alcohol  Malicacid   Ash  Alcalinity_of_ash  Magnesium  Total_phenols  \\\n",
       "0      14.23       1.71  2.43               15.6        127           2.80   \n",
       "1      13.20       1.78  2.14               11.2        100           2.65   \n",
       "2      13.16       2.36  2.67               18.6        101           2.80   \n",
       "3      14.37       1.95  2.50               16.8        113           3.85   \n",
       "4      13.24       2.59  2.87               21.0        118           2.80   \n",
       "..       ...        ...   ...                ...        ...            ...   \n",
       "173    13.71       5.65  2.45               20.5         95           1.68   \n",
       "174    13.40       3.91  2.48               23.0        102           1.80   \n",
       "175    13.27       4.28  2.26               20.0        120           1.59   \n",
       "176    13.17       2.59  2.37               20.0        120           1.65   \n",
       "177    14.13       4.10  2.74               24.5         96           2.05   \n",
       "\n",
       "     Flavanoids  Nonflavanoid_phenols  Proanthocyanins  Color_intensity   Hue  \\\n",
       "0          3.06                  0.28             2.29             5.64  1.04   \n",
       "1          2.76                  0.26             1.28             4.38  1.05   \n",
       "2          3.24                  0.30             2.81             5.68  1.03   \n",
       "3          3.49                  0.24             2.18             7.80  0.86   \n",
       "4          2.69                  0.39             1.82             4.32  1.04   \n",
       "..          ...                   ...              ...              ...   ...   \n",
       "173        0.61                  0.52             1.06             7.70  0.64   \n",
       "174        0.75                  0.43             1.41             7.30  0.70   \n",
       "175        0.69                  0.43             1.35            10.20  0.59   \n",
       "176        0.68                  0.53             1.46             9.30  0.60   \n",
       "177        0.76                  0.56             1.35             9.20  0.61   \n",
       "\n",
       "     0D280_0D315_of_diluted_wines  Proline  \n",
       "0                            3.92     1065  \n",
       "1                            3.40     1050  \n",
       "2                            3.17     1185  \n",
       "3                            3.45     1480  \n",
       "4                            2.93      735  \n",
       "..                            ...      ...  \n",
       "173                          1.74      740  \n",
       "174                          1.56      750  \n",
       "175                          1.56      835  \n",
       "176                          1.62      840  \n",
       "177                          1.60      560  \n",
       "\n",
       "[178 rows x 13 columns]"
      ]
     },
     "execution_count": 145,
     "metadata": {},
     "output_type": "execute_result"
    }
   ],
   "source": [
    "X"
   ]
  },
  {
   "cell_type": "code",
   "execution_count": 146,
   "id": "974c157a",
   "metadata": {
    "colab": {
     "base_uri": "https://localhost:8080/"
    },
    "id": "0n78P9LvIBZU",
    "outputId": "a4966ff4-fd9c-448b-a1a0-611d1518f76d"
   },
   "outputs": [
    {
     "data": {
      "text/plain": [
       "class    int64\n",
       "dtype: object"
      ]
     },
     "execution_count": 146,
     "metadata": {},
     "output_type": "execute_result"
    }
   ],
   "source": [
    "y.dtypes"
   ]
  },
  {
   "cell_type": "markdown",
   "id": "54715df0",
   "metadata": {
    "id": "WidrnZ3QIBZU"
   },
   "source": [
    "1. Split the data into training and testing(20%). Scale the data."
   ]
  },
  {
   "cell_type": "code",
   "execution_count": 147,
   "id": "ca80ce2a",
   "metadata": {
    "id": "qVc9Y1wNIBZU"
   },
   "outputs": [],
   "source": [
    "from sklearn.preprocessing import StandardScaler\n",
    "from sklearn.model_selection import train_test_split\n",
    "X_train, X_test, y_train, y_test = train_test_split(X, y, test_size = 0.2,\n",
    "                                                   random_state = 5220)\n",
    "scaler = StandardScaler()\n",
    "X_train_scaled = scaler.fit_transform(X_train)\n",
    "X_test_scaled = scaler.transform(X_test)"
   ]
  },
  {
   "cell_type": "code",
   "execution_count": 148,
   "id": "c192e550",
   "metadata": {
    "colab": {
     "base_uri": "https://localhost:8080/",
     "height": 424
    },
    "id": "xfnraySeIBZU",
    "outputId": "7d596a18-26df-4850-93d8-636ecd3292b3"
   },
   "outputs": [
    {
     "data": {
      "text/html": [
       "<div>\n",
       "<style scoped>\n",
       "    .dataframe tbody tr th:only-of-type {\n",
       "        vertical-align: middle;\n",
       "    }\n",
       "\n",
       "    .dataframe tbody tr th {\n",
       "        vertical-align: top;\n",
       "    }\n",
       "\n",
       "    .dataframe thead th {\n",
       "        text-align: right;\n",
       "    }\n",
       "</style>\n",
       "<table border=\"1\" class=\"dataframe\">\n",
       "  <thead>\n",
       "    <tr style=\"text-align: right;\">\n",
       "      <th></th>\n",
       "      <th>Alcohol</th>\n",
       "      <th>Malicacid</th>\n",
       "    </tr>\n",
       "  </thead>\n",
       "  <tbody>\n",
       "    <tr>\n",
       "      <td>169</td>\n",
       "      <td>13.40</td>\n",
       "      <td>4.60</td>\n",
       "    </tr>\n",
       "    <tr>\n",
       "      <td>8</td>\n",
       "      <td>14.83</td>\n",
       "      <td>1.64</td>\n",
       "    </tr>\n",
       "    <tr>\n",
       "      <td>115</td>\n",
       "      <td>11.03</td>\n",
       "      <td>1.51</td>\n",
       "    </tr>\n",
       "    <tr>\n",
       "      <td>88</td>\n",
       "      <td>11.64</td>\n",
       "      <td>2.06</td>\n",
       "    </tr>\n",
       "    <tr>\n",
       "      <td>15</td>\n",
       "      <td>13.63</td>\n",
       "      <td>1.81</td>\n",
       "    </tr>\n",
       "    <tr>\n",
       "      <td>...</td>\n",
       "      <td>...</td>\n",
       "      <td>...</td>\n",
       "    </tr>\n",
       "    <tr>\n",
       "      <td>26</td>\n",
       "      <td>13.39</td>\n",
       "      <td>1.77</td>\n",
       "    </tr>\n",
       "    <tr>\n",
       "      <td>123</td>\n",
       "      <td>13.05</td>\n",
       "      <td>5.80</td>\n",
       "    </tr>\n",
       "    <tr>\n",
       "      <td>171</td>\n",
       "      <td>12.77</td>\n",
       "      <td>2.39</td>\n",
       "    </tr>\n",
       "    <tr>\n",
       "      <td>60</td>\n",
       "      <td>12.33</td>\n",
       "      <td>1.10</td>\n",
       "    </tr>\n",
       "    <tr>\n",
       "      <td>3</td>\n",
       "      <td>14.37</td>\n",
       "      <td>1.95</td>\n",
       "    </tr>\n",
       "  </tbody>\n",
       "</table>\n",
       "<p>142 rows × 2 columns</p>\n",
       "</div>"
      ],
      "text/plain": [
       "     Alcohol  Malicacid\n",
       "169    13.40       4.60\n",
       "8      14.83       1.64\n",
       "115    11.03       1.51\n",
       "88     11.64       2.06\n",
       "15     13.63       1.81\n",
       "..       ...        ...\n",
       "26     13.39       1.77\n",
       "123    13.05       5.80\n",
       "171    12.77       2.39\n",
       "60     12.33       1.10\n",
       "3      14.37       1.95\n",
       "\n",
       "[142 rows x 2 columns]"
      ]
     },
     "execution_count": 148,
     "metadata": {},
     "output_type": "execute_result"
    }
   ],
   "source": [
    "X_train.iloc[:, :2]"
   ]
  },
  {
   "cell_type": "code",
   "execution_count": 149,
   "id": "92d470c7",
   "metadata": {
    "colab": {
     "base_uri": "https://localhost:8080/"
    },
    "id": "PRWatBobIBZV",
    "outputId": "35e19be9-98ba-46d0-d541-dd81390a4a59"
   },
   "outputs": [
    {
     "data": {
      "text/plain": [
       "(142, 2)"
      ]
     },
     "execution_count": 149,
     "metadata": {},
     "output_type": "execute_result"
    }
   ],
   "source": [
    "X_train_scaled[:, [0,1]].shape"
   ]
  },
  {
   "cell_type": "markdown",
   "id": "a68e52d5",
   "metadata": {
    "id": "tbK8luJDIBZV"
   },
   "source": [
    "2. Fit a SVM model, using the type of wine as the target value, and Alcohol\tand Malicacid as the features. Report the classification accuracy."
   ]
  },
  {
   "cell_type": "code",
   "execution_count": 150,
   "id": "2e411edb",
   "metadata": {
    "colab": {
     "base_uri": "https://localhost:8080/"
    },
    "id": "eGUh1DwkIBZV",
    "outputId": "f4f7a900-61c1-4789-a093-193af7e81c63"
   },
   "outputs": [
    {
     "name": "stdout",
     "output_type": "stream",
     "text": [
      "Accuracy: 63.89%\n"
     ]
    }
   ],
   "source": [
    "from sklearn.svm import SVC\n",
    "from sklearn.metrics import accuracy_score\n",
    "import warnings\n",
    "warnings.filterwarnings('ignore')\n",
    "svm_classifier = SVC(kernel=\"linear\")\n",
    "\n",
    "\n",
    "svm_classifier.fit(X_train_scaled[:, [0, 1]], y_train)\n",
    "\n",
    "\n",
    "y_pred = svm_classifier.predict(X_test_scaled[:, [0, 1]])\n",
    "\n",
    "# Calculate the accuracy of the classifier\n",
    "accuracy = accuracy_score(y_test, y_pred)\n",
    "\n",
    "# Print the accuracy\n",
    "print(f\"Accuracy: {accuracy * 100:.2f}%\")"
   ]
  },
  {
   "cell_type": "markdown",
   "id": "431730ab",
   "metadata": {
    "id": "uihf_DESIBZV"
   },
   "source": [
    "3. Visualize the result from previous question."
   ]
  },
  {
   "cell_type": "code",
   "execution_count": 151,
   "id": "cbc208a2",
   "metadata": {
    "colab": {
     "base_uri": "https://localhost:8080/",
     "height": 472
    },
    "id": "FxEIArgPIBZV",
    "outputId": "c665b524-e8c8-4113-89cf-f8c3fc9a356e"
   },
   "outputs": [
    {
     "data": {
      "image/png": "[encoded data removed]",
      "text/plain": [
       "<Figure size 432x288 with 1 Axes>"
      ]
     },
     "metadata": {
      "needs_background": "light"
     },
     "output_type": "display_data"
    }
   ],
   "source": [
    "\n",
    "import numpy as np\n",
    "import matplotlib.pyplot as plt\n",
    "# Define the range for the meshgrid\n",
    "x_min, x_max = X_train_scaled[:, 0].min() - 0.5, X_train_scaled[:, 0].max() + 0.5\n",
    "y_min, y_max = X_train_scaled[:, 1].min() - 0.5, X_train_scaled[:, 1].max() + 0.5\n",
    "\n",
    "# Create a meshgrid of points to make predictions\n",
    "xx, yy = np.meshgrid(np.arange(x_min, x_max, 0.01), np.arange(y_min, y_max, 0.01))\n",
    "grid_points = np.c_[xx.ravel(), yy.ravel()]\n",
    "\n",
    "# Make predictions on the meshgrid\n",
    "Z = svm_classifier.predict(grid_points)\n",
    "Z = Z.reshape(xx.shape)\n",
    "\n",
    "# Plot the decision boundary\n",
    "plt.contourf(xx, yy, Z, alpha=0.3, cmap='viridis')\n",
    "\n",
    "# Scatter plot of training points\n",
    "plt.scatter(X_train_scaled[:, 0], X_train_scaled[:, 1], c=y_train['class'], edgecolor='k', cmap='viridis')\n",
    "\n",
    "plt.xlabel('Feature 1 (scaled)')\n",
    "plt.ylabel('Feature 2 (scaled)')\n",
    "plt.title('SVM Decision Boundary and Training Points')\n",
    "plt.show()\n"
   ]
  },
  {
   "cell_type": "markdown",
   "id": "4d72ccab",
   "metadata": {
    "id": "nAWMqfevIBZV"
   },
   "source": [
    "4. Fit the SVM model, using all features and type of wines as the target value. Divide the training data into training and validation. Use the validation part to tune the parameter of kernel type and the value of C and then the training part to fit the model. Report the classification report table on test data, as well as the best parameters."
   ]
  },
  {
   "cell_type": "code",
   "execution_count": 152,
   "id": "714517ca",
   "metadata": {
    "colab": {
     "base_uri": "https://localhost:8080/"
    },
    "id": "FHQdMHtfIBZW",
    "outputId": "65d881a8-e82d-4374-9b55-3f2cddddc1e2"
   },
   "outputs": [
    {
     "name": "stdout",
     "output_type": "stream",
     "text": [
      "Best Parameters: {'C': 0.01, 'kernel': 'linear'}\n",
      "Classification Report:\n",
      "               precision    recall  f1-score   support\n",
      "\n",
      "           1       1.00      0.94      0.97        17\n",
      "           2       0.73      1.00      0.84         8\n",
      "           3       1.00      0.82      0.90        11\n",
      "\n",
      "    accuracy                           0.92        36\n",
      "   macro avg       0.91      0.92      0.90        36\n",
      "weighted avg       0.94      0.92      0.92        36\n",
      "\n",
      "accuracy: 0.9166666666666666\n"
     ]
    }
   ],
   "source": [
    "import warnings\n",
    "warnings.filterwarnings(\"ignore\")\n",
    "import numpy as np\n",
    "import pandas as pd\n",
    "from sklearn.model_selection import train_test_split, GridSearchCV\n",
    "from sklearn.svm import SVC\n",
    "from sklearn.metrics import classification_report\n",
    "\n",
    "X_train, X_test, y_train, y_test = train_test_split(X, y, test_size=0.2, random_state=5220)\n",
    "\n",
    "X_train, X_val, y_train, y_val = train_test_split(X_train, y_train, test_size=0.1, random_state=5200)\n",
    "\n",
    "param_grid = {\n",
    "    'kernel': ['linear', 'poly', 'rbf', 'sigmoid'],\n",
    "    'C': [0.01, 0.1, 1, 10],\n",
    "    \n",
    "}\n",
    "# Create an SVM classifier\n",
    "svm_class = SVC()\n",
    "\n",
    "# Perform hyperparameter tuning using GridSearchCV on the validation set\n",
    "grid_search = GridSearchCV(svm_classifier, param_grid, cv=5)\n",
    "grid_search.fit(X_val, y_val)\n",
    "\n",
    "# Get the best hyperparameters from the grid search\n",
    "best_params = grid_search.best_params_\n",
    "\n",
    "# Train the SVM model on the training data with the best hyperparameters\n",
    "best_svm_classifier = SVC(**best_params)\n",
    "best_svm_classifier.fit(X_train, y_train)\n",
    "\n",
    "# Evaluate the model on the test data\n",
    "y_pred = best_svm_classifier.predict(X_test)\n",
    "\n",
    "accuracy = accuracy_score(y_test, y_pred)\n",
    "\n",
    "classification_rep = classification_report(y_test, y_pred, target_names=wine.data.target_names)\n",
    "print(\"Best Parameters:\", best_params)\n",
    "print(\"Classification Report:\\n\", classification_rep)\n",
    "print(\"accuracy:\",accuracy)"
   ]
  },
  {
   "cell_type": "markdown",
   "id": "e85c7fa1",
   "metadata": {
    "id": "D3LZ9IXjIBZW"
   },
   "source": [
    "### Question 2: Explain the concepts (20)"
   ]
  },
  {
   "cell_type": "markdown",
   "id": "7bdef343",
   "metadata": {
    "id": "NTXwA0VyIBZX"
   },
   "source": [
    "1. Explain what is margin and support vector in the SVM (5)"
   ]
  },
  {
   "cell_type": "markdown",
   "id": "5347302c",
   "metadata": {
    "id": "wwiG4GNGIBZX"
   },
   "source": [
    "Margin is the distance between the hyperplane(decision boundry) and the nearest data points from each class. It represents the separation between different classes and is a measure of how well the model generalizes to unseen data.The optimal hyperplane is the one that maximizes the margin while correctly classifying the training data.\n",
    "\n",
    "Support Vectors are the data points closest to the hyperplane.The margins are drawn wrt to the closest support vectors.They are the critical data points that, if removed or altered, could potentially change the position of the decision boundary.In an SVM, the optimal hyperplane is determined by these support vectors. They are the instances from the training data that are most important for defining the decision boundary. \n"
   ]
  },
  {
   "cell_type": "markdown",
   "id": "273b94a0",
   "metadata": {
    "id": "wl1eDVhUIBZX"
   },
   "source": [
    "2. Explain the difference and similarity between SVC and SVR (10)"
   ]
  },
  {
   "cell_type": "markdown",
   "id": "e5ecac39",
   "metadata": {},
   "source": [
    "Differences:\n",
    "SVC (Support Vector Classification): It is used for classification tasks where the goal is to categorize data points into different classes. Output is discrete class labels.\n",
    "The hinge loss function is generally used, which penalizes misclassifications.\n",
    "Aims to find the hyperplane that maximizes the margin between different classes for a more general model.\n",
    "Determines a decision boundary that separates different classes.\n",
    "\n",
    "SVR (Support Vector Regression): It is used for regression tasks where the goal is to predict a continuous output variable.\n",
    "The output is continuous variable.\n",
    "Uses an epsilon-insensitive loss function, which allows for a certain tolerance in predicting the target variable.\n",
    "Aims to find the hyperplane that best fits the training data within a certain tolerance.\n",
    "Determines a regression line (or hyperplane) that predicts the target variable.\n",
    "\n",
    "Similarities:\n",
    "Both SVC and SVR use kernels, allowing them to operate effectively in higher-dimensional feature spaces.\n",
    "Rely on support vectors, which are the data points that are most crucial in defining the decision boundary or regression line.\n",
    "Both SVC and SVR involve a regularization parameter (often denoted as C), which controls the trade-off between achieving a low error on the training data and maintaining a simple model.\n",
    "Both can use various kernel functions, such as linear, polynomial, radial basis function (RBF), or sigmoid\n"
   ]
  },
  {
   "cell_type": "markdown",
   "id": "23f06869",
   "metadata": {
    "id": "oxz0jbGBIBZX"
   },
   "source": [
    "3. Expalin the difference of the definition of error in SVR and linear regression (5)"
   ]
  },
  {
   "cell_type": "markdown",
   "id": "55070388",
   "metadata": {
    "id": "XecWP6dnIBZX"
   },
   "source": [
    "In linear regression, the objective is to find the line that best fits the given data points. The standard approach is to minimize the sum of squared differences between the predicted values and the actual values. This is known as the Mean Squared Error (MSE) or the Residual Sum of Squares (RSS).\n",
    "\n",
    "\n",
    "\n",
    "In SVR, the objective is to find a hyperplane that captures, within a certain tolerance, as many data points as possible. Instead of minimizing the error for all data points, SVR introduces a margin of tolerance(epsilon,ϵ) and focuses on minimizing the error within this margin. The error for a data point is the difference between the predicted and actual values, subject to the constraint that it should be within the tolerance margin.\n",
    "\n",
    "\n",
    "While Linear Regression minimizes the sum of squared differences for all data points, SVR minimizes the error within a tolerance margin, allowing for deviations within that margin. The epsilon-insensitive loss function in SVR gives the model flexibility in handling errors that fall within the specified margin."
   ]
  },
  {
   "cell_type": "markdown",
   "id": "864c734b",
   "metadata": {
    "id": "1tOetzPJIBZX"
   },
   "source": [
    "### Question 3: SVM with Gradient descend (30)\n",
    "\n",
    "Using the follwing structure to implement the SVM with gradient descend. Test your functions with a simulated data."
   ]
  },
  {
   "cell_type": "code",
   "execution_count": 190,
   "id": "a717f161",
   "metadata": {
    "colab": {
     "base_uri": "https://localhost:8080/"
    },
    "id": "V8OgUkPfIBZX",
    "outputId": "a21ea09a-ee75-4d22-f502-dc6e65e3a9f7"
   },
   "outputs": [
    {
     "name": "stdout",
     "output_type": "stream",
     "text": [
      "Accuracy: 66.67%\n"
     ]
    }
   ],
   "source": [
    "import numpy as np\n",
    "\n",
    "class LinearSVM:\n",
    "    def __init__(self, learning_rate=0.01, num_epochs=1000, C=1.0):\n",
    "        self.learning_rate = learning_rate\n",
    "        self.num_epochs = num_epochs\n",
    "        self.C = C\n",
    "        self.W = None\n",
    "        self.b = None\n",
    "\n",
    "    def fit(self, X, y):\n",
    "        samples, features = X.shape\n",
    "        y1 = np.where(y <= 0, -1, 1)\n",
    "\n",
    "        # Initialize weights and bias\n",
    "        self.W = np.zeros(features)\n",
    "        self.b = 0\n",
    "\n",
    "        # Gradient descent\n",
    "        for epoch in range(self.num_epochs):\n",
    "            for i in range(samples):\n",
    "                if y1[i] * (np.dot(X[i], self.W) - self.b) >= 1:\n",
    "                    \n",
    "                    self.W -= self.learning_rate * (2 * self.C * self.W)\n",
    "                else:\n",
    "                    # Update the weights and bias\n",
    "                    self.W -= self.learning_rate * (2 * self.C * self.W - np.dot(X[i], y1[i]))\n",
    "                    self.b -= self.learning_rate * y1[i]\n",
    "\n",
    "    def predict(self, X):\n",
    "        return np.sign(np.dot(X, self.W) - self.b)\n",
    "\n",
    "\n",
    "if __name__ == '__main__':\n",
    "\n",
    "\n",
    "    np.random.seed(98)\n",
    "    X = np.random.randn(300, 2)\n",
    "    y = np.where(X[:, 0]**2 + X[:, 1]**2 > 1, 1, -1)\n",
    "\n",
    "    # Create and train the SVM\n",
    "    svm = LinearSVM(learning_rate=0.01, num_epochs=1000, C=1.0)\n",
    "    svm.fit(X, y)\n",
    "\n",
    "    # Predict and print accuracy\n",
    "    y_pred = svm.predict(X)\n",
    "    accuracy = np.mean(y_pred == y)\n",
    "    print(f\"Accuracy: {accuracy * 100:.2f}%\")\n"
   ]
  },
  {
   "cell_type": "code",
   "execution_count": null,
   "id": "9059537c",
   "metadata": {},
   "outputs": [],
   "source": []
  }
 ],
 "metadata": {
  "colab": {
   "provenance": []
  },
  "kernelspec": {
   "display_name": "Python 3 (ipykernel)",
   "language": "python",
   "name": "python3"
  },
  "language_info": {
   "codemirror_mode": {
    "name": "ipython",
    "version": 3
   },
   "file_extension": ".py",
   "mimetype": "text/x-python",
   "name": "python",
   "nbconvert_exporter": "python",
   "pygments_lexer": "ipython3",
   "version": "3.11.5"
  }
 },
 "nbformat": 4,
 "nbformat_minor": 5
}
